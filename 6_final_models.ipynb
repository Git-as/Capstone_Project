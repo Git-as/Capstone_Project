{
 "cells": [
  {
   "cell_type": "markdown",
   "metadata": {},
   "source": [
    "## 6. Data Modelling"
   ]
  },
  {
   "cell_type": "markdown",
   "metadata": {},
   "source": [
    "### A number of models were attempted including:\n",
    "* Support Vector Classifier (SVC)\n",
    "* Logistic Regression\n",
    "* K Nearest Neighbours\n",
    "* Decision Tree\n",
    "* Random Forest"
   ]
  },
  {
   "cell_type": "code",
   "execution_count": 1,
   "metadata": {},
   "outputs": [],
   "source": [
    "import pandas as pd\n",
    "import pandas as pd\n",
    "import numpy as np\n",
    "from scipy import sparse\n",
    "from sklearn.feature_extraction.text import CountVectorizer, TfidfVectorizer\n",
    "from sklearn.preprocessing import OneHotEncoder, StandardScaler\n",
    "from sklearn.compose import ColumnTransformer, make_column_transformer, make_column_selector\n",
    "from sklearn.linear_model import LinearRegression, Ridge, Lasso, ElasticNet, RidgeCV, LassoCV, ElasticNetCV\n",
    "from sklearn.model_selection import train_test_split, cross_val_score, GridSearchCV\n",
    "from sklearn.pipeline import Pipeline, make_pipeline\n",
    "import re\n",
    "from sklearn.svm import SVC, LinearSVC\n",
    "from sklearn.model_selection import cross_val_score\n",
    "from sklearn.linear_model import LogisticRegression, LogisticRegressionCV\n",
    "from sklearn.neighbors import KNeighborsClassifier\n",
    "from sklearn.model_selection import GridSearchCV\n",
    "from sklearn.tree import DecisionTreeClassifier\n",
    "from sklearn.ensemble import RandomForestClassifier\n",
    "from sklearn.model_selection import RandomizedSearchCV\n",
    "import scikitplot as skplt\n",
    "import matplotlib.pyplot as plt\n",
    "from sklearn.metrics import classification_report, confusion_matrix"
   ]
  },
  {
   "cell_type": "code",
   "execution_count": 2,
   "metadata": {},
   "outputs": [],
   "source": [
    "combined_18_19 = pd.read_csv('combined_18_19.csv')"
   ]
  },
  {
   "cell_type": "markdown",
   "metadata": {},
   "source": [
    "### Step 1: I had initially used the SIC (standard industrial classification) code to classify the industry of each company. However, I noted that since these categories were very specific, it would be more insightful to look at broader groups of categories for example 'Financial and insurance activities' rather than 'Activities of financial services holding companies' and 'Activities of investment trusts'.\n",
    "\n",
    "### I first had to define the groups which I did using the government website, which alreadt specified the categories (resources.companieshouse.gov.uk/sic/). I then had to create a column with the updated grouping, taking into consideration the fact that some companies had more than one category. The new category column comprised of a list of all categories that applied, separated by /n. "
   ]
  },
  {
   "cell_type": "code",
   "execution_count": 3,
   "metadata": {},
   "outputs": [],
   "source": [
    "Agriculture_Forestry_and_Fishing = ['01110', '01120', '01130' '01140', '01150', '01160', '01190', '01210', '01220', \n",
    "                                    '01230', '01240', '01250', '01260', '01270', '01280', '01290', '01300', '01410', \n",
    "                                    '01420', '01430', '01440', '01450',  '01460', '01470', '01490', '01500', \n",
    "                                    '01610', '01621', '01629', '01630', '01640', '01700', '02100', '02200', '02300', \n",
    "                                    '02400', '03110', '03120', '03210', '03220']\n",
    "\n",
    "Mining_and_Quarrying = ['05101', '05102', '05200', '06100', '06200', '07100', '07210', '07290', '08110', '08120',\n",
    "'08910', '08920', '08930','08990', '09100', '09900']\n",
    "    \n",
    "Manufacturing = [\n",
    "'10110', '10120', '10130', '10200', '10310', '10320', '10390', '10410', '10420', '10511',\n",
    "'10512', '10519', '10520', '10611', '10612', '10620', '10710', '10720', '10730', '10810', '10821', '10822', '10831',\n",
    "'10832', '10840', '10850', '10860', '10890', '10910', '10920', '11010', '11020', '11030', '11040', '11050', '11060', \n",
    "    '11070', '12000', '13100', '13200', '13300', '13910', '13921', '13922', '13923', '13931', '13939', '13940', \n",
    "    '13950', '13960', '13990', '14110', '14120', '14131', '14132', '14141', '14142', '14190', '14200', '14310', \n",
    "    '14390', '15110', '15120', '15200', '16100', '16210', '16220', '16230', '16240', '16290', '17110', \n",
    "    '17120', '17211', '17219', '17220', '17230', '17240', '17290', '18110', '18121', '18129', '18130', '18140', \n",
    "    '18201', '18202', '18203', '19100', '19201', '19209', '20110', '20120', '20130', '20140', '20150', '20160', \n",
    "    '20170', '20200', '20301', '20302', '20411', '20412', '20420', '20510', '20520', '20530', '20590', '20600', \n",
    "    '21100', '21200', '22110', '22190', '22210', '22220', '22230', '22290', '23110', '23120', '23130', '23140', \n",
    "    '23190', '23200', '23310', '23320', '23410', '23420', '23430', '23440', '23490', '23510', '23520', '23610', \n",
    "    '23620', '23630', '23640', '23650', '23690', '23700', '23910', '23990', '24100', '24200', '24310', '24320', \n",
    "    '24330', '24340', '24410', '24420', '24430', '24440', '24450', '24460', '24510', '24520', '24530', '24540', \n",
    "    '25110', '25120', '25210', '25290', '25300', '25400', '25500', '25610', '25620', '25710', '25720', '25730', \n",
    "    '25910', '25920', '25930', '25940', '25990', '26110', '26120', '26200', '26301', '26309', '26400', '26511', \n",
    "    '26512', '26513', '26514', '26520', '26600', '26701', '26702', '26800', '27110', '27120', '27200', '27310', \n",
    "    '27320', '27330', '27400', '27510', '27520', '27900', '28110', '28120', '28131', '28132', '28140', '28150', \n",
    "    '28210', '28220', '28230', '28240', '28250', '28290', '28301', '28302', '28410', '28490', '28910', '28921', \n",
    "    '28922', '28923', '28930', '28940', '28950', '28960', '28990', '29100', '29201', '29202', '29203', '29310', \n",
    "    '29320', '30110', '30120', '30200', '30300', '30400', '30910', '30920', '30990', '31010', '31020', '31030', \n",
    "    '31090', '32110', '32120', '32130', '32200', '32300', '32401','32409', '32500', '32910', '32990', '33110', \n",
    "    '33120', '33130', '33140', '33150', '33160', '33170', '33190', '33200']\n",
    "\n",
    "Electricity_gas_steam_and_air_conditioning_supply = ['35110', '35120', '35130', '35140', '35210', '35220', '35230', \n",
    "                                                     '35300']\n",
    "    \n",
    "Water_supply_sewerage_waste_management_and_remediation_activities = ['36000', '37000', '38110', '38120', '38210', \n",
    "                                                                     '38220', \n",
    "'38310', '38320', '39000'] \n",
    "    \n",
    "Construction = ['41100','41201','41202','42110','42120','42130','42210','42220','42910','42990','43110','43120',\n",
    "'43130','43210','43220','43290','43310','43320','43330','43341','43342','43390','43910','43991','43999']\n",
    "    \n",
    "Wholesale_and_retail_trade_repair_of_motor_vehicles_and_motorcycles = ['45111','45112','45190','45200','45310',\n",
    "'45320','45400','46110','46120','46130','46140','46150','46160','46170','46180','46190','46210','46220','46230',\n",
    "'46240','46310','46320','46330','46341','46342','46350','46360','46370','46380','46390','46410','46420','46431',\n",
    "'46439','46440','46450','46460','46470','46480','46491','46499','46510','46520','46610','46620','46630','46640',\n",
    "'46650','46660','46690','46711','46719','46720','46730','46740','46750','46760','46770','46900','47110','47190',\n",
    "'47210','47220','47230','47240','47250','47260','47290','47300','47410','47421','47429','47430','47510','47520',\n",
    "'47530','47540','47591','47599','47610','47620','47630','47640','47650','47710','47721','47722','47730','47741',\n",
    "'47749','47750','47760','47770','47781','47782','47789','47791','47799','47810','47820','47890','47910','47990']\n",
    "    \n",
    "Transportation_and_storage = ['49100','49200','49311','49319','49320','49390','49410','49420','49500','50100',\n",
    "'50200','50300','50400','51101','51102','51210','51220','52101','52102','52103','52211','52212','52213','52219',\n",
    "                              '52220','52230','52241','52242','52243','52290','53100','53201','53202']\n",
    "    \n",
    "Accommodation_and_food_service_activities = ['55100','55201','55202','55209','55300','55900','56101','56102','56103',\n",
    "'56210','56290','56301','56302']\n",
    "    \n",
    "Information_and_communication = ['58110','58120','58130','58141','58142','58190','58210','58290','59111','59112',\n",
    "'59113','59120','59131','59132','59133','59140','59200','60100','60200','61100','61200','61300','61900','62011',\n",
    "'62012','62020','62030','62090','63110','63120','63910','63990']\n",
    "\n",
    "Financial_and_insurance_activities = ['64110','64191','64192','64201','64202','64203','64204',\n",
    "'64205','64209','64301','64302','64303','64304','64305','64306','64910','64921','64922','64929','64991','64992',\n",
    "'64999','65110','65120','65201','65202','65300','66110','66120','66190','66210','66220','66290','66300']\n",
    "    \n",
    "Real_estate_activities = ['68100','68201','68202','68209','68310','68320']\n",
    "    \n",
    "Professional_scientific_and_technical_activities = ['69101','69102','69109','69201','69202',\n",
    "'69203','70100','70210','70221','70229','71111','71112','71121','71122','71129','71200','72110','72190',\n",
    "'72200','73110','73120','73200','74100','74201','74202','74203','74209','74300','74901','74902','74909','74990',\n",
    "                                                    '75000']\n",
    "    \n",
    "Administrative_and_support_service_activities = ['77110','77120','77210','77220','77291','77299',\n",
    "'77310','77320','77330','77341','77342','77351','77352','77390','77400','78101','78109','78200',\n",
    "'78300','79110','79120','79901','79909','80100','80200','80300','81100','81210','81221','81222',\n",
    "'81223','81229','81291','81299','81300','82110','82190','82200','82301','82302','82911','82912','82920','82990']\n",
    "    \n",
    "Public_administration_and_defence_compulsory_social_security = ['84110','84120','84130','84210',\n",
    "'84220','84230','84240','84250','84300']\n",
    "    \n",
    "Education = ['85100','85200','85310','85320','85410','85421','85422','85510',\n",
    "             '85520','85530','85590','85600']\n",
    "\n",
    "Human_health_and_social_work_activities = ['86101','86102','86210','86220',\n",
    "                                           '86230','86900','87100','87200','87300','87900','88100','88910','88990']\n",
    "    \n",
    "Arts_entertainment_and_recreation = ['90010', '90020', '90030', '90040', '91011', '91012', '91020','91030', '91040',\n",
    "                                     '92000', '93110','93120', '93130','93191', '93199','93210', '93290']\n",
    "    \n",
    "Other_service_activities = ['94110', '94120', '94200', '94910', '94920', '94990', \n",
    "                            '95110', '95120', '95210', '95220', '95230', '95240', \n",
    "                            '95250', '95290', '96010', '96020', '96030', '96040', '96090']\n",
    "\n",
    "Activities_of_households_as_employers = ['97000', '98000', '98100', '98200']\n",
    "    \n",
    "Activities_of_extraterritorial_organisations_and_bodies = ['99000', '99999']"
   ]
  },
  {
   "cell_type": "code",
   "execution_count": 4,
   "metadata": {},
   "outputs": [],
   "source": [
    "new_sic_code = []\n",
    "for code in combined_18_19['SicCodes']:\n",
    "    company_SIC_list = []\n",
    "    SIC_codes_list = re.split('[^0-9]', code)\n",
    "    for i in SIC_codes_list:    \n",
    "        if i in Agriculture_Forestry_and_Fishing:\n",
    "            company_SIC_list.append('Agriculture_Forestry_and_Fishing')\n",
    "        elif i in Mining_and_Quarrying:\n",
    "            company_SIC_list.append('Mining_and_Quarrying')\n",
    "        elif i in Manufacturing:\n",
    "            company_SIC_list.append('Manufacturing')           \n",
    "        elif i in Electricity_gas_steam_and_air_conditioning_supply:\n",
    "            company_SIC_list.append('Electricity_gas_steam_and_air_conditioning_supply')\n",
    "        elif i in Water_supply_sewerage_waste_management_and_remediation_activities:\n",
    "            company_SIC_list.append('Water_supply_sewerage_waste_management_and_remediation_activities')\n",
    "        elif i in Construction:\n",
    "            company_SIC_list.append('Construction')        \n",
    "        elif i in Wholesale_and_retail_trade_repair_of_motor_vehicles_and_motorcycles:\n",
    "            company_SIC_list.append('Wholesale_and_retail_trade_repair_of_motor_vehicles_and_motorcycles')\n",
    "        elif i in Transportation_and_storage:\n",
    "            company_SIC_list.append('Transportation_and_storage')\n",
    "        elif i in Accommodation_and_food_service_activities:\n",
    "            company_SIC_list.append('Accommodation_and_food_service_activities')\n",
    "        elif i in Information_and_communication:\n",
    "            company_SIC_list.append('Information_and_communication')          \n",
    "        elif i in Financial_and_insurance_activities:\n",
    "            company_SIC_list.append('Financial_and_insurance_activities')\n",
    "        elif i in Real_estate_activities:\n",
    "            company_SIC_list.append('Real_estate_activities')\n",
    "        elif i in Professional_scientific_and_technical_activities:\n",
    "            company_SIC_list.append('Professional_scientific_and_technical_activities')    \n",
    "        elif i in Administrative_and_support_service_activities:\n",
    "            company_SIC_list.append('Administrative_and_support_service_activities')\n",
    "        elif i in Public_administration_and_defence_compulsory_social_security:\n",
    "            company_SIC_list.append('Public_administration_and_defence_compulsory_social_security')\n",
    "        elif i in Education:\n",
    "            company_SIC_list.append('Education')     \n",
    "        elif i in Human_health_and_social_work_activities:\n",
    "            company_SIC_list.append('Human_health_and_social_work_activities')\n",
    "        elif i in Arts_entertainment_and_recreation:\n",
    "            company_SIC_list.append('Arts_entertainment_and_recreation')\n",
    "        elif i in Other_service_activities:\n",
    "            company_SIC_list.append('Other_service_activities')     \n",
    "        elif i in Activities_of_households_as_employers:\n",
    "            company_SIC_list.append('Activities_of_households_as_employers')\n",
    "        elif i in Activities_of_extraterritorial_organisations_and_bodies:\n",
    "            company_SIC_list.append('Activities_of_extraterritorial_organisations_and_bodies')\n",
    "    new_sic_code.append(company_SIC_list)"
   ]
  },
  {
   "cell_type": "code",
   "execution_count": 5,
   "metadata": {},
   "outputs": [
    {
     "data": {
      "text/plain": [
       "[['Financial_and_insurance_activities'],\n",
       " ['Transportation_and_storage', 'Transportation_and_storage'],\n",
       " ['Manufacturing'],\n",
       " ['Professional_scientific_and_technical_activities',\n",
       "  'Other_service_activities'],\n",
       " ['Financial_and_insurance_activities'],\n",
       " ['Manufacturing'],\n",
       " ['Information_and_communication', 'Information_and_communication'],\n",
       " ['Accommodation_and_food_service_activities',\n",
       "  'Accommodation_and_food_service_activities'],\n",
       " ['Financial_and_insurance_activities'],\n",
       " ['Transportation_and_storage'],\n",
       " ['Administrative_and_support_service_activities']]"
      ]
     },
     "execution_count": 5,
     "metadata": {},
     "output_type": "execute_result"
    }
   ],
   "source": [
    "new_sic_code[0:11]"
   ]
  },
  {
   "cell_type": "code",
   "execution_count": 6,
   "metadata": {},
   "outputs": [],
   "source": [
    "def remove_duplicates_list(x):\n",
    "    return list(dict.fromkeys(x))\n",
    "SIC_group = []\n",
    "for SIC_list in new_sic_code:\n",
    "    SIC_group.append(remove_duplicates_list(SIC_list))"
   ]
  },
  {
   "cell_type": "code",
   "execution_count": 7,
   "metadata": {},
   "outputs": [
    {
     "data": {
      "text/plain": [
       "6373"
      ]
     },
     "execution_count": 7,
     "metadata": {},
     "output_type": "execute_result"
    }
   ],
   "source": [
    "len(SIC_group)"
   ]
  },
  {
   "cell_type": "code",
   "execution_count": 8,
   "metadata": {},
   "outputs": [],
   "source": [
    "final_SIC_group = []\n",
    "for company_SIC in SIC_group:\n",
    "    new_company_SIC = ''\n",
    "    if len(company_SIC) == 0:\n",
    "        None_list = []\n",
    "        None_list.append(\"None\")\n",
    "        final_SIC_group.append(None_list)\n",
    "    if len(company_SIC) == 1:\n",
    "        final_SIC_group.append(company_SIC)\n",
    "    if len(company_SIC) > 1:\n",
    "        list_new_company_SIC = []\n",
    "        length_list = int(len(company_SIC))\n",
    "        for i in range(0,length_list):\n",
    "            company_SIC[i] = company_SIC[i]+\", \\n\"\n",
    "            new_company_SIC += company_SIC[i]\n",
    "        new_company_SIC = new_company_SIC[:-3]\n",
    "        list_new_company_SIC.append(new_company_SIC)\n",
    "        final_SIC_group.append(list_new_company_SIC)"
   ]
  },
  {
   "cell_type": "code",
   "execution_count": 9,
   "metadata": {},
   "outputs": [
    {
     "data": {
      "text/plain": [
       "[['Financial_and_insurance_activities'],\n",
       " ['Transportation_and_storage'],\n",
       " ['Manufacturing'],\n",
       " ['Professional_scientific_and_technical_activities, \\nOther_service_activities'],\n",
       " ['Financial_and_insurance_activities'],\n",
       " ['Manufacturing'],\n",
       " ['Information_and_communication'],\n",
       " ['Accommodation_and_food_service_activities'],\n",
       " ['Financial_and_insurance_activities'],\n",
       " ['Transportation_and_storage'],\n",
       " ['Administrative_and_support_service_activities']]"
      ]
     },
     "execution_count": 9,
     "metadata": {},
     "output_type": "execute_result"
    }
   ],
   "source": [
    "final_SIC_group[0:11]"
   ]
  },
  {
   "cell_type": "code",
   "execution_count": 10,
   "metadata": {},
   "outputs": [],
   "source": [
    "flat_SIC_group = [item for sublist in final_SIC_group for item in sublist]"
   ]
  },
  {
   "cell_type": "code",
   "execution_count": 11,
   "metadata": {},
   "outputs": [
    {
     "data": {
      "text/plain": [
       "['Financial_and_insurance_activities',\n",
       " 'Transportation_and_storage',\n",
       " 'Manufacturing',\n",
       " 'Professional_scientific_and_technical_activities, \\nOther_service_activities',\n",
       " 'Financial_and_insurance_activities',\n",
       " 'Manufacturing',\n",
       " 'Information_and_communication',\n",
       " 'Accommodation_and_food_service_activities',\n",
       " 'Financial_and_insurance_activities',\n",
       " 'Transportation_and_storage',\n",
       " 'Administrative_and_support_service_activities']"
      ]
     },
     "execution_count": 11,
     "metadata": {},
     "output_type": "execute_result"
    }
   ],
   "source": [
    "flat_SIC_group[0:11]"
   ]
  },
  {
   "cell_type": "code",
   "execution_count": 12,
   "metadata": {},
   "outputs": [],
   "source": [
    "combined_18_19['final_SIC_group'] = flat_SIC_group"
   ]
  },
  {
   "cell_type": "markdown",
   "metadata": {},
   "source": [
    "### Step 2: Some of the 'rating' categories had strings as results rather than floats, which I dealt with by replacing with a score of 2.5 since I did not want to remove these rows of data. "
   ]
  },
  {
   "cell_type": "code",
   "execution_count": 13,
   "metadata": {},
   "outputs": [],
   "source": [
    "combined_18_19['count_5_star'] = combined_18_19['count_5_star'].replace(np.nan, 0)\n",
    "combined_18_19['count_4_star'] = combined_18_19['count_4_star'].replace(np.nan, 0)\n",
    "combined_18_19['work_life_balance'] = combined_18_19['work_life_balance'].replace(np.nan, 2.5)\n",
    "combined_18_19['pay_and_benefits'] = combined_18_19['pay_and_benefits'].replace(np.nan, 2.5)\n",
    "combined_18_19['job_security_and_advancement'] = combined_18_19['job_security_and_advancement'].replace(np.nan, 2.5)\n",
    "combined_18_19['management'] = combined_18_19['management'].replace(np.nan, 2.5)\n",
    "combined_18_19['culture'] = combined_18_19['culture'].replace(np.nan, 2.5)"
   ]
  },
  {
   "cell_type": "code",
   "execution_count": 14,
   "metadata": {},
   "outputs": [
    {
     "name": "stdout",
     "output_type": "stream",
     "text": [
      "<class 'pandas.core.frame.DataFrame'>\n",
      "RangeIndex: 6373 entries, 0 to 6372\n",
      "Data columns (total 46 columns):\n",
      " #   Column                        Non-Null Count  Dtype  \n",
      "---  ------                        --------------  -----  \n",
      " 0   Unnamed: 0                    6373 non-null   object \n",
      " 1   EmployerName_x                6373 non-null   object \n",
      " 2   SicCodes                      6373 non-null   object \n",
      " 3   DiffMeanHourlyPercent         6373 non-null   float64\n",
      " 4   DiffMedianHourlyPercent       6373 non-null   float64\n",
      " 5   DiffMeanBonusPercent          6373 non-null   float64\n",
      " 6   DiffMedianBonusPercent        6373 non-null   float64\n",
      " 7   MaleBonusPercent              6373 non-null   float64\n",
      " 8   FemaleBonusPercent            6373 non-null   float64\n",
      " 9   MaleLowerQuartile             6373 non-null   float64\n",
      " 10  FemaleLowerQuartile           6373 non-null   float64\n",
      " 11  MaleLowerMiddleQuartile       6373 non-null   float64\n",
      " 12  FemaleLowerMiddleQuartile     6373 non-null   float64\n",
      " 13  MaleUpperMiddleQuartile       6373 non-null   float64\n",
      " 14  FemaleUpperMiddleQuartile     6373 non-null   float64\n",
      " 15  MaleTopQuartile               6373 non-null   float64\n",
      " 16  FemaleTopQuartile             6373 non-null   float64\n",
      " 17  EmployerSize                  6373 non-null   object \n",
      " 18  SubmittedAfterTheDeadline     6373 non-null   int64  \n",
      " 19  company_status                6373 non-null   object \n",
      " 20  jurisdiction                  6373 non-null   object \n",
      " 21  registered_address_country    6373 non-null   object \n",
      " 22  company_type                  6373 non-null   object \n",
      " 23  locality                      6373 non-null   object \n",
      " 24  female_final                  6373 non-null   int64  \n",
      " 25  male_final                    6373 non-null   int64  \n",
      " 26  percent_female_officer        6373 non-null   float64\n",
      " 27  no_CompanyLink                6373 non-null   int64  \n",
      " 28  no_ResponsiblePerson          6373 non-null   int64  \n",
      " 29  review_header                 6373 non-null   object \n",
      " 30  review_text                   6373 non-null   object \n",
      " 31  review_pros                   6373 non-null   object \n",
      " 32  review_cons                   6373 non-null   object \n",
      " 33  count_5_star                  6373 non-null   float64\n",
      " 34  count_4_star                  6373 non-null   float64\n",
      " 35  count_3_star                  6373 non-null   float64\n",
      " 36  count_2_star                  6373 non-null   float64\n",
      " 37  count_1_star                  6373 non-null   float64\n",
      " 38  number_of_reviews             6373 non-null   float64\n",
      " 39  company_rating                6373 non-null   float64\n",
      " 40  work_life_balance             6373 non-null   float64\n",
      " 41  pay_and_benefits              6373 non-null   float64\n",
      " 42  job_security_and_advancement  6373 non-null   float64\n",
      " 43  management                    6373 non-null   float64\n",
      " 44  culture                       6373 non-null   float64\n",
      " 45  final_SIC_group               6373 non-null   object \n",
      "dtypes: float64(27), int64(5), object(14)\n",
      "memory usage: 2.2+ MB\n"
     ]
    }
   ],
   "source": [
    "combined_18_19.info()"
   ]
  },
  {
   "cell_type": "markdown",
   "metadata": {},
   "source": [
    "### Step 3: I created a categorical target variable 'DiffMeanHourlyGroup' which assigned a label of either above median 'DiffMeanHourly' or below median 'DiffMeanHourly'. This categorises a company as either having a mean hourly wage gender pay gap above or below median. Above median indicates that on average men are paid more, below median indicates either a lower (below median of 14.5%) pay gap or that women are paid more. "
   ]
  },
  {
   "cell_type": "code",
   "execution_count": 15,
   "metadata": {},
   "outputs": [],
   "source": [
    "combined_18_19['DiffMeanHourlyGroup'] = pd.cut(combined_18_19.DiffMeanHourlyPercent,\n",
    "                     bins=[combined_18_19.DiffMeanHourlyPercent.min()-0.1, \n",
    "                           combined_18_19.DiffMeanHourlyPercent.median(), \n",
    "                           combined_18_19.DiffMeanHourlyPercent.max()+0.01],\n",
    "                     labels=[\"below_median\", \"above_median\"])"
   ]
  },
  {
   "cell_type": "markdown",
   "metadata": {},
   "source": [
    "### Step 4: I defined the target and feature variables below, using the company number as the index for the feature variable dataframe. I reviewed all the data types to ensure they were as expected. "
   ]
  },
  {
   "cell_type": "code",
   "execution_count": 16,
   "metadata": {},
   "outputs": [],
   "source": [
    "X = combined_18_19[['Unnamed: 0',\n",
    "       'EmployerSize', 'final_SIC_group', 'SubmittedAfterTheDeadline', 'company_status',\n",
    "       'jurisdiction', 'registered_address_country', 'company_type',\n",
    "       'locality', 'percent_female_officer',\n",
    "       'no_CompanyLink', 'no_ResponsiblePerson',\n",
    "       'review_cons', 'count_5_star',\n",
    "       'count_4_star', 'count_3_star', 'count_2_star', 'count_1_star',\n",
    "       'number_of_reviews', 'company_rating', 'work_life_balance',\n",
    "       'pay_and_benefits', 'job_security_and_advancement', 'management',\n",
    "       'culture']]\n",
    "\n",
    "y = combined_18_19.DiffMeanHourlyGroup"
   ]
  },
  {
   "cell_type": "code",
   "execution_count": 17,
   "metadata": {},
   "outputs": [
    {
     "data": {
      "text/plain": [
       "below_median    0.502275\n",
       "above_median    0.497725\n",
       "Name: DiffMeanHourlyGroup, dtype: float64"
      ]
     },
     "execution_count": 17,
     "metadata": {},
     "output_type": "execute_result"
    }
   ],
   "source": [
    "combined_18_19.DiffMeanHourlyGroup.value_counts(normalize=True)"
   ]
  },
  {
   "cell_type": "code",
   "execution_count": 18,
   "metadata": {},
   "outputs": [
    {
     "data": {
      "text/html": [
       "<div>\n",
       "<style scoped>\n",
       "    .dataframe tbody tr th:only-of-type {\n",
       "        vertical-align: middle;\n",
       "    }\n",
       "\n",
       "    .dataframe tbody tr th {\n",
       "        vertical-align: top;\n",
       "    }\n",
       "\n",
       "    .dataframe thead th {\n",
       "        text-align: right;\n",
       "    }\n",
       "</style>\n",
       "<table border=\"1\" class=\"dataframe\">\n",
       "  <thead>\n",
       "    <tr style=\"text-align: right;\">\n",
       "      <th></th>\n",
       "      <th>EmployerSize</th>\n",
       "      <th>final_SIC_group</th>\n",
       "      <th>SubmittedAfterTheDeadline</th>\n",
       "      <th>company_status</th>\n",
       "      <th>jurisdiction</th>\n",
       "      <th>registered_address_country</th>\n",
       "      <th>company_type</th>\n",
       "      <th>locality</th>\n",
       "      <th>percent_female_officer</th>\n",
       "      <th>no_CompanyLink</th>\n",
       "      <th>...</th>\n",
       "      <th>count_3_star</th>\n",
       "      <th>count_2_star</th>\n",
       "      <th>count_1_star</th>\n",
       "      <th>number_of_reviews</th>\n",
       "      <th>company_rating</th>\n",
       "      <th>work_life_balance</th>\n",
       "      <th>pay_and_benefits</th>\n",
       "      <th>job_security_and_advancement</th>\n",
       "      <th>management</th>\n",
       "      <th>culture</th>\n",
       "    </tr>\n",
       "    <tr>\n",
       "      <th>Unnamed: 0</th>\n",
       "      <th></th>\n",
       "      <th></th>\n",
       "      <th></th>\n",
       "      <th></th>\n",
       "      <th></th>\n",
       "      <th></th>\n",
       "      <th></th>\n",
       "      <th></th>\n",
       "      <th></th>\n",
       "      <th></th>\n",
       "      <th></th>\n",
       "      <th></th>\n",
       "      <th></th>\n",
       "      <th></th>\n",
       "      <th></th>\n",
       "      <th></th>\n",
       "      <th></th>\n",
       "      <th></th>\n",
       "      <th></th>\n",
       "      <th></th>\n",
       "      <th></th>\n",
       "    </tr>\n",
       "  </thead>\n",
       "  <tbody>\n",
       "    <tr>\n",
       "      <th>00002065</th>\n",
       "      <td>20,000 or more</td>\n",
       "      <td>Financial_and_insurance_activities</td>\n",
       "      <td>0</td>\n",
       "      <td>active</td>\n",
       "      <td>england-wales</td>\n",
       "      <td>None</td>\n",
       "      <td>plc</td>\n",
       "      <td>London</td>\n",
       "      <td>0.258065</td>\n",
       "      <td>0</td>\n",
       "      <td>...</td>\n",
       "      <td>210.0</td>\n",
       "      <td>55.0</td>\n",
       "      <td>51.0</td>\n",
       "      <td>899.0</td>\n",
       "      <td>3.8</td>\n",
       "      <td>3.7</td>\n",
       "      <td>3.7</td>\n",
       "      <td>3.4</td>\n",
       "      <td>3.4</td>\n",
       "      <td>3.6</td>\n",
       "    </tr>\n",
       "    <tr>\n",
       "      <th>00002404</th>\n",
       "      <td>500 to 999</td>\n",
       "      <td>Transportation_and_storage</td>\n",
       "      <td>0</td>\n",
       "      <td>active</td>\n",
       "      <td>england-wales</td>\n",
       "      <td>None</td>\n",
       "      <td>ltd</td>\n",
       "      <td>Hampshire</td>\n",
       "      <td>0.257143</td>\n",
       "      <td>0</td>\n",
       "      <td>...</td>\n",
       "      <td>0.0</td>\n",
       "      <td>0.0</td>\n",
       "      <td>0.0</td>\n",
       "      <td>7.0</td>\n",
       "      <td>4.6</td>\n",
       "      <td>4.6</td>\n",
       "      <td>4.6</td>\n",
       "      <td>4.3</td>\n",
       "      <td>4.4</td>\n",
       "      <td>4.7</td>\n",
       "    </tr>\n",
       "    <tr>\n",
       "      <th>00008614</th>\n",
       "      <td>500 to 999</td>\n",
       "      <td>Manufacturing</td>\n",
       "      <td>0</td>\n",
       "      <td>active</td>\n",
       "      <td>england-wales</td>\n",
       "      <td>England</td>\n",
       "      <td>ltd</td>\n",
       "      <td>Coventry</td>\n",
       "      <td>0.000000</td>\n",
       "      <td>1</td>\n",
       "      <td>...</td>\n",
       "      <td>10.0</td>\n",
       "      <td>5.0</td>\n",
       "      <td>3.0</td>\n",
       "      <td>41.0</td>\n",
       "      <td>3.4</td>\n",
       "      <td>3.4</td>\n",
       "      <td>3.5</td>\n",
       "      <td>2.9</td>\n",
       "      <td>3.0</td>\n",
       "      <td>3.1</td>\n",
       "    </tr>\n",
       "    <tr>\n",
       "      <th>00008848</th>\n",
       "      <td>500 to 999</td>\n",
       "      <td>Professional_scientific_and_technical_activiti...</td>\n",
       "      <td>0</td>\n",
       "      <td>active</td>\n",
       "      <td>england-wales</td>\n",
       "      <td>None</td>\n",
       "      <td>private-limited-guarant-nsc</td>\n",
       "      <td>London</td>\n",
       "      <td>0.225806</td>\n",
       "      <td>1</td>\n",
       "      <td>...</td>\n",
       "      <td>9.0</td>\n",
       "      <td>0.0</td>\n",
       "      <td>3.0</td>\n",
       "      <td>34.0</td>\n",
       "      <td>3.9</td>\n",
       "      <td>3.6</td>\n",
       "      <td>3.2</td>\n",
       "      <td>3.2</td>\n",
       "      <td>3.5</td>\n",
       "      <td>3.9</td>\n",
       "    </tr>\n",
       "    <tr>\n",
       "      <th>00014259</th>\n",
       "      <td>20,000 or more</td>\n",
       "      <td>Financial_and_insurance_activities</td>\n",
       "      <td>0</td>\n",
       "      <td>active</td>\n",
       "      <td>england-wales</td>\n",
       "      <td>None</td>\n",
       "      <td>plc</td>\n",
       "      <td>None</td>\n",
       "      <td>0.129032</td>\n",
       "      <td>0</td>\n",
       "      <td>...</td>\n",
       "      <td>2600.0</td>\n",
       "      <td>607.0</td>\n",
       "      <td>457.0</td>\n",
       "      <td>13800.0</td>\n",
       "      <td>4.0</td>\n",
       "      <td>3.8</td>\n",
       "      <td>3.8</td>\n",
       "      <td>3.6</td>\n",
       "      <td>3.6</td>\n",
       "      <td>3.8</td>\n",
       "    </tr>\n",
       "  </tbody>\n",
       "</table>\n",
       "<p>5 rows × 24 columns</p>\n",
       "</div>"
      ],
      "text/plain": [
       "              EmployerSize                                    final_SIC_group  \\\n",
       "Unnamed: 0                                                                      \n",
       "00002065    20,000 or more                 Financial_and_insurance_activities   \n",
       "00002404        500 to 999                         Transportation_and_storage   \n",
       "00008614        500 to 999                                      Manufacturing   \n",
       "00008848        500 to 999  Professional_scientific_and_technical_activiti...   \n",
       "00014259    20,000 or more                 Financial_and_insurance_activities   \n",
       "\n",
       "            SubmittedAfterTheDeadline company_status   jurisdiction  \\\n",
       "Unnamed: 0                                                            \n",
       "00002065                            0         active  england-wales   \n",
       "00002404                            0         active  england-wales   \n",
       "00008614                            0         active  england-wales   \n",
       "00008848                            0         active  england-wales   \n",
       "00014259                            0         active  england-wales   \n",
       "\n",
       "           registered_address_country                 company_type   locality  \\\n",
       "Unnamed: 0                                                                      \n",
       "00002065                         None                          plc     London   \n",
       "00002404                         None                          ltd  Hampshire   \n",
       "00008614                      England                          ltd   Coventry   \n",
       "00008848                         None  private-limited-guarant-nsc     London   \n",
       "00014259                         None                          plc       None   \n",
       "\n",
       "            percent_female_officer  no_CompanyLink  ...  count_3_star  \\\n",
       "Unnamed: 0                                          ...                 \n",
       "00002065                  0.258065               0  ...         210.0   \n",
       "00002404                  0.257143               0  ...           0.0   \n",
       "00008614                  0.000000               1  ...          10.0   \n",
       "00008848                  0.225806               1  ...           9.0   \n",
       "00014259                  0.129032               0  ...        2600.0   \n",
       "\n",
       "           count_2_star  count_1_star  number_of_reviews  company_rating  \\\n",
       "Unnamed: 0                                                                 \n",
       "00002065           55.0          51.0              899.0             3.8   \n",
       "00002404            0.0           0.0                7.0             4.6   \n",
       "00008614            5.0           3.0               41.0             3.4   \n",
       "00008848            0.0           3.0               34.0             3.9   \n",
       "00014259          607.0         457.0            13800.0             4.0   \n",
       "\n",
       "            work_life_balance  pay_and_benefits  job_security_and_advancement  \\\n",
       "Unnamed: 0                                                                      \n",
       "00002065                  3.7               3.7                           3.4   \n",
       "00002404                  4.6               4.6                           4.3   \n",
       "00008614                  3.4               3.5                           2.9   \n",
       "00008848                  3.6               3.2                           3.2   \n",
       "00014259                  3.8               3.8                           3.6   \n",
       "\n",
       "            management  culture  \n",
       "Unnamed: 0                       \n",
       "00002065           3.4      3.6  \n",
       "00002404           4.4      4.7  \n",
       "00008614           3.0      3.1  \n",
       "00008848           3.5      3.9  \n",
       "00014259           3.6      3.8  \n",
       "\n",
       "[5 rows x 24 columns]"
      ]
     },
     "execution_count": 18,
     "metadata": {},
     "output_type": "execute_result"
    }
   ],
   "source": [
    "X.set_index(keys='Unnamed: 0', inplace=True)\n",
    "X.head()"
   ]
  },
  {
   "cell_type": "code",
   "execution_count": 19,
   "metadata": {},
   "outputs": [
    {
     "name": "stdout",
     "output_type": "stream",
     "text": [
      "<class 'pandas.core.frame.DataFrame'>\n",
      "Index: 6373 entries, 00002065 to ZC000164\n",
      "Data columns (total 24 columns):\n",
      " #   Column                        Non-Null Count  Dtype  \n",
      "---  ------                        --------------  -----  \n",
      " 0   EmployerSize                  6373 non-null   object \n",
      " 1   final_SIC_group               6373 non-null   object \n",
      " 2   SubmittedAfterTheDeadline     6373 non-null   int64  \n",
      " 3   company_status                6373 non-null   object \n",
      " 4   jurisdiction                  6373 non-null   object \n",
      " 5   registered_address_country    6373 non-null   object \n",
      " 6   company_type                  6373 non-null   object \n",
      " 7   locality                      6373 non-null   object \n",
      " 8   percent_female_officer        6373 non-null   float64\n",
      " 9   no_CompanyLink                6373 non-null   int64  \n",
      " 10  no_ResponsiblePerson          6373 non-null   int64  \n",
      " 11  review_cons                   6373 non-null   object \n",
      " 12  count_5_star                  6373 non-null   float64\n",
      " 13  count_4_star                  6373 non-null   float64\n",
      " 14  count_3_star                  6373 non-null   float64\n",
      " 15  count_2_star                  6373 non-null   float64\n",
      " 16  count_1_star                  6373 non-null   float64\n",
      " 17  number_of_reviews             6373 non-null   float64\n",
      " 18  company_rating                6373 non-null   float64\n",
      " 19  work_life_balance             6373 non-null   float64\n",
      " 20  pay_and_benefits              6373 non-null   float64\n",
      " 21  job_security_and_advancement  6373 non-null   float64\n",
      " 22  management                    6373 non-null   float64\n",
      " 23  culture                       6373 non-null   float64\n",
      "dtypes: float64(13), int64(3), object(8)\n",
      "memory usage: 1.2+ MB\n"
     ]
    }
   ],
   "source": [
    "X.info()"
   ]
  },
  {
   "cell_type": "markdown",
   "metadata": {},
   "source": [
    "### Step 5: I applied a column transformer so I could apply different functions to the columns - for the SIC codes, since some companies had multiple codes assigned I decided to use a CountVectorizer so I could record a count of each of the categories for each company. I tested out various models using all the review text data (review header, main text, pros and cons) however the only data that improved the score was the review cons. I applied a TfidfVectorizer to this text data, so that I could minimise the effect of some companies having less reviews than others. \n",
    "\n",
    "### For the remaining categorical variables, I appled OneHotEncoder to dummify the variables and I applied StandardScaler to the continuous variables since these were either review counts or review ratings and observations generally fit a Gaussian distribution."
   ]
  },
  {
   "cell_type": "code",
   "execution_count": 20,
   "metadata": {},
   "outputs": [],
   "source": [
    "cvec_sic = CountVectorizer()\n",
    "tvec_cons = TfidfVectorizer(stop_words='english', max_df= 0.95, min_df=0.009, ngram_range=(2,2))\n",
    "one_hot = OneHotEncoder(sparse=False, drop=None, handle_unknown='ignore') \n",
    "scaler = StandardScaler(with_mean=False)"
   ]
  },
  {
   "cell_type": "code",
   "execution_count": 21,
   "metadata": {},
   "outputs": [],
   "source": [
    "col_trans = ColumnTransformer([('EmployerSize', one_hot, ['EmployerSize']),\n",
    "                               ('final_SIC_group', cvec_sic, 'final_SIC_group'),\n",
    "                               ('SubmittedAfterTheDeadline', one_hot, ['SubmittedAfterTheDeadline']),\n",
    "                               ('company_status', one_hot, ['company_status']),\n",
    "                               ('jurisdiction', one_hot, ['jurisdiction']),\n",
    "                               ('registered_address_country', one_hot, ['registered_address_country']),\n",
    "                               ('company_type', one_hot, ['company_type']),\n",
    "                               ('locality', one_hot, ['locality']),\n",
    "#                                ('female_final', scaler, ['female_final']),\n",
    "#                                ('male_final', scaler, ['male_final']),\n",
    "                               ('percent_female_officer', scaler, ['percent_female_officer']),\n",
    "                               ('no_CompanyLink', one_hot, ['no_CompanyLink']),\n",
    "                               ('no_ResponsiblePerson', one_hot, ['no_ResponsiblePerson']),\n",
    "#                                ('review_header', tvec_header, 'review_header'),\n",
    "#                                ('review_text', tvec_text, 'review_text'),\n",
    "#                                ('review_pros', tvec_pros, 'review_pros'),\n",
    "                               ('review_cons', tvec_cons, 'review_cons'),\n",
    "                               ('count_5_star', scaler, ['count_5_star']),\n",
    "                               ('count_4_star', scaler, ['count_4_star']),\n",
    "                               ('count_3_star', scaler, ['count_3_star']),\n",
    "                               ('count_2_star', scaler, ['count_2_star']),\n",
    "                               ('count_1_star', scaler, ['count_1_star']),\n",
    "                               ('number_of_reviews', scaler, ['number_of_reviews']),\n",
    "                               ('company_rating', scaler, ['company_rating']),\n",
    "                               ('work_life_balance', scaler, ['work_life_balance']),\n",
    "                               ('pay_and_benefits', scaler, ['pay_and_benefits']),\n",
    "                               ('job_security_and_advancement', scaler, ['job_security_and_advancement']),\n",
    "                               ('management', scaler, ['management']),\n",
    "                               ('culture', scaler, ['culture'])], \n",
    "                              remainder='passthrough') # treatment for remaining columns\n",
    "#                              sparse_threshold=0.6) # set threshold for fraction of nonzero entries \n",
    "                                                 # to return dense array rather than sparse matrix"
   ]
  },
  {
   "cell_type": "code",
   "execution_count": 22,
   "metadata": {},
   "outputs": [],
   "source": [
    "# Train test split\n",
    "X_train, X_test, y_train, y_test = train_test_split(\n",
    "    X, y, test_size=0.2, random_state=1)"
   ]
  },
  {
   "cell_type": "code",
   "execution_count": 23,
   "metadata": {},
   "outputs": [
    {
     "data": {
      "text/plain": [
       "ColumnTransformer(remainder='passthrough',\n",
       "                  transformers=[('EmployerSize',\n",
       "                                 OneHotEncoder(handle_unknown='ignore',\n",
       "                                               sparse=False),\n",
       "                                 ['EmployerSize']),\n",
       "                                ('final_SIC_group', CountVectorizer(),\n",
       "                                 'final_SIC_group'),\n",
       "                                ('SubmittedAfterTheDeadline',\n",
       "                                 OneHotEncoder(handle_unknown='ignore',\n",
       "                                               sparse=False),\n",
       "                                 ['SubmittedAfterTheDeadline']),\n",
       "                                ('company_status',\n",
       "                                 OneHotEncoder(handle_u...\n",
       "                                ('work_life_balance',\n",
       "                                 StandardScaler(with_mean=False),\n",
       "                                 ['work_life_balance']),\n",
       "                                ('pay_and_benefits',\n",
       "                                 StandardScaler(with_mean=False),\n",
       "                                 ['pay_and_benefits']),\n",
       "                                ('job_security_and_advancement',\n",
       "                                 StandardScaler(with_mean=False),\n",
       "                                 ['job_security_and_advancement']),\n",
       "                                ('management', StandardScaler(with_mean=False),\n",
       "                                 ['management']),\n",
       "                                ('culture', StandardScaler(with_mean=False),\n",
       "                                 ['culture'])])"
      ]
     },
     "execution_count": 23,
     "metadata": {},
     "output_type": "execute_result"
    }
   ],
   "source": [
    "# apply column transformer:\n",
    "col_trans.fit(X_train)"
   ]
  },
  {
   "cell_type": "code",
   "execution_count": 24,
   "metadata": {},
   "outputs": [],
   "source": [
    "# get all the column names, turn into a list in the right order\n",
    "final_cols = []\n",
    "for i in range(0,24):\n",
    "    try:\n",
    "        final_cols.append([x for x in col_trans.transformers_[i][1].get_feature_names()])\n",
    "    except:\n",
    "        final_cols.append(col_trans.transformers_[i][2])"
   ]
  },
  {
   "cell_type": "code",
   "execution_count": 25,
   "metadata": {},
   "outputs": [
    {
     "data": {
      "text/plain": [
       "1335"
      ]
     },
     "execution_count": 25,
     "metadata": {},
     "output_type": "execute_result"
    }
   ],
   "source": [
    "# turn into a flat list\n",
    "flat_list = [item for sublist in final_cols for item in sublist]\n",
    "len(flat_list)"
   ]
  },
  {
   "cell_type": "code",
   "execution_count": 26,
   "metadata": {},
   "outputs": [],
   "source": [
    "# transform train and test data\n",
    "X_train = pd.DataFrame(col_trans.transform(X_train), columns=flat_list)\n",
    "X_test = pd.DataFrame(col_trans.transform(X_test), columns=flat_list)"
   ]
  },
  {
   "cell_type": "code",
   "execution_count": 27,
   "metadata": {},
   "outputs": [
    {
     "data": {
      "text/html": [
       "<div>\n",
       "<style scoped>\n",
       "    .dataframe tbody tr th:only-of-type {\n",
       "        vertical-align: middle;\n",
       "    }\n",
       "\n",
       "    .dataframe tbody tr th {\n",
       "        vertical-align: top;\n",
       "    }\n",
       "\n",
       "    .dataframe thead th {\n",
       "        text-align: right;\n",
       "    }\n",
       "</style>\n",
       "<table border=\"1\" class=\"dataframe\">\n",
       "  <thead>\n",
       "    <tr style=\"text-align: right;\">\n",
       "      <th></th>\n",
       "      <th>x0_1000 to 4999</th>\n",
       "      <th>x0_20,000 or more</th>\n",
       "      <th>x0_250 to 499</th>\n",
       "      <th>x0_500 to 999</th>\n",
       "      <th>x0_5000 to 19,999</th>\n",
       "      <th>x0_Less than 250</th>\n",
       "      <th>x0_Not Provided</th>\n",
       "      <th>accommodation_and_food_service_activities</th>\n",
       "      <th>activities_of_extraterritorial_organisations_and_bodies</th>\n",
       "      <th>activities_of_households_as_employers</th>\n",
       "      <th>...</th>\n",
       "      <th>count_3_star</th>\n",
       "      <th>count_2_star</th>\n",
       "      <th>count_1_star</th>\n",
       "      <th>number_of_reviews</th>\n",
       "      <th>company_rating</th>\n",
       "      <th>work_life_balance</th>\n",
       "      <th>pay_and_benefits</th>\n",
       "      <th>job_security_and_advancement</th>\n",
       "      <th>management</th>\n",
       "      <th>culture</th>\n",
       "    </tr>\n",
       "  </thead>\n",
       "  <tbody>\n",
       "    <tr>\n",
       "      <th>0</th>\n",
       "      <td>0.0</td>\n",
       "      <td>1.0</td>\n",
       "      <td>0.0</td>\n",
       "      <td>0.0</td>\n",
       "      <td>0.0</td>\n",
       "      <td>0.0</td>\n",
       "      <td>0.0</td>\n",
       "      <td>0.0</td>\n",
       "      <td>0.0</td>\n",
       "      <td>0.0</td>\n",
       "      <td>...</td>\n",
       "      <td>6.101190</td>\n",
       "      <td>5.532530</td>\n",
       "      <td>5.893510</td>\n",
       "      <td>6.286591</td>\n",
       "      <td>6.940047</td>\n",
       "      <td>6.381304</td>\n",
       "      <td>6.349762</td>\n",
       "      <td>5.882614</td>\n",
       "      <td>5.747057</td>\n",
       "      <td>6.186831</td>\n",
       "    </tr>\n",
       "    <tr>\n",
       "      <th>1</th>\n",
       "      <td>1.0</td>\n",
       "      <td>0.0</td>\n",
       "      <td>0.0</td>\n",
       "      <td>0.0</td>\n",
       "      <td>0.0</td>\n",
       "      <td>0.0</td>\n",
       "      <td>0.0</td>\n",
       "      <td>0.0</td>\n",
       "      <td>0.0</td>\n",
       "      <td>0.0</td>\n",
       "      <td>...</td>\n",
       "      <td>0.083891</td>\n",
       "      <td>0.114602</td>\n",
       "      <td>0.263475</td>\n",
       "      <td>0.094136</td>\n",
       "      <td>5.627065</td>\n",
       "      <td>5.469689</td>\n",
       "      <td>4.762321</td>\n",
       "      <td>5.347831</td>\n",
       "      <td>5.050444</td>\n",
       "      <td>5.479765</td>\n",
       "    </tr>\n",
       "    <tr>\n",
       "      <th>2</th>\n",
       "      <td>1.0</td>\n",
       "      <td>0.0</td>\n",
       "      <td>0.0</td>\n",
       "      <td>0.0</td>\n",
       "      <td>0.0</td>\n",
       "      <td>0.0</td>\n",
       "      <td>0.0</td>\n",
       "      <td>0.0</td>\n",
       "      <td>0.0</td>\n",
       "      <td>0.0</td>\n",
       "      <td>...</td>\n",
       "      <td>0.004576</td>\n",
       "      <td>0.003952</td>\n",
       "      <td>0.000000</td>\n",
       "      <td>0.004886</td>\n",
       "      <td>7.315185</td>\n",
       "      <td>7.475242</td>\n",
       "      <td>5.820615</td>\n",
       "      <td>5.169570</td>\n",
       "      <td>6.269516</td>\n",
       "      <td>6.540364</td>\n",
       "    </tr>\n",
       "    <tr>\n",
       "      <th>3</th>\n",
       "      <td>0.0</td>\n",
       "      <td>0.0</td>\n",
       "      <td>1.0</td>\n",
       "      <td>0.0</td>\n",
       "      <td>0.0</td>\n",
       "      <td>0.0</td>\n",
       "      <td>0.0</td>\n",
       "      <td>0.0</td>\n",
       "      <td>0.0</td>\n",
       "      <td>0.0</td>\n",
       "      <td>...</td>\n",
       "      <td>0.004576</td>\n",
       "      <td>0.015807</td>\n",
       "      <td>0.003467</td>\n",
       "      <td>0.007166</td>\n",
       "      <td>7.127616</td>\n",
       "      <td>6.745950</td>\n",
       "      <td>5.996997</td>\n",
       "      <td>6.060875</td>\n",
       "      <td>6.095363</td>\n",
       "      <td>6.893898</td>\n",
       "    </tr>\n",
       "    <tr>\n",
       "      <th>4</th>\n",
       "      <td>1.0</td>\n",
       "      <td>0.0</td>\n",
       "      <td>0.0</td>\n",
       "      <td>0.0</td>\n",
       "      <td>0.0</td>\n",
       "      <td>0.0</td>\n",
       "      <td>0.0</td>\n",
       "      <td>0.0</td>\n",
       "      <td>0.0</td>\n",
       "      <td>0.0</td>\n",
       "      <td>...</td>\n",
       "      <td>2.745535</td>\n",
       "      <td>1.956145</td>\n",
       "      <td>1.254971</td>\n",
       "      <td>3.387593</td>\n",
       "      <td>7.502754</td>\n",
       "      <td>6.928273</td>\n",
       "      <td>6.878908</td>\n",
       "      <td>6.239136</td>\n",
       "      <td>6.095363</td>\n",
       "      <td>6.717131</td>\n",
       "    </tr>\n",
       "  </tbody>\n",
       "</table>\n",
       "<p>5 rows × 1335 columns</p>\n",
       "</div>"
      ],
      "text/plain": [
       "   x0_1000 to 4999  x0_20,000 or more  x0_250 to 499  x0_500 to 999  \\\n",
       "0              0.0                1.0            0.0            0.0   \n",
       "1              1.0                0.0            0.0            0.0   \n",
       "2              1.0                0.0            0.0            0.0   \n",
       "3              0.0                0.0            1.0            0.0   \n",
       "4              1.0                0.0            0.0            0.0   \n",
       "\n",
       "   x0_5000 to 19,999  x0_Less than 250  x0_Not Provided  \\\n",
       "0                0.0               0.0              0.0   \n",
       "1                0.0               0.0              0.0   \n",
       "2                0.0               0.0              0.0   \n",
       "3                0.0               0.0              0.0   \n",
       "4                0.0               0.0              0.0   \n",
       "\n",
       "   accommodation_and_food_service_activities  \\\n",
       "0                                        0.0   \n",
       "1                                        0.0   \n",
       "2                                        0.0   \n",
       "3                                        0.0   \n",
       "4                                        0.0   \n",
       "\n",
       "   activities_of_extraterritorial_organisations_and_bodies  \\\n",
       "0                                                0.0         \n",
       "1                                                0.0         \n",
       "2                                                0.0         \n",
       "3                                                0.0         \n",
       "4                                                0.0         \n",
       "\n",
       "   activities_of_households_as_employers  ...  count_3_star  count_2_star  \\\n",
       "0                                    0.0  ...      6.101190      5.532530   \n",
       "1                                    0.0  ...      0.083891      0.114602   \n",
       "2                                    0.0  ...      0.004576      0.003952   \n",
       "3                                    0.0  ...      0.004576      0.015807   \n",
       "4                                    0.0  ...      2.745535      1.956145   \n",
       "\n",
       "   count_1_star  number_of_reviews  company_rating  work_life_balance  \\\n",
       "0      5.893510           6.286591        6.940047           6.381304   \n",
       "1      0.263475           0.094136        5.627065           5.469689   \n",
       "2      0.000000           0.004886        7.315185           7.475242   \n",
       "3      0.003467           0.007166        7.127616           6.745950   \n",
       "4      1.254971           3.387593        7.502754           6.928273   \n",
       "\n",
       "   pay_and_benefits  job_security_and_advancement  management   culture  \n",
       "0          6.349762                      5.882614    5.747057  6.186831  \n",
       "1          4.762321                      5.347831    5.050444  5.479765  \n",
       "2          5.820615                      5.169570    6.269516  6.540364  \n",
       "3          5.996997                      6.060875    6.095363  6.893898  \n",
       "4          6.878908                      6.239136    6.095363  6.717131  \n",
       "\n",
       "[5 rows x 1335 columns]"
      ]
     },
     "execution_count": 27,
     "metadata": {},
     "output_type": "execute_result"
    }
   ],
   "source": [
    "X_train.head()"
   ]
  },
  {
   "cell_type": "markdown",
   "metadata": {},
   "source": [
    "## SVC Model"
   ]
  },
  {
   "cell_type": "code",
   "execution_count": 28,
   "metadata": {},
   "outputs": [
    {
     "name": "stdout",
     "output_type": "stream",
     "text": [
      "Training score: 0.7610827775598273\n",
      "Test Score: 0.6376470588235295\n"
     ]
    }
   ],
   "source": [
    "model_SVC = LinearSVC(loss='hinge', max_iter=5000000, class_weight='balanced')\n",
    "# fit the model\n",
    "model_SVC.fit(X_train, y_train)\n",
    "# evaluate on the training set\n",
    "print('Training score:', model_SVC.score(X_train, y_train))\n",
    "# evaluate on the test set\n",
    "print(\"Test Score:\", model_SVC.score(X_test, y_test))"
   ]
  },
  {
   "cell_type": "code",
   "execution_count": 29,
   "metadata": {},
   "outputs": [
    {
     "name": "stdout",
     "output_type": "stream",
     "text": [
      "Cross-validated training scores: [0.63627451 0.65882353 0.65882353 0.63788027 0.62708538]\n",
      "Mean cross-validated training score: 0.6437774442456079\n"
     ]
    }
   ],
   "source": [
    "scores_model_SVC = cross_val_score(model_SVC, X_train, y_train, cv=5)\n",
    "print(\"Cross-validated training scores:\", scores_model_SVC)\n",
    "print(\"Mean cross-validated training score:\", scores_model_SVC.mean())"
   ]
  },
  {
   "cell_type": "code",
   "execution_count": 30,
   "metadata": {},
   "outputs": [],
   "source": [
    "# import joblib\n",
    "# joblib.dump(model_SVC, 'model_1_svc.jlib')"
   ]
  },
  {
   "cell_type": "markdown",
   "metadata": {},
   "source": [
    "##  Logistic Regresstion Model"
   ]
  },
  {
   "cell_type": "code",
   "execution_count": 31,
   "metadata": {},
   "outputs": [
    {
     "name": "stdout",
     "output_type": "stream",
     "text": [
      "Training score: 0.7522557865829738\n",
      "Test Score: 0.6384313725490196\n"
     ]
    }
   ],
   "source": [
    "model_logistic = LogisticRegression(penalty='l2', C=1, \n",
    "                           multi_class='multinomial', solver='saga',\n",
    "                           max_iter=10000)\n",
    "\n",
    "# fit the model\n",
    "model_logistic.fit(X_train, y_train)\n",
    "# evaluate on the training set\n",
    "print('Training score:', model_logistic.score(X_train, y_train))\n",
    "# evaluate on the test set\n",
    "print(\"Test Score:\", model_logistic.score(X_test, y_test))"
   ]
  },
  {
   "cell_type": "code",
   "execution_count": 32,
   "metadata": {},
   "outputs": [
    {
     "name": "stdout",
     "output_type": "stream",
     "text": [
      "Cross-validated training scores: [0.63529412 0.6627451  0.65686275 0.63591757 0.6329735 ]\n",
      "Mean cross-validated training score: 0.6447586060920933\n"
     ]
    }
   ],
   "source": [
    "scores_model_logistic = cross_val_score(model_logistic, X_train, y_train, cv=5)\n",
    "print(\"Cross-validated training scores:\", scores_model_logistic)\n",
    "print(\"Mean cross-validated training score:\", scores_model_logistic.mean())"
   ]
  },
  {
   "cell_type": "code",
   "execution_count": 33,
   "metadata": {},
   "outputs": [],
   "source": [
    "# joblib.dump(model_logistic, 'model_2_logreg.jlib')"
   ]
  },
  {
   "cell_type": "markdown",
   "metadata": {},
   "source": [
    "##  Logistic RegresstionCV Model"
   ]
  },
  {
   "cell_type": "code",
   "execution_count": 34,
   "metadata": {},
   "outputs": [
    {
     "name": "stderr",
     "output_type": "stream",
     "text": [
      "[Parallel(n_jobs=-2)]: Using backend LokyBackend with 7 concurrent workers.\n",
      "[Parallel(n_jobs=-2)]: Done   5 out of   5 | elapsed:  4.2min finished\n"
     ]
    },
    {
     "name": "stdout",
     "output_type": "stream",
     "text": [
      "Training score: 0.6902706943899568\n",
      "Test Score: 0.6486274509803922\n"
     ]
    }
   ],
   "source": [
    "model_logistic_cv = LogisticRegressionCV(penalty='l2', multi_class='multinomial', max_iter=15000000, cv=5,\n",
    "                                        n_jobs=-2, verbose=1)\n",
    "\n",
    "# fit the model\n",
    "model_logistic_cv.fit(X_train, y_train)\n",
    "# evaluate on the training set\n",
    "print('Training score:', model_logistic_cv.score(X_train, y_train))\n",
    "# evaluate on the test set\n",
    "print(\"Test Score:\", model_logistic_cv.score(X_test, y_test))"
   ]
  },
  {
   "cell_type": "code",
   "execution_count": 35,
   "metadata": {},
   "outputs": [],
   "source": [
    "# joblib.dump(model_logistic_cv, 'model_3_logregCV.jlib')"
   ]
  },
  {
   "cell_type": "markdown",
   "metadata": {},
   "source": [
    "## Logistic GridSearch Model"
   ]
  },
  {
   "cell_type": "code",
   "execution_count": 36,
   "metadata": {},
   "outputs": [],
   "source": [
    "model_logreg2 = LogisticRegression(multi_class='multinomial', max_iter=100000)"
   ]
  },
  {
   "cell_type": "code",
   "execution_count": 37,
   "metadata": {},
   "outputs": [],
   "source": [
    "gs_params = {'penalty': ['elasticnet'],\n",
    "            'solver': ['saga'],\n",
    "            'C': np.logspace(-4, 4, 5),\n",
    "            'l1_ratio': [0, 0.5, 1]\n",
    "            }"
   ]
  },
  {
   "cell_type": "code",
   "execution_count": 38,
   "metadata": {},
   "outputs": [
    {
     "name": "stdout",
     "output_type": "stream",
     "text": [
      "Fitting 5 folds for each of 15 candidates, totalling 75 fits\n"
     ]
    },
    {
     "name": "stderr",
     "output_type": "stream",
     "text": [
      "[Parallel(n_jobs=-2)]: Using backend LokyBackend with 7 concurrent workers.\n",
      "[Parallel(n_jobs=-2)]: Done  18 tasks      | elapsed:   58.6s\n",
      "[Parallel(n_jobs=-2)]: Done  75 out of  75 | elapsed: 134.9min finished\n"
     ]
    },
    {
     "name": "stdout",
     "output_type": "stream",
     "text": [
      "{'C': 1.0, 'l1_ratio': 1, 'penalty': 'elasticnet', 'solver': 'saga'}\n",
      "0.6616273162847082\n"
     ]
    }
   ],
   "source": [
    "model_logreg_gs = GridSearchCV(model_logreg2, gs_params, cv=5, n_jobs=-2, verbose=3)\n",
    "\n",
    "model_logreg_gs.fit(X_train, y_train)\n",
    "dtr_best = model_logreg_gs.best_estimator_\n",
    "print(model_logreg_gs.best_params_)\n",
    "print(model_logreg_gs.best_score_)"
   ]
  },
  {
   "cell_type": "code",
   "execution_count": 39,
   "metadata": {},
   "outputs": [],
   "source": [
    "y_pred_linear = model_logreg_gs.predict(X_test)"
   ]
  },
  {
   "cell_type": "code",
   "execution_count": 40,
   "metadata": {},
   "outputs": [
    {
     "data": {
      "image/png": "[encoded data removed]",
      "text/plain": [
       "<Figure size 288x288 with 2 Axes>"
      ]
     },
     "metadata": {
      "needs_background": "light"
     },
     "output_type": "display_data"
    }
   ],
   "source": [
    "skplt.metrics.plot_confusion_matrix(y_test, y_pred_linear, labels=[\"below_median\", \"above_median\"], figsize=(4,4), cmap='BrBG')\n",
    "plt.show()"
   ]
  },
  {
   "cell_type": "code",
   "execution_count": 41,
   "metadata": {},
   "outputs": [
    {
     "name": "stdout",
     "output_type": "stream",
     "text": [
      "              precision    recall  f1-score   support\n",
      "\n",
      "above_median       0.63      0.63      0.63       624\n",
      "below_median       0.64      0.65      0.65       651\n",
      "\n",
      "    accuracy                           0.64      1275\n",
      "   macro avg       0.64      0.64      0.64      1275\n",
      "weighted avg       0.64      0.64      0.64      1275\n",
      "\n"
     ]
    }
   ],
   "source": [
    "print(classification_report(y_test, y_pred_linear))"
   ]
  },
  {
   "cell_type": "code",
   "execution_count": 42,
   "metadata": {},
   "outputs": [
    {
     "data": {
      "text/html": [
       "<div>\n",
       "<style scoped>\n",
       "    .dataframe tbody tr th:only-of-type {\n",
       "        vertical-align: middle;\n",
       "    }\n",
       "\n",
       "    .dataframe tbody tr th {\n",
       "        vertical-align: top;\n",
       "    }\n",
       "\n",
       "    .dataframe thead th {\n",
       "        text-align: right;\n",
       "    }\n",
       "</style>\n",
       "<table border=\"1\" class=\"dataframe\">\n",
       "  <thead>\n",
       "    <tr style=\"text-align: right;\">\n",
       "      <th></th>\n",
       "      <th>coefficients</th>\n",
       "      <th>coef_abs</th>\n",
       "    </tr>\n",
       "  </thead>\n",
       "  <tbody>\n",
       "    <tr>\n",
       "      <th>working conditions</th>\n",
       "      <td>1.081814</td>\n",
       "      <td>1.081814</td>\n",
       "    </tr>\n",
       "    <tr>\n",
       "      <th>support management</th>\n",
       "      <td>0.964987</td>\n",
       "      <td>0.964987</td>\n",
       "    </tr>\n",
       "    <tr>\n",
       "      <th>hours job</th>\n",
       "      <td>0.877937</td>\n",
       "      <td>0.877937</td>\n",
       "    </tr>\n",
       "    <tr>\n",
       "      <th>accommodation_and_food_service_activities</th>\n",
       "      <td>0.673878</td>\n",
       "      <td>0.673878</td>\n",
       "    </tr>\n",
       "    <tr>\n",
       "      <th>x0_Sheffield</th>\n",
       "      <td>0.648202</td>\n",
       "      <td>0.648202</td>\n",
       "    </tr>\n",
       "    <tr>\n",
       "      <th>x0_Not Provided</th>\n",
       "      <td>0.647681</td>\n",
       "      <td>0.647681</td>\n",
       "    </tr>\n",
       "    <tr>\n",
       "      <th>x0_Hounslow</th>\n",
       "      <td>0.620751</td>\n",
       "      <td>0.620751</td>\n",
       "    </tr>\n",
       "    <tr>\n",
       "      <th>hours working</th>\n",
       "      <td>0.619790</td>\n",
       "      <td>0.619790</td>\n",
       "    </tr>\n",
       "    <tr>\n",
       "      <th>hours low</th>\n",
       "      <td>0.573087</td>\n",
       "      <td>0.573087</td>\n",
       "    </tr>\n",
       "    <tr>\n",
       "      <th>water_supply_sewerage_waste_management_and_remediation_activities</th>\n",
       "      <td>0.572709</td>\n",
       "      <td>0.572709</td>\n",
       "    </tr>\n",
       "    <tr>\n",
       "      <th>x0_0</th>\n",
       "      <td>0.535718</td>\n",
       "      <td>0.535718</td>\n",
       "    </tr>\n",
       "    <tr>\n",
       "      <th>x0_Lichfield</th>\n",
       "      <td>0.528769</td>\n",
       "      <td>0.528769</td>\n",
       "    </tr>\n",
       "    <tr>\n",
       "      <th>place work</th>\n",
       "      <td>0.524446</td>\n",
       "      <td>0.524446</td>\n",
       "    </tr>\n",
       "    <tr>\n",
       "      <th>12 hours</th>\n",
       "      <td>0.516735</td>\n",
       "      <td>0.516735</td>\n",
       "    </tr>\n",
       "    <tr>\n",
       "      <th>x0_Northwich</th>\n",
       "      <td>0.499510</td>\n",
       "      <td>0.499510</td>\n",
       "    </tr>\n",
       "    <tr>\n",
       "      <th>x0_Huddersfield</th>\n",
       "      <td>0.494629</td>\n",
       "      <td>0.494629</td>\n",
       "    </tr>\n",
       "    <tr>\n",
       "      <th>short term</th>\n",
       "      <td>0.483087</td>\n",
       "      <td>0.483087</td>\n",
       "    </tr>\n",
       "    <tr>\n",
       "      <th>x0_St Albans</th>\n",
       "      <td>0.470549</td>\n",
       "      <td>0.470549</td>\n",
       "    </tr>\n",
       "    <tr>\n",
       "      <th>x0_Wales</th>\n",
       "      <td>0.467561</td>\n",
       "      <td>0.467561</td>\n",
       "    </tr>\n",
       "    <tr>\n",
       "      <th>x0_Shropshire</th>\n",
       "      <td>0.449044</td>\n",
       "      <td>0.449044</td>\n",
       "    </tr>\n",
       "    <tr>\n",
       "      <th>x0_Tunbridge Wells</th>\n",
       "      <td>0.416354</td>\n",
       "      <td>0.416354</td>\n",
       "    </tr>\n",
       "    <tr>\n",
       "      <th>x0_Rochdale</th>\n",
       "      <td>0.414798</td>\n",
       "      <td>0.414798</td>\n",
       "    </tr>\n",
       "    <tr>\n",
       "      <th>x0_Chester</th>\n",
       "      <td>0.411405</td>\n",
       "      <td>0.411405</td>\n",
       "    </tr>\n",
       "    <tr>\n",
       "      <th>x0_Leatherhead</th>\n",
       "      <td>0.410862</td>\n",
       "      <td>0.410862</td>\n",
       "    </tr>\n",
       "    <tr>\n",
       "      <th>career advancement</th>\n",
       "      <td>0.409893</td>\n",
       "      <td>0.409893</td>\n",
       "    </tr>\n",
       "    <tr>\n",
       "      <th>x0_Maidenhead</th>\n",
       "      <td>0.404417</td>\n",
       "      <td>0.404417</td>\n",
       "    </tr>\n",
       "    <tr>\n",
       "      <th>x0_West Drayton</th>\n",
       "      <td>0.399808</td>\n",
       "      <td>0.399808</td>\n",
       "    </tr>\n",
       "    <tr>\n",
       "      <th>long hrs</th>\n",
       "      <td>0.398660</td>\n",
       "      <td>0.398660</td>\n",
       "    </tr>\n",
       "    <tr>\n",
       "      <th>hours stressful</th>\n",
       "      <td>0.377822</td>\n",
       "      <td>0.377822</td>\n",
       "    </tr>\n",
       "    <tr>\n",
       "      <th>x0_Teddington</th>\n",
       "      <td>0.372897</td>\n",
       "      <td>0.372897</td>\n",
       "    </tr>\n",
       "    <tr>\n",
       "      <th>transportation_and_storage</th>\n",
       "      <td>0.369698</td>\n",
       "      <td>0.369698</td>\n",
       "    </tr>\n",
       "    <tr>\n",
       "      <th>long time</th>\n",
       "      <td>0.362439</td>\n",
       "      <td>0.362439</td>\n",
       "    </tr>\n",
       "    <tr>\n",
       "      <th>shift patterns</th>\n",
       "      <td>0.355595</td>\n",
       "      <td>0.355595</td>\n",
       "    </tr>\n",
       "    <tr>\n",
       "      <th>x0_Bury</th>\n",
       "      <td>0.341926</td>\n",
       "      <td>0.341926</td>\n",
       "    </tr>\n",
       "    <tr>\n",
       "      <th>x0_Newcastle Upon Tyne</th>\n",
       "      <td>0.325034</td>\n",
       "      <td>0.325034</td>\n",
       "    </tr>\n",
       "    <tr>\n",
       "      <th>x0_St Helier</th>\n",
       "      <td>0.324045</td>\n",
       "      <td>0.324045</td>\n",
       "    </tr>\n",
       "    <tr>\n",
       "      <th>x0_Middlesex</th>\n",
       "      <td>0.322245</td>\n",
       "      <td>0.322245</td>\n",
       "    </tr>\n",
       "    <tr>\n",
       "      <th>early starts</th>\n",
       "      <td>0.312095</td>\n",
       "      <td>0.312095</td>\n",
       "    </tr>\n",
       "    <tr>\n",
       "      <th>human_health_and_social_work_activities</th>\n",
       "      <td>0.308030</td>\n",
       "      <td>0.308030</td>\n",
       "    </tr>\n",
       "    <tr>\n",
       "      <th>x0_Stockport</th>\n",
       "      <td>0.304981</td>\n",
       "      <td>0.304981</td>\n",
       "    </tr>\n",
       "    <tr>\n",
       "      <th>shift pattern</th>\n",
       "      <td>0.303076</td>\n",
       "      <td>0.303076</td>\n",
       "    </tr>\n",
       "    <tr>\n",
       "      <th>x0_Coventry</th>\n",
       "      <td>0.301583</td>\n",
       "      <td>0.301583</td>\n",
       "    </tr>\n",
       "    <tr>\n",
       "      <th>x0_20,000 or more</th>\n",
       "      <td>0.301416</td>\n",
       "      <td>0.301416</td>\n",
       "    </tr>\n",
       "    <tr>\n",
       "      <th>x0_private-limited-guarant-nsc</th>\n",
       "      <td>0.301067</td>\n",
       "      <td>0.301067</td>\n",
       "    </tr>\n",
       "    <tr>\n",
       "      <th>bad hours</th>\n",
       "      <td>0.294786</td>\n",
       "      <td>0.294786</td>\n",
       "    </tr>\n",
       "    <tr>\n",
       "      <th>x0_Lutterworth</th>\n",
       "      <td>0.294225</td>\n",
       "      <td>0.294225</td>\n",
       "    </tr>\n",
       "    <tr>\n",
       "      <th>x0_Preston</th>\n",
       "      <td>0.289800</td>\n",
       "      <td>0.289800</td>\n",
       "    </tr>\n",
       "    <tr>\n",
       "      <th>x0_Gatwick</th>\n",
       "      <td>0.281926</td>\n",
       "      <td>0.281926</td>\n",
       "    </tr>\n",
       "    <tr>\n",
       "      <th>hours poor</th>\n",
       "      <td>0.279520</td>\n",
       "      <td>0.279520</td>\n",
       "    </tr>\n",
       "    <tr>\n",
       "      <th>x0_Chard</th>\n",
       "      <td>0.277535</td>\n",
       "      <td>0.277535</td>\n",
       "    </tr>\n",
       "  </tbody>\n",
       "</table>\n",
       "</div>"
      ],
      "text/plain": [
       "                                                    coefficients  coef_abs\n",
       "working conditions                                      1.081814  1.081814\n",
       "support management                                      0.964987  0.964987\n",
       "hours job                                               0.877937  0.877937\n",
       "accommodation_and_food_service_activities               0.673878  0.673878\n",
       "x0_Sheffield                                            0.648202  0.648202\n",
       "x0_Not Provided                                         0.647681  0.647681\n",
       "x0_Hounslow                                             0.620751  0.620751\n",
       "hours working                                           0.619790  0.619790\n",
       "hours low                                               0.573087  0.573087\n",
       "water_supply_sewerage_waste_management_and_reme...      0.572709  0.572709\n",
       "x0_0                                                    0.535718  0.535718\n",
       "x0_Lichfield                                            0.528769  0.528769\n",
       "place work                                              0.524446  0.524446\n",
       "12 hours                                                0.516735  0.516735\n",
       "x0_Northwich                                            0.499510  0.499510\n",
       "x0_Huddersfield                                         0.494629  0.494629\n",
       "short term                                              0.483087  0.483087\n",
       "x0_St Albans                                            0.470549  0.470549\n",
       "x0_Wales                                                0.467561  0.467561\n",
       "x0_Shropshire                                           0.449044  0.449044\n",
       "x0_Tunbridge Wells                                      0.416354  0.416354\n",
       "x0_Rochdale                                             0.414798  0.414798\n",
       "x0_Chester                                              0.411405  0.411405\n",
       "x0_Leatherhead                                          0.410862  0.410862\n",
       "career advancement                                      0.409893  0.409893\n",
       "x0_Maidenhead                                           0.404417  0.404417\n",
       "x0_West Drayton                                         0.399808  0.399808\n",
       "long hrs                                                0.398660  0.398660\n",
       "hours stressful                                         0.377822  0.377822\n",
       "x0_Teddington                                           0.372897  0.372897\n",
       "transportation_and_storage                              0.369698  0.369698\n",
       "long time                                               0.362439  0.362439\n",
       "shift patterns                                          0.355595  0.355595\n",
       "x0_Bury                                                 0.341926  0.341926\n",
       "x0_Newcastle Upon Tyne                                  0.325034  0.325034\n",
       "x0_St Helier                                            0.324045  0.324045\n",
       "x0_Middlesex                                            0.322245  0.322245\n",
       "early starts                                            0.312095  0.312095\n",
       "human_health_and_social_work_activities                 0.308030  0.308030\n",
       "x0_Stockport                                            0.304981  0.304981\n",
       "shift pattern                                           0.303076  0.303076\n",
       "x0_Coventry                                             0.301583  0.301583\n",
       "x0_20,000 or more                                       0.301416  0.301416\n",
       "x0_private-limited-guarant-nsc                          0.301067  0.301067\n",
       "bad hours                                               0.294786  0.294786\n",
       "x0_Lutterworth                                          0.294225  0.294225\n",
       "x0_Preston                                              0.289800  0.289800\n",
       "x0_Gatwick                                              0.281926  0.281926\n",
       "hours poor                                              0.279520  0.279520\n",
       "x0_Chard                                                0.277535  0.277535"
      ]
     },
     "execution_count": 42,
     "metadata": {},
     "output_type": "execute_result"
    }
   ],
   "source": [
    "# collect the model coefficients in a dataframe\n",
    "df_coef = pd.DataFrame(model_logreg_gs.best_estimator_.coef_.T, index=X_train.columns,\n",
    "                       columns=['coefficients'])\n",
    "# calculate the absolute values of the coefficients\n",
    "df_coef['coef_abs'] = df_coef.coefficients.abs()\n",
    "df_coef.sort_values('coefficients', ascending=False).head(50)"
   ]
  },
  {
   "cell_type": "code",
   "execution_count": 43,
   "metadata": {},
   "outputs": [],
   "source": [
    "probabilities_train = model_logreg_gs.predict_proba(X_train)\n",
    "probabilities_test = model_logreg_gs.predict_proba(X_test)"
   ]
  },
  {
   "cell_type": "code",
   "execution_count": 44,
   "metadata": {},
   "outputs": [
    {
     "data": {
      "image/png": "[encoded data removed]",
      "text/plain": [
       "<Figure size 432x288 with 1 Axes>"
      ]
     },
     "metadata": {
      "needs_background": "light"
     },
     "output_type": "display_data"
    }
   ],
   "source": [
    "skplt.metrics.plot_precision_recall(y_test, probabilities_test, cmap='BrBG')\n",
    "plt.show()"
   ]
  },
  {
   "cell_type": "code",
   "execution_count": 45,
   "metadata": {},
   "outputs": [
    {
     "data": {
      "image/png": "[encoded data removed]",
      "text/plain": [
       "<Figure size 432x288 with 1 Axes>"
      ]
     },
     "metadata": {
      "needs_background": "light"
     },
     "output_type": "display_data"
    }
   ],
   "source": [
    "skplt.metrics.plot_roc(y_test, probabilities_test, cmap='BrBG')\n",
    "plt.show()"
   ]
  },
  {
   "cell_type": "code",
   "execution_count": 46,
   "metadata": {},
   "outputs": [
    {
     "data": {
      "text/plain": [
       "coefficients   -0.200774\n",
       "coef_abs        0.200774\n",
       "Name: x0_London, dtype: float64"
      ]
     },
     "execution_count": 46,
     "metadata": {},
     "output_type": "execute_result"
    }
   ],
   "source": [
    "df_coef.loc['x0_London']"
   ]
  },
  {
   "cell_type": "code",
   "execution_count": 47,
   "metadata": {},
   "outputs": [
    {
     "data": {
      "text/plain": [
       "array(['above_median', 'below_median'], dtype=object)"
      ]
     },
     "execution_count": 47,
     "metadata": {},
     "output_type": "execute_result"
    }
   ],
   "source": [
    "model_logreg_gs.classes_"
   ]
  },
  {
   "cell_type": "code",
   "execution_count": 48,
   "metadata": {},
   "outputs": [],
   "source": [
    "# joblib.dump(model_logreg_gs, 'model_4_logregGS.jlib')"
   ]
  },
  {
   "cell_type": "markdown",
   "metadata": {},
   "source": [
    "##  KNN Model"
   ]
  },
  {
   "cell_type": "code",
   "execution_count": 49,
   "metadata": {},
   "outputs": [
    {
     "name": "stdout",
     "output_type": "stream",
     "text": [
      "Training score: 0.7487249901922323\n",
      "Test Score: 0.5976470588235294\n"
     ]
    }
   ],
   "source": [
    "model_knn = KNeighborsClassifier()\n",
    "\n",
    "# fit the model\n",
    "model_knn.fit(X_train, y_train)\n",
    "# evaluate on the training set\n",
    "print('Training score:', model_knn.score(X_train, y_train))\n",
    "# evaluate on the test set\n",
    "print(\"Test Score:\", model_knn.score(X_test, y_test))"
   ]
  },
  {
   "cell_type": "code",
   "execution_count": 50,
   "metadata": {},
   "outputs": [
    {
     "name": "stdout",
     "output_type": "stream",
     "text": [
      "Cross-validated training scores: [0.62254902 0.59705882 0.61372549 0.60647694 0.60157017]\n",
      "Mean cross-validated training score: 0.6082760876676481\n"
     ]
    }
   ],
   "source": [
    "scores_model_knn = cross_val_score(model_knn, X_train, y_train, cv=5)\n",
    "print(\"Cross-validated training scores:\", scores_model_knn)\n",
    "print(\"Mean cross-validated training score:\", scores_model_knn.mean())"
   ]
  },
  {
   "cell_type": "code",
   "execution_count": 51,
   "metadata": {},
   "outputs": [],
   "source": [
    "# joblib.dump(model_knn, 'model_5_KNN.jlib')"
   ]
  },
  {
   "cell_type": "markdown",
   "metadata": {},
   "source": [
    "##  Decision Trees Model"
   ]
  },
  {
   "cell_type": "code",
   "execution_count": 52,
   "metadata": {},
   "outputs": [],
   "source": [
    "# gridsearch params\n",
    "dtr_params = {\n",
    "    'max_depth': list(range(1, 11))+[None],\n",
    "    'max_features': [None, 1, 2, 3],\n",
    "    'min_samples_split': [2, 3, 4, 5, 10, 15, 20, 25, 30, 40, 50],\n",
    "    'ccp_alpha': [0, 0.001, 0.005, 0.01]\n",
    "}\n",
    "\n",
    "# set the gridsearch\n",
    "model_decision_tree = DecisionTreeClassifier()\n",
    "dtr_gs = GridSearchCV(model_decision_tree, dtr_params, cv=5, verbose=1, n_jobs=-2)"
   ]
  },
  {
   "cell_type": "code",
   "execution_count": 53,
   "metadata": {},
   "outputs": [
    {
     "name": "stdout",
     "output_type": "stream",
     "text": [
      "Fitting 5 folds for each of 1936 candidates, totalling 9680 fits\n"
     ]
    },
    {
     "name": "stderr",
     "output_type": "stream",
     "text": [
      "[Parallel(n_jobs=-2)]: Using backend LokyBackend with 7 concurrent workers.\n",
      "[Parallel(n_jobs=-2)]: Done  36 tasks      | elapsed:    6.5s\n",
      "[Parallel(n_jobs=-2)]: Done 186 tasks      | elapsed:   10.8s\n",
      "[Parallel(n_jobs=-2)]: Done 436 tasks      | elapsed:   19.7s\n",
      "[Parallel(n_jobs=-2)]: Done 786 tasks      | elapsed:   37.0s\n",
      "[Parallel(n_jobs=-2)]: Done 1236 tasks      | elapsed:  1.0min\n",
      "[Parallel(n_jobs=-2)]: Done 1786 tasks      | elapsed:  1.6min\n",
      "[Parallel(n_jobs=-2)]: Done 2436 tasks      | elapsed:  2.4min\n",
      "[Parallel(n_jobs=-2)]: Done 3186 tasks      | elapsed:  3.0min\n",
      "[Parallel(n_jobs=-2)]: Done 4036 tasks      | elapsed:  3.9min\n",
      "[Parallel(n_jobs=-2)]: Done 4986 tasks      | elapsed:  4.9min\n",
      "[Parallel(n_jobs=-2)]: Done 6036 tasks      | elapsed:  5.8min\n",
      "[Parallel(n_jobs=-2)]: Done 7186 tasks      | elapsed:  7.4min\n",
      "[Parallel(n_jobs=-2)]: Done 8436 tasks      | elapsed:  8.7min\n",
      "[Parallel(n_jobs=-2)]: Done 9680 out of 9680 | elapsed: 10.6min finished\n"
     ]
    },
    {
     "name": "stdout",
     "output_type": "stream",
     "text": [
      "{'ccp_alpha': 0.001, 'max_depth': 9, 'max_features': None, 'min_samples_split': 2}\n",
      "0.6347526409975177\n"
     ]
    }
   ],
   "source": [
    "# use the gridearch model to fit the data\n",
    "dtr_gs.fit(X_train, y_train)\n",
    "dtr_best = dtr_gs.best_estimator_\n",
    "print(dtr_gs.best_params_)\n",
    "print(dtr_gs.best_score_)"
   ]
  },
  {
   "cell_type": "code",
   "execution_count": 54,
   "metadata": {},
   "outputs": [
    {
     "data": {
      "text/plain": [
       "DecisionTreeClassifier(ccp_alpha=0.001, max_depth=9)"
      ]
     },
     "execution_count": 54,
     "metadata": {},
     "output_type": "execute_result"
    }
   ],
   "source": [
    "dtr_best"
   ]
  },
  {
   "cell_type": "code",
   "execution_count": 55,
   "metadata": {},
   "outputs": [],
   "source": [
    "# joblib.dump(dtr_gs, 'model_6_dtr.jlib')"
   ]
  },
  {
   "cell_type": "markdown",
   "metadata": {},
   "source": [
    "## Random Forest Model"
   ]
  },
  {
   "cell_type": "code",
   "execution_count": 56,
   "metadata": {},
   "outputs": [],
   "source": [
    "params_rf = {'bootstrap': [True],\n",
    " 'max_depth': [10, 20, None],\n",
    " 'max_features': ['auto'],\n",
    " 'min_samples_leaf': [1, 2, 4],\n",
    " 'min_samples_split': [2, 5, 10],\n",
    " 'random_state': [1]}"
   ]
  },
  {
   "cell_type": "code",
   "execution_count": 57,
   "metadata": {},
   "outputs": [
    {
     "name": "stdout",
     "output_type": "stream",
     "text": [
      "Fitting 5 folds for each of 27 candidates, totalling 135 fits\n"
     ]
    },
    {
     "name": "stderr",
     "output_type": "stream",
     "text": [
      "[Parallel(n_jobs=-2)]: Using backend LokyBackend with 7 concurrent workers.\n",
      "[Parallel(n_jobs=-2)]: Done  18 tasks      | elapsed:   13.5s\n",
      "[Parallel(n_jobs=-2)]: Done 114 tasks      | elapsed:  1.8min\n",
      "[Parallel(n_jobs=-2)]: Done 135 out of 135 | elapsed:  2.2min finished\n"
     ]
    },
    {
     "data": {
      "text/plain": [
       "GridSearchCV(cv=5, estimator=RandomForestClassifier(), n_jobs=-2,\n",
       "             param_grid={'bootstrap': [True], 'max_depth': [10, 20, None],\n",
       "                         'max_features': ['auto'],\n",
       "                         'min_samples_leaf': [1, 2, 4],\n",
       "                         'min_samples_split': [2, 5, 10], 'random_state': [1]},\n",
       "             verbose=3)"
      ]
     },
     "execution_count": 57,
     "metadata": {},
     "output_type": "execute_result"
    }
   ],
   "source": [
    "# Use the grid to search for best hyperparameters\n",
    "# First create the base model to tune\n",
    "rf = RandomForestClassifier()\n",
    "# Random search of parameters, using 5 fold cross validation\n",
    "rf_gs = GridSearchCV(estimator = rf, param_grid = params_rf, cv = 5, verbose=3, n_jobs = -2)\n",
    "# Fit the random search model\n",
    "rf_gs.fit(X_train, y_train)"
   ]
  },
  {
   "cell_type": "code",
   "execution_count": 58,
   "metadata": {},
   "outputs": [
    {
     "name": "stdout",
     "output_type": "stream",
     "text": [
      "Best Parameters: {'bootstrap': True, 'max_depth': None, 'max_features': 'auto', 'min_samples_leaf': 2, 'min_samples_split': 10, 'random_state': 1}\n",
      "Best Score: 0.6537824472281553\n"
     ]
    }
   ],
   "source": [
    "rf_best = rf_gs.best_estimator_\n",
    "\n",
    "print(\"Best Parameters:\", rf_gs.best_params_)\n",
    "print(\"Best Score:\", rf_gs.best_score_)"
   ]
  },
  {
   "cell_type": "code",
   "execution_count": 59,
   "metadata": {},
   "outputs": [
    {
     "name": "stdout",
     "output_type": "stream",
     "text": [
      "Fitting 5 folds for each of 27 candidates, totalling 135 fits\n"
     ]
    },
    {
     "name": "stderr",
     "output_type": "stream",
     "text": [
      "[Parallel(n_jobs=-2)]: Using backend LokyBackend with 7 concurrent workers.\n",
      "[Parallel(n_jobs=-2)]: Done  18 tasks      | elapsed:   11.2s\n",
      "[Parallel(n_jobs=-2)]: Done 114 tasks      | elapsed:  1.4min\n",
      "[Parallel(n_jobs=-2)]: Done 135 out of 135 | elapsed:  1.7min finished\n"
     ]
    },
    {
     "name": "stdout",
     "output_type": "stream",
     "text": [
      "Fitting 5 folds for each of 27 candidates, totalling 135 fits\n"
     ]
    },
    {
     "name": "stderr",
     "output_type": "stream",
     "text": [
      "[Parallel(n_jobs=-2)]: Using backend LokyBackend with 7 concurrent workers.\n",
      "[Parallel(n_jobs=-2)]: Done  18 tasks      | elapsed:   14.1s\n",
      "[Parallel(n_jobs=-2)]: Done 114 tasks      | elapsed:  1.6min\n",
      "[Parallel(n_jobs=-2)]: Done 135 out of 135 | elapsed:  1.8min finished\n"
     ]
    },
    {
     "name": "stdout",
     "output_type": "stream",
     "text": [
      "Fitting 5 folds for each of 27 candidates, totalling 135 fits\n"
     ]
    },
    {
     "name": "stderr",
     "output_type": "stream",
     "text": [
      "[Parallel(n_jobs=-2)]: Using backend LokyBackend with 7 concurrent workers.\n",
      "[Parallel(n_jobs=-2)]: Done  18 tasks      | elapsed:   11.5s\n",
      "[Parallel(n_jobs=-2)]: Done 114 tasks      | elapsed:  1.6min\n",
      "[Parallel(n_jobs=-2)]: Done 135 out of 135 | elapsed:  1.8min finished\n"
     ]
    },
    {
     "name": "stdout",
     "output_type": "stream",
     "text": [
      "Fitting 5 folds for each of 27 candidates, totalling 135 fits\n"
     ]
    },
    {
     "name": "stderr",
     "output_type": "stream",
     "text": [
      "[Parallel(n_jobs=-2)]: Using backend LokyBackend with 7 concurrent workers.\n",
      "[Parallel(n_jobs=-2)]: Done  18 tasks      | elapsed:   13.4s\n",
      "[Parallel(n_jobs=-2)]: Done 114 tasks      | elapsed:  1.6min\n",
      "[Parallel(n_jobs=-2)]: Done 135 out of 135 | elapsed:  1.9min finished\n"
     ]
    },
    {
     "name": "stdout",
     "output_type": "stream",
     "text": [
      "Fitting 5 folds for each of 27 candidates, totalling 135 fits\n"
     ]
    },
    {
     "name": "stderr",
     "output_type": "stream",
     "text": [
      "[Parallel(n_jobs=-2)]: Using backend LokyBackend with 7 concurrent workers.\n",
      "[Parallel(n_jobs=-2)]: Done  18 tasks      | elapsed:   12.1s\n",
      "[Parallel(n_jobs=-2)]: Done 114 tasks      | elapsed:  1.6min\n",
      "[Parallel(n_jobs=-2)]: Done 135 out of 135 | elapsed:  1.8min finished\n"
     ]
    },
    {
     "name": "stdout",
     "output_type": "stream",
     "text": [
      "Cross-validated training scores: [0.63627451 0.65294118 0.63627451 0.64867517 0.64180569]\n",
      "Mean cross-validated training score: 0.6431942119340375\n"
     ]
    }
   ],
   "source": [
    "# Get the mean CV scores\n",
    "scores_Random_Forest = cross_val_score(rf_gs, X_train, y_train, cv=5)\n",
    "print(\"Cross-validated training scores:\", scores_Random_Forest)\n",
    "print(\"Mean cross-validated training score:\", scores_Random_Forest.mean())"
   ]
  },
  {
   "cell_type": "code",
   "execution_count": 60,
   "metadata": {},
   "outputs": [],
   "source": [
    "# joblib.dump(rf_random, 'model_7_rf.jlib')"
   ]
  }
 ],
 "metadata": {
  "kernelspec": {
   "display_name": "Python 3",
   "language": "python",
   "name": "python3"
  },
  "language_info": {
   "codemirror_mode": {
    "name": "ipython",
    "version": 3
   },
   "file_extension": ".py",
   "mimetype": "text/x-python",
   "name": "python",
   "nbconvert_exporter": "python",
   "pygments_lexer": "ipython3",
   "version": "3.8.5"
  }
 },
 "nbformat": 4,
 "nbformat_minor": 4
}
