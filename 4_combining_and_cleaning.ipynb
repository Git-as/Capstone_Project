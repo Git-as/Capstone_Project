{
 "cells": [
  {
   "cell_type": "markdown",
   "metadata": {},
   "source": [
    "## 4. Combining all Data Frames and Cleaning the Data"
   ]
  },
  {
   "cell_type": "markdown",
   "metadata": {},
   "source": [
    "I needed to combine the following DataFrames:\n",
    "\n",
    "* The original gender pay gap data for 18/19 (csv file)\n",
    "* Companies House data 18/19 (scraped via API from CH)\n",
    "* Final gendercount_18_19 (% female officers)\n",
    "* company location_18_19 (scraped via API from CH)\n",
    "* all_ratings_18_19 (scraped via BeautifulSoup from Indeed.com)"
   ]
  },
  {
   "cell_type": "markdown",
   "metadata": {},
   "source": [
    "### Step 1: Firstly I had to read in the files and then combined them using pd.merge - adding them to a master dataset one by one. The dataframes were joined using the index, which was the Company Number for each of the dataframes. Note, since the final scrape wasn't completed at this time, the rating data was joined in Step 4. "
   ]
  },
  {
   "cell_type": "code",
   "execution_count": 1,
   "metadata": {},
   "outputs": [],
   "source": [
    "import numpy as np\n",
    "import pandas as pd"
   ]
  },
  {
   "cell_type": "code",
   "execution_count": 2,
   "metadata": {},
   "outputs": [],
   "source": [
    "GPG_18_19 = pd.read_csv('/Users/gitas/Desktop/GA/Capstone/Gender_Pay_Gap_Data/UK_Gender_Pay_Gap_Data_2018_2019.csv')"
   ]
  },
  {
   "cell_type": "code",
   "execution_count": 3,
   "metadata": {},
   "outputs": [],
   "source": [
    "GPG_18_19.dropna(subset=['CompanyNumber', 'DiffMeanBonusPercent', 'DiffMedianBonusPercent'], inplace=True)"
   ]
  },
  {
   "cell_type": "code",
   "execution_count": 4,
   "metadata": {},
   "outputs": [],
   "source": [
    "GPG_18_19.reset_index(drop=True, inplace=True)"
   ]
  },
  {
   "cell_type": "code",
   "execution_count": 5,
   "metadata": {},
   "outputs": [],
   "source": [
    "GPG_18_19.set_index(keys='CompanyNumber', inplace=True)"
   ]
  },
  {
   "cell_type": "code",
   "execution_count": 6,
   "metadata": {},
   "outputs": [
    {
     "name": "stdout",
     "output_type": "stream",
     "text": [
      "<class 'pandas.core.frame.DataFrame'>\n",
      "Index: 8105 entries, SC016876 to 01032611\n",
      "Data columns (total 24 columns):\n",
      " #   Column                     Non-Null Count  Dtype  \n",
      "---  ------                     --------------  -----  \n",
      " 0   EmployerName               8105 non-null   object \n",
      " 1   Address                    8105 non-null   object \n",
      " 2   SicCodes                   7713 non-null   object \n",
      " 3   DiffMeanHourlyPercent      8105 non-null   float64\n",
      " 4   DiffMedianHourlyPercent    8105 non-null   float64\n",
      " 5   DiffMeanBonusPercent       8105 non-null   float64\n",
      " 6   DiffMedianBonusPercent     8105 non-null   float64\n",
      " 7   MaleBonusPercent           8105 non-null   float64\n",
      " 8   FemaleBonusPercent         8105 non-null   float64\n",
      " 9   MaleLowerQuartile          8105 non-null   float64\n",
      " 10  FemaleLowerQuartile        8105 non-null   float64\n",
      " 11  MaleLowerMiddleQuartile    8105 non-null   float64\n",
      " 12  FemaleLowerMiddleQuartile  8105 non-null   float64\n",
      " 13  MaleUpperMiddleQuartile    8105 non-null   float64\n",
      " 14  FemaleUpperMiddleQuartile  8105 non-null   float64\n",
      " 15  MaleTopQuartile            8105 non-null   float64\n",
      " 16  FemaleTopQuartile          8105 non-null   float64\n",
      " 17  CompanyLinkToGPGInfo       5669 non-null   object \n",
      " 18  ResponsiblePerson          7840 non-null   object \n",
      " 19  EmployerSize               8105 non-null   object \n",
      " 20  CurrentName                8105 non-null   object \n",
      " 21  SubmittedAfterTheDeadline  8105 non-null   bool   \n",
      " 22  DueDate                    8105 non-null   object \n",
      " 23  DateSubmitted              8105 non-null   object \n",
      "dtypes: bool(1), float64(14), object(9)\n",
      "memory usage: 1.5+ MB\n"
     ]
    }
   ],
   "source": [
    "GPG_18_19.info()"
   ]
  },
  {
   "cell_type": "code",
   "execution_count": 7,
   "metadata": {},
   "outputs": [
    {
     "name": "stdout",
     "output_type": "stream",
     "text": [
      "<class 'pandas.core.frame.DataFrame'>\n",
      "Index: 8105 entries, SC016876 to 01032611\n",
      "Data columns (total 5 columns):\n",
      " #   Column                      Non-Null Count  Dtype \n",
      "---  ------                      --------------  ----- \n",
      " 0   company_status              8105 non-null   object\n",
      " 1   creation_date               7965 non-null   object\n",
      " 2   jurisdiction                8105 non-null   object\n",
      " 3   registered_address_country  8105 non-null   object\n",
      " 4   company_type                8105 non-null   object\n",
      "dtypes: object(5)\n",
      "memory usage: 379.9+ KB\n"
     ]
    }
   ],
   "source": [
    "companies_house_18_19 = pd.read_csv('companies_house_18_19.csv', index_col='company_no')\n",
    "companies_house_18_19.drop(columns='Unnamed: 0', inplace=True)\n",
    "companies_house_18_19.info()"
   ]
  },
  {
   "cell_type": "code",
   "execution_count": 8,
   "metadata": {},
   "outputs": [
    {
     "name": "stdout",
     "output_type": "stream",
     "text": [
      "<class 'pandas.core.frame.DataFrame'>\n",
      "Index: 8105 entries, SC016876 to 01032611\n",
      "Data columns (total 2 columns):\n",
      " #   Column    Non-Null Count  Dtype \n",
      "---  ------    --------------  ----- \n",
      " 0   locality  8068 non-null   object\n",
      " 1   country   8105 non-null   object\n",
      "dtypes: object(2)\n",
      "memory usage: 190.0+ KB\n"
     ]
    }
   ],
   "source": [
    "company_location_18_19 = pd.read_csv('company_location_18_19.csv', index_col='company_no')\n",
    "company_location_18_19.drop(columns='Unnamed: 0', inplace=True)\n",
    "company_location_18_19.info()"
   ]
  },
  {
   "cell_type": "code",
   "execution_count": 9,
   "metadata": {},
   "outputs": [
    {
     "name": "stdout",
     "output_type": "stream",
     "text": [
      "<class 'pandas.core.frame.DataFrame'>\n",
      "Index: 7810 entries, 00000140 to ZC000164\n",
      "Data columns (total 3 columns):\n",
      " #   Column                  Non-Null Count  Dtype  \n",
      "---  ------                  --------------  -----  \n",
      " 0   female_final            7810 non-null   int64  \n",
      " 1   male_final              7810 non-null   int64  \n",
      " 2   percent_female_officer  7810 non-null   float64\n",
      "dtypes: float64(1), int64(2)\n",
      "memory usage: 244.1+ KB\n"
     ]
    }
   ],
   "source": [
    "final_gendercount_18_19 = pd.read_csv('final_gendercount_18_19.csv', index_col='company_no')\n",
    "final_gendercount_18_19.info()"
   ]
  },
  {
   "cell_type": "code",
   "execution_count": 10,
   "metadata": {},
   "outputs": [],
   "source": [
    "combined_18_19_1 = pd.merge(GPG_18_19, companies_house_18_19,\n",
    "                          left_index=True, right_index=True)"
   ]
  },
  {
   "cell_type": "code",
   "execution_count": 11,
   "metadata": {},
   "outputs": [
    {
     "name": "stdout",
     "output_type": "stream",
     "text": [
      "<class 'pandas.core.frame.DataFrame'>\n",
      "Index: 8087 entries, 00000140 to ZC000195\n",
      "Data columns (total 29 columns):\n",
      " #   Column                      Non-Null Count  Dtype  \n",
      "---  ------                      --------------  -----  \n",
      " 0   EmployerName                8087 non-null   object \n",
      " 1   Address                     8087 non-null   object \n",
      " 2   SicCodes                    7699 non-null   object \n",
      " 3   DiffMeanHourlyPercent       8087 non-null   float64\n",
      " 4   DiffMedianHourlyPercent     8087 non-null   float64\n",
      " 5   DiffMeanBonusPercent        8087 non-null   float64\n",
      " 6   DiffMedianBonusPercent      8087 non-null   float64\n",
      " 7   MaleBonusPercent            8087 non-null   float64\n",
      " 8   FemaleBonusPercent          8087 non-null   float64\n",
      " 9   MaleLowerQuartile           8087 non-null   float64\n",
      " 10  FemaleLowerQuartile         8087 non-null   float64\n",
      " 11  MaleLowerMiddleQuartile     8087 non-null   float64\n",
      " 12  FemaleLowerMiddleQuartile   8087 non-null   float64\n",
      " 13  MaleUpperMiddleQuartile     8087 non-null   float64\n",
      " 14  FemaleUpperMiddleQuartile   8087 non-null   float64\n",
      " 15  MaleTopQuartile             8087 non-null   float64\n",
      " 16  FemaleTopQuartile           8087 non-null   float64\n",
      " 17  CompanyLinkToGPGInfo        5654 non-null   object \n",
      " 18  ResponsiblePerson           7824 non-null   object \n",
      " 19  EmployerSize                8087 non-null   object \n",
      " 20  CurrentName                 8087 non-null   object \n",
      " 21  SubmittedAfterTheDeadline   8087 non-null   bool   \n",
      " 22  DueDate                     8087 non-null   object \n",
      " 23  DateSubmitted               8087 non-null   object \n",
      " 24  company_status              8087 non-null   object \n",
      " 25  creation_date               7947 non-null   object \n",
      " 26  jurisdiction                8087 non-null   object \n",
      " 27  registered_address_country  8087 non-null   object \n",
      " 28  company_type                8087 non-null   object \n",
      "dtypes: bool(1), float64(14), object(14)\n",
      "memory usage: 1.8+ MB\n"
     ]
    }
   ],
   "source": [
    "combined_18_19_1.info()"
   ]
  },
  {
   "cell_type": "code",
   "execution_count": 12,
   "metadata": {},
   "outputs": [],
   "source": [
    "combined_18_19_2 = pd.merge(combined_18_19_1, company_location_18_19,\n",
    "                          left_index=True, right_index=True)"
   ]
  },
  {
   "cell_type": "code",
   "execution_count": 13,
   "metadata": {},
   "outputs": [],
   "source": [
    "combined_18_19_3 = pd.merge(combined_18_19_2, final_gendercount_18_19,\n",
    "                          left_index=True, right_index=True)"
   ]
  },
  {
   "cell_type": "code",
   "execution_count": 14,
   "metadata": {},
   "outputs": [
    {
     "data": {
      "text/plain": [
       "EmployerName                     0\n",
       "Address                          0\n",
       "SicCodes                       145\n",
       "DiffMeanHourlyPercent            0\n",
       "DiffMedianHourlyPercent          0\n",
       "DiffMeanBonusPercent             0\n",
       "DiffMedianBonusPercent           0\n",
       "MaleBonusPercent                 0\n",
       "FemaleBonusPercent               0\n",
       "MaleLowerQuartile                0\n",
       "FemaleLowerQuartile              0\n",
       "MaleLowerMiddleQuartile          0\n",
       "FemaleLowerMiddleQuartile        0\n",
       "MaleUpperMiddleQuartile          0\n",
       "FemaleUpperMiddleQuartile        0\n",
       "MaleTopQuartile                  0\n",
       "FemaleTopQuartile                0\n",
       "CompanyLinkToGPGInfo          2380\n",
       "ResponsiblePerson              240\n",
       "EmployerSize                     0\n",
       "CurrentName                      0\n",
       "SubmittedAfterTheDeadline        0\n",
       "DueDate                          0\n",
       "DateSubmitted                    0\n",
       "company_status                   0\n",
       "creation_date                    2\n",
       "jurisdiction                     0\n",
       "registered_address_country       0\n",
       "company_type                     0\n",
       "locality                         0\n",
       "country                          0\n",
       "female_final                     0\n",
       "male_final                       0\n",
       "percent_female_officer           0\n",
       "dtype: int64"
      ]
     },
     "execution_count": 14,
     "metadata": {},
     "output_type": "execute_result"
    }
   ],
   "source": [
    "combined_18_19_3.isnull().sum()"
   ]
  },
  {
   "cell_type": "markdown",
   "metadata": {},
   "source": [
    "### Step 2: Converted the company link, responsible person and whether or not the gender pay gap data was submitted after the deadline into boolean features - many of the companies do not have any link and the factor I think will have most impact on the gender pay gap result is whether or not the company has a dedicated page on their website for gender pay gap or whether they have assigned a gender pay gap responsible person"
   ]
  },
  {
   "cell_type": "code",
   "execution_count": 15,
   "metadata": {},
   "outputs": [
    {
     "data": {
      "text/plain": [
       "0    5430\n",
       "1    2380\n",
       "Name: no_CompanyLink, dtype: int64"
      ]
     },
     "execution_count": 15,
     "metadata": {},
     "output_type": "execute_result"
    }
   ],
   "source": [
    "combined_18_19_3['no_CompanyLink'] = combined_18_19_3.CompanyLinkToGPGInfo.isnull()*1\n",
    "combined_18_19_3.no_CompanyLink.value_counts()"
   ]
  },
  {
   "cell_type": "code",
   "execution_count": 16,
   "metadata": {},
   "outputs": [
    {
     "data": {
      "text/plain": [
       "0    7570\n",
       "1     240\n",
       "Name: no_ResponsiblePerson, dtype: int64"
      ]
     },
     "execution_count": 16,
     "metadata": {},
     "output_type": "execute_result"
    }
   ],
   "source": [
    "combined_18_19_3['no_ResponsiblePerson'] = combined_18_19_3.ResponsiblePerson.isnull()*1\n",
    "combined_18_19_3.no_ResponsiblePerson.value_counts()"
   ]
  },
  {
   "cell_type": "code",
   "execution_count": 17,
   "metadata": {},
   "outputs": [
    {
     "data": {
      "text/plain": [
       "0    7493\n",
       "1     317\n",
       "Name: SubmittedAfterTheDeadline, dtype: int64"
      ]
     },
     "execution_count": 17,
     "metadata": {},
     "output_type": "execute_result"
    }
   ],
   "source": [
    "combined_18_19_3.SubmittedAfterTheDeadline = combined_18_19_3.SubmittedAfterTheDeadline*1\n",
    "combined_18_19_3.SubmittedAfterTheDeadline.value_counts()"
   ]
  },
  {
   "cell_type": "markdown",
   "metadata": {},
   "source": [
    "### Step 3: Some columns were dropped as they were not relevent for the model - either because the original column was used for feature engineering, because the data was not applicable or because the data was duplicated somewhere else. "
   ]
  },
  {
   "cell_type": "code",
   "execution_count": 18,
   "metadata": {},
   "outputs": [],
   "source": [
    "combined_18_19_3.drop(columns=['Address', 'CompanyLinkToGPGInfo', 'ResponsiblePerson', 'CurrentName', \n",
    "                               'DueDate', 'DateSubmitted', 'creation_date', 'country'], inplace=True)"
   ]
  },
  {
   "cell_type": "code",
   "execution_count": 19,
   "metadata": {},
   "outputs": [
    {
     "name": "stdout",
     "output_type": "stream",
     "text": [
      "<class 'pandas.core.frame.DataFrame'>\n",
      "Index: 7810 entries, 00000140 to ZC000164\n",
      "Data columns (total 28 columns):\n",
      " #   Column                      Non-Null Count  Dtype  \n",
      "---  ------                      --------------  -----  \n",
      " 0   EmployerName                7810 non-null   object \n",
      " 1   SicCodes                    7665 non-null   object \n",
      " 2   DiffMeanHourlyPercent       7810 non-null   float64\n",
      " 3   DiffMedianHourlyPercent     7810 non-null   float64\n",
      " 4   DiffMeanBonusPercent        7810 non-null   float64\n",
      " 5   DiffMedianBonusPercent      7810 non-null   float64\n",
      " 6   MaleBonusPercent            7810 non-null   float64\n",
      " 7   FemaleBonusPercent          7810 non-null   float64\n",
      " 8   MaleLowerQuartile           7810 non-null   float64\n",
      " 9   FemaleLowerQuartile         7810 non-null   float64\n",
      " 10  MaleLowerMiddleQuartile     7810 non-null   float64\n",
      " 11  FemaleLowerMiddleQuartile   7810 non-null   float64\n",
      " 12  MaleUpperMiddleQuartile     7810 non-null   float64\n",
      " 13  FemaleUpperMiddleQuartile   7810 non-null   float64\n",
      " 14  MaleTopQuartile             7810 non-null   float64\n",
      " 15  FemaleTopQuartile           7810 non-null   float64\n",
      " 16  EmployerSize                7810 non-null   object \n",
      " 17  SubmittedAfterTheDeadline   7810 non-null   int64  \n",
      " 18  company_status              7810 non-null   object \n",
      " 19  jurisdiction                7810 non-null   object \n",
      " 20  registered_address_country  7810 non-null   object \n",
      " 21  company_type                7810 non-null   object \n",
      " 22  locality                    7810 non-null   object \n",
      " 23  female_final                7810 non-null   int64  \n",
      " 24  male_final                  7810 non-null   int64  \n",
      " 25  percent_female_officer      7810 non-null   float64\n",
      " 26  no_CompanyLink              7810 non-null   int64  \n",
      " 27  no_ResponsiblePerson        7810 non-null   int64  \n",
      "dtypes: float64(15), int64(5), object(8)\n",
      "memory usage: 1.7+ MB\n"
     ]
    }
   ],
   "source": [
    "combined_18_19_3.info()"
   ]
  },
  {
   "cell_type": "markdown",
   "metadata": {},
   "source": [
    "<font color='red'>\n",
    "\n",
    "#### The Sic Code was included in the original gender pay gap dataset - this gives information about the sector of the company. I replaced the null rows with the word \"None'.\n",
    "    \n",
    "</font>\n"
   ]
  },
  {
   "cell_type": "code",
   "execution_count": 20,
   "metadata": {},
   "outputs": [
    {
     "name": "stderr",
     "output_type": "stream",
     "text": [
      "<ipython-input-20-0c9ee286c107>:1: SettingWithCopyWarning: \n",
      "A value is trying to be set on a copy of a slice from a DataFrame\n",
      "\n",
      "See the caveats in the documentation: https://pandas.pydata.org/pandas-docs/stable/user_guide/indexing.html#returning-a-view-versus-a-copy\n",
      "  combined_18_19_3.SicCodes[combined_18_19_3.SicCodes.isnull()] = 'None'\n"
     ]
    }
   ],
   "source": [
    "combined_18_19_3.SicCodes[combined_18_19_3.SicCodes.isnull()] = 'None'"
   ]
  },
  {
   "cell_type": "code",
   "execution_count": 22,
   "metadata": {},
   "outputs": [
    {
     "data": {
      "text/html": [
       "<div>\n",
       "<style scoped>\n",
       "    .dataframe tbody tr th:only-of-type {\n",
       "        vertical-align: middle;\n",
       "    }\n",
       "\n",
       "    .dataframe tbody tr th {\n",
       "        vertical-align: top;\n",
       "    }\n",
       "\n",
       "    .dataframe thead th {\n",
       "        text-align: right;\n",
       "    }\n",
       "</style>\n",
       "<table border=\"1\" class=\"dataframe\">\n",
       "  <thead>\n",
       "    <tr style=\"text-align: right;\">\n",
       "      <th></th>\n",
       "      <th>SicCodes</th>\n",
       "    </tr>\n",
       "  </thead>\n",
       "  <tbody>\n",
       "    <tr>\n",
       "      <th>00000140</th>\n",
       "      <td>46730</td>\n",
       "    </tr>\n",
       "    <tr>\n",
       "      <th>00002065</th>\n",
       "      <td>64191</td>\n",
       "    </tr>\n",
       "    <tr>\n",
       "      <th>00002404</th>\n",
       "      <td>50100,\\n50200</td>\n",
       "    </tr>\n",
       "    <tr>\n",
       "      <th>00006400</th>\n",
       "      <td>85100,\\n85200,\\n85310</td>\n",
       "    </tr>\n",
       "    <tr>\n",
       "      <th>00008614</th>\n",
       "      <td>29201</td>\n",
       "    </tr>\n",
       "  </tbody>\n",
       "</table>\n",
       "</div>"
      ],
      "text/plain": [
       "                       SicCodes\n",
       "00000140                  46730\n",
       "00002065                  64191\n",
       "00002404          50100,\\n50200\n",
       "00006400  85100,\\n85200,\\n85310\n",
       "00008614                  29201"
      ]
     },
     "execution_count": 22,
     "metadata": {},
     "output_type": "execute_result"
    }
   ],
   "source": [
    "combined_18_19_3[['SicCodes']].head()"
   ]
  },
  {
   "cell_type": "markdown",
   "metadata": {},
   "source": [
    "### Step 4: The rating data was read in. Since reviews were not obtained for all companies, I dropped rows that had an NA in the colunn number_of_reviews, as these were companies for which no review data could be screaped. The dataset was merged with the earlier combined dataset, companies for which there were no review data obtained were removed. I repeated the same step as before, removing the columns that would not be needed in the model, "
   ]
  },
  {
   "cell_type": "code",
   "execution_count": 23,
   "metadata": {},
   "outputs": [
    {
     "data": {
      "text/html": [
       "<div>\n",
       "<style scoped>\n",
       "    .dataframe tbody tr th:only-of-type {\n",
       "        vertical-align: middle;\n",
       "    }\n",
       "\n",
       "    .dataframe tbody tr th {\n",
       "        vertical-align: top;\n",
       "    }\n",
       "\n",
       "    .dataframe thead th {\n",
       "        text-align: right;\n",
       "    }\n",
       "</style>\n",
       "<table border=\"1\" class=\"dataframe\">\n",
       "  <thead>\n",
       "    <tr style=\"text-align: right;\">\n",
       "      <th></th>\n",
       "      <th>Unnamed: 0</th>\n",
       "      <th>review_date</th>\n",
       "      <th>review_header</th>\n",
       "      <th>review_text</th>\n",
       "      <th>review_pros</th>\n",
       "      <th>review_cons</th>\n",
       "      <th>count_5_star</th>\n",
       "      <th>count_4_star</th>\n",
       "      <th>count_3_star</th>\n",
       "      <th>count_2_star</th>\n",
       "      <th>count_1_star</th>\n",
       "      <th>number_of_reviews</th>\n",
       "      <th>company_rating</th>\n",
       "      <th>work_life_balance</th>\n",
       "      <th>pay_and_benefits</th>\n",
       "      <th>job_security_and_advancement</th>\n",
       "      <th>management</th>\n",
       "      <th>culture</th>\n",
       "      <th>EmployerName</th>\n",
       "      <th>employer_clean</th>\n",
       "    </tr>\n",
       "    <tr>\n",
       "      <th>CompanyNumber</th>\n",
       "      <th></th>\n",
       "      <th></th>\n",
       "      <th></th>\n",
       "      <th></th>\n",
       "      <th></th>\n",
       "      <th></th>\n",
       "      <th></th>\n",
       "      <th></th>\n",
       "      <th></th>\n",
       "      <th></th>\n",
       "      <th></th>\n",
       "      <th></th>\n",
       "      <th></th>\n",
       "      <th></th>\n",
       "      <th></th>\n",
       "      <th></th>\n",
       "      <th></th>\n",
       "      <th></th>\n",
       "      <th></th>\n",
       "      <th></th>\n",
       "    </tr>\n",
       "  </thead>\n",
       "  <tbody>\n",
       "    <tr>\n",
       "      <th>SC016876</th>\n",
       "      <td>0</td>\n",
       "      <td>[]</td>\n",
       "      <td>[]</td>\n",
       "      <td>[]</td>\n",
       "      <td>[]</td>\n",
       "      <td>[]</td>\n",
       "      <td>NaN</td>\n",
       "      <td>NaN</td>\n",
       "      <td>NaN</td>\n",
       "      <td>NaN</td>\n",
       "      <td>NaN</td>\n",
       "      <td>NaN</td>\n",
       "      <td>NaN</td>\n",
       "      <td>NaN</td>\n",
       "      <td>NaN</td>\n",
       "      <td>NaN</td>\n",
       "      <td>NaN</td>\n",
       "      <td>NaN</td>\n",
       "      <td>\"RED BAND\" CHEMICAL COMPANY, LIMITED</td>\n",
       "      <td>\"RED</td>\n",
       "    </tr>\n",
       "    <tr>\n",
       "      <th>03951948</th>\n",
       "      <td>1</td>\n",
       "      <td>[]</td>\n",
       "      <td>[]</td>\n",
       "      <td>[]</td>\n",
       "      <td>[]</td>\n",
       "      <td>[]</td>\n",
       "      <td>1</td>\n",
       "      <td>3</td>\n",
       "      <td>2</td>\n",
       "      <td>0</td>\n",
       "      <td>0</td>\n",
       "      <td>6 reviews</td>\n",
       "      <td>3.8</td>\n",
       "      <td>3.3</td>\n",
       "      <td>2.5</td>\n",
       "      <td>2.5</td>\n",
       "      <td>3.0</td>\n",
       "      <td>3.3</td>\n",
       "      <td>118 LIMITED</td>\n",
       "      <td>118</td>\n",
       "    </tr>\n",
       "    <tr>\n",
       "      <th>10530651</th>\n",
       "      <td>2</td>\n",
       "      <td>[]</td>\n",
       "      <td>[]</td>\n",
       "      <td>[]</td>\n",
       "      <td>[]</td>\n",
       "      <td>[]</td>\n",
       "      <td>NaN</td>\n",
       "      <td>NaN</td>\n",
       "      <td>2</td>\n",
       "      <td>0</td>\n",
       "      <td>0</td>\n",
       "      <td>NaN</td>\n",
       "      <td>NaN</td>\n",
       "      <td>NaN</td>\n",
       "      <td>NaN</td>\n",
       "      <td>NaN</td>\n",
       "      <td>NaN</td>\n",
       "      <td>NaN</td>\n",
       "      <td>123 EMPLOYEES LTD</td>\n",
       "      <td>123</td>\n",
       "    </tr>\n",
       "    <tr>\n",
       "      <th>04104101</th>\n",
       "      <td>3</td>\n",
       "      <td>[]</td>\n",
       "      <td>[]</td>\n",
       "      <td>[]</td>\n",
       "      <td>[]</td>\n",
       "      <td>[]</td>\n",
       "      <td>NaN</td>\n",
       "      <td>NaN</td>\n",
       "      <td>2</td>\n",
       "      <td>0</td>\n",
       "      <td>0</td>\n",
       "      <td>NaN</td>\n",
       "      <td>NaN</td>\n",
       "      <td>NaN</td>\n",
       "      <td>NaN</td>\n",
       "      <td>NaN</td>\n",
       "      <td>NaN</td>\n",
       "      <td>NaN</td>\n",
       "      <td>1509 GROUP</td>\n",
       "      <td>1509</td>\n",
       "    </tr>\n",
       "    <tr>\n",
       "      <th>06727055</th>\n",
       "      <td>4</td>\n",
       "      <td>[['28 November 2017'], ['12 July 2017'], ['26 ...</td>\n",
       "      <td>['The turn over of staff tells you everything ...</td>\n",
       "      <td>['Once a fantastic company to work for, 1610 w...</td>\n",
       "      <td>['Opportunities to be promoted quickly']</td>\n",
       "      <td>['Lack of support mechanisms available to deli...</td>\n",
       "      <td>2</td>\n",
       "      <td>1</td>\n",
       "      <td>0</td>\n",
       "      <td>1</td>\n",
       "      <td>0</td>\n",
       "      <td>4 reviews</td>\n",
       "      <td>4.0</td>\n",
       "      <td>4.0</td>\n",
       "      <td>3.8</td>\n",
       "      <td>3.5</td>\n",
       "      <td>3.0</td>\n",
       "      <td>3.5</td>\n",
       "      <td>1610 LIMITED</td>\n",
       "      <td>1610</td>\n",
       "    </tr>\n",
       "    <tr>\n",
       "      <th>02566586</th>\n",
       "      <td>5</td>\n",
       "      <td>[]</td>\n",
       "      <td>[]</td>\n",
       "      <td>[]</td>\n",
       "      <td>[]</td>\n",
       "      <td>[]</td>\n",
       "      <td>7</td>\n",
       "      <td>1</td>\n",
       "      <td>0</td>\n",
       "      <td>0</td>\n",
       "      <td>0</td>\n",
       "      <td>8 reviews</td>\n",
       "      <td>4.9</td>\n",
       "      <td>4.3</td>\n",
       "      <td>4.5</td>\n",
       "      <td>5.0</td>\n",
       "      <td>4.6</td>\n",
       "      <td>5.0</td>\n",
       "      <td>1LIFE MANAGEMENT SOLUTIONS LIMITED</td>\n",
       "      <td>1LIFE</td>\n",
       "    </tr>\n",
       "    <tr>\n",
       "      <th>07972006</th>\n",
       "      <td>6</td>\n",
       "      <td>[['27 January 2016'], ['12 November 2016']]</td>\n",
       "      <td>['ok', 'good to work with']</td>\n",
       "      <td>['It was okay working there, long hours and go...</td>\n",
       "      <td>['good experience']</td>\n",
       "      <td>['long hours']</td>\n",
       "      <td>1</td>\n",
       "      <td>2</td>\n",
       "      <td>2</td>\n",
       "      <td>1</td>\n",
       "      <td>1</td>\n",
       "      <td>7 reviews</td>\n",
       "      <td>3.1</td>\n",
       "      <td>3.3</td>\n",
       "      <td>2.7</td>\n",
       "      <td>2.8</td>\n",
       "      <td>3.0</td>\n",
       "      <td>3.0</td>\n",
       "      <td>1ST CHOICE STAFF RECRUITMENT LIMITED</td>\n",
       "      <td>1ST</td>\n",
       "    </tr>\n",
       "    <tr>\n",
       "      <th>SC156515</th>\n",
       "      <td>7</td>\n",
       "      <td>[]</td>\n",
       "      <td>[]</td>\n",
       "      <td>[]</td>\n",
       "      <td>[]</td>\n",
       "      <td>[]</td>\n",
       "      <td>NaN</td>\n",
       "      <td>NaN</td>\n",
       "      <td>2</td>\n",
       "      <td>1</td>\n",
       "      <td>1</td>\n",
       "      <td>NaN</td>\n",
       "      <td>NaN</td>\n",
       "      <td>NaN</td>\n",
       "      <td>NaN</td>\n",
       "      <td>NaN</td>\n",
       "      <td>NaN</td>\n",
       "      <td>NaN</td>\n",
       "      <td>2 AGRICULTURE LIMITED</td>\n",
       "      <td>2</td>\n",
       "    </tr>\n",
       "  </tbody>\n",
       "</table>\n",
       "</div>"
      ],
      "text/plain": [
       "               Unnamed: 0                                        review_date  \\\n",
       "CompanyNumber                                                                  \n",
       "SC016876                0                                                 []   \n",
       "03951948                1                                                 []   \n",
       "10530651                2                                                 []   \n",
       "04104101                3                                                 []   \n",
       "06727055                4  [['28 November 2017'], ['12 July 2017'], ['26 ...   \n",
       "02566586                5                                                 []   \n",
       "07972006                6        [['27 January 2016'], ['12 November 2016']]   \n",
       "SC156515                7                                                 []   \n",
       "\n",
       "                                                   review_header  \\\n",
       "CompanyNumber                                                      \n",
       "SC016876                                                      []   \n",
       "03951948                                                      []   \n",
       "10530651                                                      []   \n",
       "04104101                                                      []   \n",
       "06727055       ['The turn over of staff tells you everything ...   \n",
       "02566586                                                      []   \n",
       "07972006                             ['ok', 'good to work with']   \n",
       "SC156515                                                      []   \n",
       "\n",
       "                                                     review_text  \\\n",
       "CompanyNumber                                                      \n",
       "SC016876                                                      []   \n",
       "03951948                                                      []   \n",
       "10530651                                                      []   \n",
       "04104101                                                      []   \n",
       "06727055       ['Once a fantastic company to work for, 1610 w...   \n",
       "02566586                                                      []   \n",
       "07972006       ['It was okay working there, long hours and go...   \n",
       "SC156515                                                      []   \n",
       "\n",
       "                                            review_pros  \\\n",
       "CompanyNumber                                             \n",
       "SC016876                                             []   \n",
       "03951948                                             []   \n",
       "10530651                                             []   \n",
       "04104101                                             []   \n",
       "06727055       ['Opportunities to be promoted quickly']   \n",
       "02566586                                             []   \n",
       "07972006                            ['good experience']   \n",
       "SC156515                                             []   \n",
       "\n",
       "                                                     review_cons count_5_star  \\\n",
       "CompanyNumber                                                                   \n",
       "SC016876                                                      []          NaN   \n",
       "03951948                                                      []            1   \n",
       "10530651                                                      []          NaN   \n",
       "04104101                                                      []          NaN   \n",
       "06727055       ['Lack of support mechanisms available to deli...            2   \n",
       "02566586                                                      []            7   \n",
       "07972006                                          ['long hours']            1   \n",
       "SC156515                                                      []          NaN   \n",
       "\n",
       "              count_4_star count_3_star count_2_star count_1_star  \\\n",
       "CompanyNumber                                                       \n",
       "SC016876               NaN          NaN          NaN          NaN   \n",
       "03951948                 3            2            0            0   \n",
       "10530651               NaN            2            0            0   \n",
       "04104101               NaN            2            0            0   \n",
       "06727055                 1            0            1            0   \n",
       "02566586                 1            0            0            0   \n",
       "07972006                 2            2            1            1   \n",
       "SC156515               NaN            2            1            1   \n",
       "\n",
       "              number_of_reviews  company_rating work_life_balance  \\\n",
       "CompanyNumber                                                       \n",
       "SC016876                    NaN             NaN               NaN   \n",
       "03951948              6 reviews             3.8               3.3   \n",
       "10530651                    NaN             NaN               NaN   \n",
       "04104101                    NaN             NaN               NaN   \n",
       "06727055              4 reviews             4.0               4.0   \n",
       "02566586              8 reviews             4.9               4.3   \n",
       "07972006              7 reviews             3.1               3.3   \n",
       "SC156515                    NaN             NaN               NaN   \n",
       "\n",
       "              pay_and_benefits job_security_and_advancement management  \\\n",
       "CompanyNumber                                                            \n",
       "SC016876                   NaN                          NaN        NaN   \n",
       "03951948                   2.5                          2.5        3.0   \n",
       "10530651                   NaN                          NaN        NaN   \n",
       "04104101                   NaN                          NaN        NaN   \n",
       "06727055                   3.8                          3.5        3.0   \n",
       "02566586                   4.5                          5.0        4.6   \n",
       "07972006                   2.7                          2.8        3.0   \n",
       "SC156515                   NaN                          NaN        NaN   \n",
       "\n",
       "              culture                          EmployerName employer_clean  \n",
       "CompanyNumber                                                               \n",
       "SC016876          NaN  \"RED BAND\" CHEMICAL COMPANY, LIMITED           \"RED  \n",
       "03951948          3.3                           118 LIMITED            118  \n",
       "10530651          NaN                     123 EMPLOYEES LTD            123  \n",
       "04104101          NaN                            1509 GROUP           1509  \n",
       "06727055          3.5                          1610 LIMITED           1610  \n",
       "02566586          5.0    1LIFE MANAGEMENT SOLUTIONS LIMITED          1LIFE  \n",
       "07972006          3.0  1ST CHOICE STAFF RECRUITMENT LIMITED            1ST  \n",
       "SC156515          NaN                 2 AGRICULTURE LIMITED              2  "
      ]
     },
     "execution_count": 23,
     "metadata": {},
     "output_type": "execute_result"
    }
   ],
   "source": [
    "all_reviews_18_19 = pd.read_csv('all_reviews_18_19.csv', index_col='CompanyNumber')\n",
    "all_reviews_18_19.head(8)"
   ]
  },
  {
   "cell_type": "code",
   "execution_count": 24,
   "metadata": {},
   "outputs": [],
   "source": [
    "all_reviews_18_19.dropna(subset=['number_of_reviews'], inplace=True)"
   ]
  },
  {
   "cell_type": "code",
   "execution_count": 25,
   "metadata": {},
   "outputs": [],
   "source": [
    "combined_18_19_4 = pd.merge(combined_18_19_3, all_reviews_18_19,\n",
    "                          left_index=True, right_index=True)"
   ]
  },
  {
   "cell_type": "code",
   "execution_count": 26,
   "metadata": {},
   "outputs": [
    {
     "name": "stdout",
     "output_type": "stream",
     "text": [
      "<class 'pandas.core.frame.DataFrame'>\n",
      "Index: 6373 entries, 00002065 to ZC000164\n",
      "Data columns (total 48 columns):\n",
      " #   Column                        Non-Null Count  Dtype  \n",
      "---  ------                        --------------  -----  \n",
      " 0   EmployerName_x                6373 non-null   object \n",
      " 1   SicCodes                      6373 non-null   object \n",
      " 2   DiffMeanHourlyPercent         6373 non-null   float64\n",
      " 3   DiffMedianHourlyPercent       6373 non-null   float64\n",
      " 4   DiffMeanBonusPercent          6373 non-null   float64\n",
      " 5   DiffMedianBonusPercent        6373 non-null   float64\n",
      " 6   MaleBonusPercent              6373 non-null   float64\n",
      " 7   FemaleBonusPercent            6373 non-null   float64\n",
      " 8   MaleLowerQuartile             6373 non-null   float64\n",
      " 9   FemaleLowerQuartile           6373 non-null   float64\n",
      " 10  MaleLowerMiddleQuartile       6373 non-null   float64\n",
      " 11  FemaleLowerMiddleQuartile     6373 non-null   float64\n",
      " 12  MaleUpperMiddleQuartile       6373 non-null   float64\n",
      " 13  FemaleUpperMiddleQuartile     6373 non-null   float64\n",
      " 14  MaleTopQuartile               6373 non-null   float64\n",
      " 15  FemaleTopQuartile             6373 non-null   float64\n",
      " 16  EmployerSize                  6373 non-null   object \n",
      " 17  SubmittedAfterTheDeadline     6373 non-null   int64  \n",
      " 18  company_status                6373 non-null   object \n",
      " 19  jurisdiction                  6373 non-null   object \n",
      " 20  registered_address_country    6373 non-null   object \n",
      " 21  company_type                  6373 non-null   object \n",
      " 22  locality                      6373 non-null   object \n",
      " 23  female_final                  6373 non-null   int64  \n",
      " 24  male_final                    6373 non-null   int64  \n",
      " 25  percent_female_officer        6373 non-null   float64\n",
      " 26  no_CompanyLink                6373 non-null   int64  \n",
      " 27  no_ResponsiblePerson          6373 non-null   int64  \n",
      " 28  Unnamed: 0                    6373 non-null   int64  \n",
      " 29  review_date                   6373 non-null   object \n",
      " 30  review_header                 6373 non-null   object \n",
      " 31  review_text                   6373 non-null   object \n",
      " 32  review_pros                   6373 non-null   object \n",
      " 33  review_cons                   6373 non-null   object \n",
      " 34  count_5_star                  6370 non-null   object \n",
      " 35  count_4_star                  6370 non-null   object \n",
      " 36  count_3_star                  6373 non-null   object \n",
      " 37  count_2_star                  6373 non-null   object \n",
      " 38  count_1_star                  6373 non-null   object \n",
      " 39  number_of_reviews             6373 non-null   object \n",
      " 40  company_rating                6373 non-null   float64\n",
      " 41  work_life_balance             6371 non-null   object \n",
      " 42  pay_and_benefits              6371 non-null   object \n",
      " 43  job_security_and_advancement  6371 non-null   object \n",
      " 44  management                    6371 non-null   object \n",
      " 45  culture                       6341 non-null   object \n",
      " 46  EmployerName_y                6373 non-null   object \n",
      " 47  employer_clean                6373 non-null   object \n",
      "dtypes: float64(16), int64(6), object(26)\n",
      "memory usage: 2.4+ MB\n"
     ]
    }
   ],
   "source": [
    "combined_18_19_4.info()"
   ]
  },
  {
   "cell_type": "code",
   "execution_count": 27,
   "metadata": {},
   "outputs": [],
   "source": [
    "combined_18_19_4.drop(columns=['Unnamed: 0', 'review_date', 'EmployerName_y', 'employer_clean'], inplace=True)"
   ]
  },
  {
   "cell_type": "markdown",
   "metadata": {},
   "source": [
    "### Step 5: Data cleaning - firstly had to convert the star ratings from strings into floats, in order to do this I needed to convert numbers with strings contained - e.g. 1K to 1,000. Then I had to do a similar conversion for the number of reviews, as well as deleting the word 'review' or 'reviews' from the end of the string. "
   ]
  },
  {
   "cell_type": "code",
   "execution_count": 28,
   "metadata": {},
   "outputs": [],
   "source": [
    "new_count_5_star = []\n",
    "new_count_4_star = []\n",
    "new_count_3_star = []\n",
    "new_count_2_star = []\n",
    "new_count_1_star = []\n",
    "\n",
    "for line in combined_18_19_4.count_5_star:\n",
    "    try:\n",
    "        line = float(line)\n",
    "        new_count_5_star.append(line)\n",
    "    except:\n",
    "        new_line = float(line.replace(\"K\", \"\"))\n",
    "        final_line = new_line*1000\n",
    "        new_count_5_star.append(final_line)\n",
    "        \n",
    "for line in combined_18_19_4.count_4_star:\n",
    "    try:\n",
    "        line = float(line)\n",
    "        new_count_4_star.append(line)\n",
    "    except:\n",
    "        new_line = float(line.replace(\"K\", \"\"))\n",
    "        final_line = new_line*1000\n",
    "        new_count_4_star.append(final_line)\n",
    "        \n",
    "for line in combined_18_19_4.count_3_star:\n",
    "    try:\n",
    "        line = float(line)\n",
    "        new_count_3_star.append(line)\n",
    "    except:\n",
    "        new_line = float(line.replace(\"K\", \"\"))\n",
    "        final_line = new_line*1000\n",
    "        new_count_3_star.append(final_line)\n",
    "        \n",
    "for line in combined_18_19_4.count_2_star:\n",
    "    try:\n",
    "        line = float(line)\n",
    "        new_count_2_star.append(line)\n",
    "    except:\n",
    "        new_line = float(line.replace(\"K\", \"\"))\n",
    "        final_line = new_line*1000\n",
    "        new_count_2_star.append(final_line)\n",
    "        \n",
    "for line in combined_18_19_4.count_1_star:\n",
    "    try:\n",
    "        line = float(line)\n",
    "        new_count_1_star.append(line)\n",
    "    except:\n",
    "        new_line = float(line.replace(\"K\", \"\"))\n",
    "        final_line = new_line*1000\n",
    "        new_count_1_star.append(final_line)"
   ]
  },
  {
   "cell_type": "code",
   "execution_count": 29,
   "metadata": {},
   "outputs": [],
   "source": [
    "new_number_of_reviews = []\n",
    "\n",
    "for line in combined_18_19_4.number_of_reviews:\n",
    "    line = line.replace(' reviews', '')\n",
    "    line = line.replace(' review', '')\n",
    "    try:\n",
    "        line = float(line)\n",
    "        new_number_of_reviews.append(line)\n",
    "    except:\n",
    "        new_line = float(line.replace(\"K\", \"\"))\n",
    "        final_line = new_line*1000\n",
    "        new_number_of_reviews.append(final_line)"
   ]
  },
  {
   "cell_type": "code",
   "execution_count": 30,
   "metadata": {},
   "outputs": [
    {
     "data": {
      "text/plain": [
       "6373"
      ]
     },
     "execution_count": 30,
     "metadata": {},
     "output_type": "execute_result"
    }
   ],
   "source": [
    "len(new_number_of_reviews)"
   ]
  },
  {
   "cell_type": "markdown",
   "metadata": {},
   "source": [
    "### Step 6: Data cleaning - for each of the review categories that provided ratings out of 5, I looked at any items that could not be converted to a float which appeared to be letters or combinations of letters. I therefore decided to instead convert these to a value of 3 since there were only a very small number of values that could not be converted to float. I then created a new dataframe with the cleaned variables and saved this as a csv file. "
   ]
  },
  {
   "cell_type": "code",
   "execution_count": 31,
   "metadata": {},
   "outputs": [],
   "source": [
    "# combined_18_19_4.work_life_balance\n",
    "new_work_life_balance = []\n",
    "for line in combined_18_19_4.work_life_balance:\n",
    "    try:\n",
    "        line = float(line)\n",
    "        new_work_life_balance.append(line)\n",
    "    except:\n",
    "        new_work_life_balance.append(3)"
   ]
  },
  {
   "cell_type": "code",
   "execution_count": 32,
   "metadata": {},
   "outputs": [
    {
     "data": {
      "text/plain": [
       "6373"
      ]
     },
     "execution_count": 32,
     "metadata": {},
     "output_type": "execute_result"
    }
   ],
   "source": [
    "len(new_work_life_balance)"
   ]
  },
  {
   "cell_type": "code",
   "execution_count": 33,
   "metadata": {},
   "outputs": [],
   "source": [
    "new_pay_and_benefits = []\n",
    "for line in combined_18_19_4.pay_and_benefits:\n",
    "    try:\n",
    "        line = float(line)\n",
    "        new_pay_and_benefits.append(line)\n",
    "    except:\n",
    "        new_pay_and_benefits.append(3)"
   ]
  },
  {
   "cell_type": "code",
   "execution_count": 34,
   "metadata": {},
   "outputs": [
    {
     "data": {
      "text/plain": [
       "6373"
      ]
     },
     "execution_count": 34,
     "metadata": {},
     "output_type": "execute_result"
    }
   ],
   "source": [
    "len(new_pay_and_benefits)"
   ]
  },
  {
   "cell_type": "code",
   "execution_count": 35,
   "metadata": {},
   "outputs": [],
   "source": [
    "new_job_security_and_advancement = []\n",
    "for line in combined_18_19_4.job_security_and_advancement:\n",
    "    try:\n",
    "        line = float(line)\n",
    "        new_job_security_and_advancement.append(line)\n",
    "    except:\n",
    "        new_job_security_and_advancement.append(3)"
   ]
  },
  {
   "cell_type": "code",
   "execution_count": 36,
   "metadata": {},
   "outputs": [
    {
     "data": {
      "text/plain": [
       "6373"
      ]
     },
     "execution_count": 36,
     "metadata": {},
     "output_type": "execute_result"
    }
   ],
   "source": [
    "len(new_job_security_and_advancement)"
   ]
  },
  {
   "cell_type": "code",
   "execution_count": 37,
   "metadata": {},
   "outputs": [],
   "source": [
    "# combined_18_19_4.management = combined_18_19_4.management.astype(float)\n",
    "new_management = []\n",
    "for line in combined_18_19_4.management:\n",
    "    try:\n",
    "        line = float(line)\n",
    "        new_management.append(line)\n",
    "    except:\n",
    "        new_management.append(3)"
   ]
  },
  {
   "cell_type": "code",
   "execution_count": 38,
   "metadata": {},
   "outputs": [
    {
     "data": {
      "text/plain": [
       "6373"
      ]
     },
     "execution_count": 38,
     "metadata": {},
     "output_type": "execute_result"
    }
   ],
   "source": [
    "len(new_management)"
   ]
  },
  {
   "cell_type": "code",
   "execution_count": 39,
   "metadata": {},
   "outputs": [],
   "source": [
    "# combined_18_19_4.culture = combined_18_19_4.culture.astype(float)\n",
    "new_culture = []\n",
    "for line in combined_18_19_4.culture:\n",
    "    try:\n",
    "        line = float(line)\n",
    "        new_culture.append(line)\n",
    "    except:\n",
    "        new_culture.append(3)"
   ]
  },
  {
   "cell_type": "code",
   "execution_count": 40,
   "metadata": {},
   "outputs": [
    {
     "data": {
      "text/plain": [
       "6373"
      ]
     },
     "execution_count": 40,
     "metadata": {},
     "output_type": "execute_result"
    }
   ],
   "source": [
    "len(new_culture)"
   ]
  },
  {
   "cell_type": "code",
   "execution_count": 41,
   "metadata": {},
   "outputs": [
    {
     "data": {
      "text/plain": [
       "Index(['EmployerName_x', 'SicCodes', 'DiffMeanHourlyPercent',\n",
       "       'DiffMedianHourlyPercent', 'DiffMeanBonusPercent',\n",
       "       'DiffMedianBonusPercent', 'MaleBonusPercent', 'FemaleBonusPercent',\n",
       "       'MaleLowerQuartile', 'FemaleLowerQuartile', 'MaleLowerMiddleQuartile',\n",
       "       'FemaleLowerMiddleQuartile', 'MaleUpperMiddleQuartile',\n",
       "       'FemaleUpperMiddleQuartile', 'MaleTopQuartile', 'FemaleTopQuartile',\n",
       "       'EmployerSize', 'SubmittedAfterTheDeadline', 'company_status',\n",
       "       'jurisdiction', 'registered_address_country', 'company_type',\n",
       "       'locality', 'female_final', 'male_final', 'percent_female_officer',\n",
       "       'no_CompanyLink', 'no_ResponsiblePerson', 'review_header',\n",
       "       'review_text', 'review_pros', 'review_cons', 'count_5_star',\n",
       "       'count_4_star', 'count_3_star', 'count_2_star', 'count_1_star',\n",
       "       'number_of_reviews', 'company_rating', 'work_life_balance',\n",
       "       'pay_and_benefits', 'job_security_and_advancement', 'management',\n",
       "       'culture'],\n",
       "      dtype='object')"
      ]
     },
     "execution_count": 41,
     "metadata": {},
     "output_type": "execute_result"
    }
   ],
   "source": [
    "combined_18_19_4.columns"
   ]
  },
  {
   "cell_type": "code",
   "execution_count": 42,
   "metadata": {},
   "outputs": [],
   "source": [
    "combined_18_19_4.count_5_star = new_count_5_star\n",
    "combined_18_19_4.count_4_star = new_count_4_star\n",
    "combined_18_19_4.count_3_star = new_count_3_star\n",
    "combined_18_19_4.count_2_star = new_count_2_star\n",
    "combined_18_19_4.count_1_star = new_count_1_star\n",
    "combined_18_19_4.number_of_reviews = new_number_of_reviews\n",
    "combined_18_19_4.work_life_balance = new_work_life_balance\n",
    "combined_18_19_4.pay_and_benefits = new_pay_and_benefits\n",
    "combined_18_19_4.job_security_and_advancement = new_job_security_and_advancement\n",
    "combined_18_19_4.management = new_management\n",
    "combined_18_19_4.culture = new_culture"
   ]
  },
  {
   "cell_type": "code",
   "execution_count": 43,
   "metadata": {},
   "outputs": [
    {
     "name": "stdout",
     "output_type": "stream",
     "text": [
      "<class 'pandas.core.frame.DataFrame'>\n",
      "Index: 6373 entries, 00002065 to ZC000164\n",
      "Data columns (total 44 columns):\n",
      " #   Column                        Non-Null Count  Dtype  \n",
      "---  ------                        --------------  -----  \n",
      " 0   EmployerName_x                6373 non-null   object \n",
      " 1   SicCodes                      6373 non-null   object \n",
      " 2   DiffMeanHourlyPercent         6373 non-null   float64\n",
      " 3   DiffMedianHourlyPercent       6373 non-null   float64\n",
      " 4   DiffMeanBonusPercent          6373 non-null   float64\n",
      " 5   DiffMedianBonusPercent        6373 non-null   float64\n",
      " 6   MaleBonusPercent              6373 non-null   float64\n",
      " 7   FemaleBonusPercent            6373 non-null   float64\n",
      " 8   MaleLowerQuartile             6373 non-null   float64\n",
      " 9   FemaleLowerQuartile           6373 non-null   float64\n",
      " 10  MaleLowerMiddleQuartile       6373 non-null   float64\n",
      " 11  FemaleLowerMiddleQuartile     6373 non-null   float64\n",
      " 12  MaleUpperMiddleQuartile       6373 non-null   float64\n",
      " 13  FemaleUpperMiddleQuartile     6373 non-null   float64\n",
      " 14  MaleTopQuartile               6373 non-null   float64\n",
      " 15  FemaleTopQuartile             6373 non-null   float64\n",
      " 16  EmployerSize                  6373 non-null   object \n",
      " 17  SubmittedAfterTheDeadline     6373 non-null   int64  \n",
      " 18  company_status                6373 non-null   object \n",
      " 19  jurisdiction                  6373 non-null   object \n",
      " 20  registered_address_country    6373 non-null   object \n",
      " 21  company_type                  6373 non-null   object \n",
      " 22  locality                      6373 non-null   object \n",
      " 23  female_final                  6373 non-null   int64  \n",
      " 24  male_final                    6373 non-null   int64  \n",
      " 25  percent_female_officer        6373 non-null   float64\n",
      " 26  no_CompanyLink                6373 non-null   int64  \n",
      " 27  no_ResponsiblePerson          6373 non-null   int64  \n",
      " 28  review_header                 6373 non-null   object \n",
      " 29  review_text                   6373 non-null   object \n",
      " 30  review_pros                   6373 non-null   object \n",
      " 31  review_cons                   6373 non-null   object \n",
      " 32  count_5_star                  6370 non-null   float64\n",
      " 33  count_4_star                  6370 non-null   float64\n",
      " 34  count_3_star                  6373 non-null   float64\n",
      " 35  count_2_star                  6373 non-null   float64\n",
      " 36  count_1_star                  6373 non-null   float64\n",
      " 37  number_of_reviews             6373 non-null   float64\n",
      " 38  company_rating                6373 non-null   float64\n",
      " 39  work_life_balance             6371 non-null   float64\n",
      " 40  pay_and_benefits              6371 non-null   float64\n",
      " 41  job_security_and_advancement  6371 non-null   float64\n",
      " 42  management                    6371 non-null   float64\n",
      " 43  culture                       6341 non-null   float64\n",
      "dtypes: float64(27), int64(5), object(12)\n",
      "memory usage: 2.2+ MB\n"
     ]
    }
   ],
   "source": [
    "combined_18_19_4.info()"
   ]
  },
  {
   "cell_type": "code",
   "execution_count": 44,
   "metadata": {},
   "outputs": [
    {
     "data": {
      "text/html": [
       "<div>\n",
       "<style scoped>\n",
       "    .dataframe tbody tr th:only-of-type {\n",
       "        vertical-align: middle;\n",
       "    }\n",
       "\n",
       "    .dataframe tbody tr th {\n",
       "        vertical-align: top;\n",
       "    }\n",
       "\n",
       "    .dataframe thead th {\n",
       "        text-align: right;\n",
       "    }\n",
       "</style>\n",
       "<table border=\"1\" class=\"dataframe\">\n",
       "  <thead>\n",
       "    <tr style=\"text-align: right;\">\n",
       "      <th></th>\n",
       "      <th>EmployerName_x</th>\n",
       "      <th>SicCodes</th>\n",
       "      <th>DiffMeanHourlyPercent</th>\n",
       "      <th>DiffMedianHourlyPercent</th>\n",
       "      <th>DiffMeanBonusPercent</th>\n",
       "      <th>DiffMedianBonusPercent</th>\n",
       "      <th>MaleBonusPercent</th>\n",
       "      <th>FemaleBonusPercent</th>\n",
       "      <th>MaleLowerQuartile</th>\n",
       "      <th>FemaleLowerQuartile</th>\n",
       "      <th>...</th>\n",
       "      <th>count_3_star</th>\n",
       "      <th>count_2_star</th>\n",
       "      <th>count_1_star</th>\n",
       "      <th>number_of_reviews</th>\n",
       "      <th>company_rating</th>\n",
       "      <th>work_life_balance</th>\n",
       "      <th>pay_and_benefits</th>\n",
       "      <th>job_security_and_advancement</th>\n",
       "      <th>management</th>\n",
       "      <th>culture</th>\n",
       "    </tr>\n",
       "  </thead>\n",
       "  <tbody>\n",
       "    <tr>\n",
       "      <th>00002065</th>\n",
       "      <td>Lloyds Bank PLC</td>\n",
       "      <td>64191</td>\n",
       "      <td>36.1</td>\n",
       "      <td>41.7</td>\n",
       "      <td>71.4</td>\n",
       "      <td>66.8</td>\n",
       "      <td>91.5</td>\n",
       "      <td>93.1</td>\n",
       "      <td>28.7</td>\n",
       "      <td>71.3</td>\n",
       "      <td>...</td>\n",
       "      <td>210.0</td>\n",
       "      <td>55.0</td>\n",
       "      <td>51.0</td>\n",
       "      <td>899.0</td>\n",
       "      <td>3.8</td>\n",
       "      <td>3.7</td>\n",
       "      <td>3.7</td>\n",
       "      <td>3.4</td>\n",
       "      <td>3.4</td>\n",
       "      <td>3.6</td>\n",
       "    </tr>\n",
       "    <tr>\n",
       "      <th>00002404</th>\n",
       "      <td>SOUTHAMPTON ISLE OF WIGHT AND SOUTH OF ENGLAND...</td>\n",
       "      <td>50100,\\n50200</td>\n",
       "      <td>29.5</td>\n",
       "      <td>30.8</td>\n",
       "      <td>-2.4</td>\n",
       "      <td>0.0</td>\n",
       "      <td>89.3</td>\n",
       "      <td>79.3</td>\n",
       "      <td>43.1</td>\n",
       "      <td>56.9</td>\n",
       "      <td>...</td>\n",
       "      <td>0.0</td>\n",
       "      <td>0.0</td>\n",
       "      <td>0.0</td>\n",
       "      <td>7.0</td>\n",
       "      <td>4.6</td>\n",
       "      <td>4.6</td>\n",
       "      <td>4.6</td>\n",
       "      <td>4.3</td>\n",
       "      <td>4.4</td>\n",
       "      <td>4.7</td>\n",
       "    </tr>\n",
       "    <tr>\n",
       "      <th>00008614</th>\n",
       "      <td>STADCO LIMITED</td>\n",
       "      <td>29201</td>\n",
       "      <td>1.2</td>\n",
       "      <td>-8.4</td>\n",
       "      <td>55.7</td>\n",
       "      <td>39.9</td>\n",
       "      <td>79.3</td>\n",
       "      <td>59.8</td>\n",
       "      <td>87.9</td>\n",
       "      <td>12.1</td>\n",
       "      <td>...</td>\n",
       "      <td>10.0</td>\n",
       "      <td>5.0</td>\n",
       "      <td>3.0</td>\n",
       "      <td>41.0</td>\n",
       "      <td>3.4</td>\n",
       "      <td>3.4</td>\n",
       "      <td>3.5</td>\n",
       "      <td>2.9</td>\n",
       "      <td>3.0</td>\n",
       "      <td>3.1</td>\n",
       "    </tr>\n",
       "    <tr>\n",
       "      <th>00008848</th>\n",
       "      <td>British Medical Association</td>\n",
       "      <td>74909,\\n94200</td>\n",
       "      <td>13.6</td>\n",
       "      <td>14.3</td>\n",
       "      <td>40.9</td>\n",
       "      <td>4.8</td>\n",
       "      <td>31.0</td>\n",
       "      <td>25.0</td>\n",
       "      <td>27.0</td>\n",
       "      <td>73.0</td>\n",
       "      <td>...</td>\n",
       "      <td>9.0</td>\n",
       "      <td>0.0</td>\n",
       "      <td>3.0</td>\n",
       "      <td>34.0</td>\n",
       "      <td>3.9</td>\n",
       "      <td>3.6</td>\n",
       "      <td>3.2</td>\n",
       "      <td>3.2</td>\n",
       "      <td>3.5</td>\n",
       "      <td>3.9</td>\n",
       "    </tr>\n",
       "    <tr>\n",
       "      <th>00014259</th>\n",
       "      <td>HSBC Bank PLC</td>\n",
       "      <td>64191</td>\n",
       "      <td>61.0</td>\n",
       "      <td>30.0</td>\n",
       "      <td>85.0</td>\n",
       "      <td>58.0</td>\n",
       "      <td>88.0</td>\n",
       "      <td>86.0</td>\n",
       "      <td>30.0</td>\n",
       "      <td>70.0</td>\n",
       "      <td>...</td>\n",
       "      <td>2600.0</td>\n",
       "      <td>607.0</td>\n",
       "      <td>457.0</td>\n",
       "      <td>13800.0</td>\n",
       "      <td>4.0</td>\n",
       "      <td>3.8</td>\n",
       "      <td>3.8</td>\n",
       "      <td>3.6</td>\n",
       "      <td>3.6</td>\n",
       "      <td>3.8</td>\n",
       "    </tr>\n",
       "  </tbody>\n",
       "</table>\n",
       "<p>5 rows × 44 columns</p>\n",
       "</div>"
      ],
      "text/plain": [
       "                                             EmployerName_x       SicCodes  \\\n",
       "00002065                                    Lloyds Bank PLC          64191   \n",
       "00002404  SOUTHAMPTON ISLE OF WIGHT AND SOUTH OF ENGLAND...  50100,\\n50200   \n",
       "00008614                                     STADCO LIMITED          29201   \n",
       "00008848                        British Medical Association  74909,\\n94200   \n",
       "00014259                                      HSBC Bank PLC          64191   \n",
       "\n",
       "          DiffMeanHourlyPercent  DiffMedianHourlyPercent  \\\n",
       "00002065                   36.1                     41.7   \n",
       "00002404                   29.5                     30.8   \n",
       "00008614                    1.2                     -8.4   \n",
       "00008848                   13.6                     14.3   \n",
       "00014259                   61.0                     30.0   \n",
       "\n",
       "          DiffMeanBonusPercent  DiffMedianBonusPercent  MaleBonusPercent  \\\n",
       "00002065                  71.4                    66.8              91.5   \n",
       "00002404                  -2.4                     0.0              89.3   \n",
       "00008614                  55.7                    39.9              79.3   \n",
       "00008848                  40.9                     4.8              31.0   \n",
       "00014259                  85.0                    58.0              88.0   \n",
       "\n",
       "          FemaleBonusPercent  MaleLowerQuartile  FemaleLowerQuartile  ...  \\\n",
       "00002065                93.1               28.7                 71.3  ...   \n",
       "00002404                79.3               43.1                 56.9  ...   \n",
       "00008614                59.8               87.9                 12.1  ...   \n",
       "00008848                25.0               27.0                 73.0  ...   \n",
       "00014259                86.0               30.0                 70.0  ...   \n",
       "\n",
       "          count_3_star  count_2_star  count_1_star  number_of_reviews  \\\n",
       "00002065         210.0          55.0          51.0              899.0   \n",
       "00002404           0.0           0.0           0.0                7.0   \n",
       "00008614          10.0           5.0           3.0               41.0   \n",
       "00008848           9.0           0.0           3.0               34.0   \n",
       "00014259        2600.0         607.0         457.0            13800.0   \n",
       "\n",
       "          company_rating  work_life_balance pay_and_benefits  \\\n",
       "00002065             3.8                3.7              3.7   \n",
       "00002404             4.6                4.6              4.6   \n",
       "00008614             3.4                3.4              3.5   \n",
       "00008848             3.9                3.6              3.2   \n",
       "00014259             4.0                3.8              3.8   \n",
       "\n",
       "          job_security_and_advancement management culture  \n",
       "00002065                           3.4        3.4     3.6  \n",
       "00002404                           4.3        4.4     4.7  \n",
       "00008614                           2.9        3.0     3.1  \n",
       "00008848                           3.2        3.5     3.9  \n",
       "00014259                           3.6        3.6     3.8  \n",
       "\n",
       "[5 rows x 44 columns]"
      ]
     },
     "execution_count": 44,
     "metadata": {},
     "output_type": "execute_result"
    }
   ],
   "source": [
    "combined_18_19_4.head()"
   ]
  },
  {
   "cell_type": "code",
   "execution_count": 45,
   "metadata": {},
   "outputs": [],
   "source": [
    "# combined_18_19_4.to_csv('combined_18_19')"
   ]
  },
  {
   "cell_type": "code",
   "execution_count": 46,
   "metadata": {},
   "outputs": [
    {
     "name": "stdout",
     "output_type": "stream",
     "text": [
      "<class 'pandas.core.frame.DataFrame'>\n",
      "RangeIndex: 6373 entries, 0 to 6372\n",
      "Data columns (total 45 columns):\n",
      " #   Column                        Non-Null Count  Dtype  \n",
      "---  ------                        --------------  -----  \n",
      " 0   Unnamed: 0                    6373 non-null   object \n",
      " 1   EmployerName_x                6373 non-null   object \n",
      " 2   SicCodes                      6373 non-null   object \n",
      " 3   DiffMeanHourlyPercent         6373 non-null   float64\n",
      " 4   DiffMedianHourlyPercent       6373 non-null   float64\n",
      " 5   DiffMeanBonusPercent          6373 non-null   float64\n",
      " 6   DiffMedianBonusPercent        6373 non-null   float64\n",
      " 7   MaleBonusPercent              6373 non-null   float64\n",
      " 8   FemaleBonusPercent            6373 non-null   float64\n",
      " 9   MaleLowerQuartile             6373 non-null   float64\n",
      " 10  FemaleLowerQuartile           6373 non-null   float64\n",
      " 11  MaleLowerMiddleQuartile       6373 non-null   float64\n",
      " 12  FemaleLowerMiddleQuartile     6373 non-null   float64\n",
      " 13  MaleUpperMiddleQuartile       6373 non-null   float64\n",
      " 14  FemaleUpperMiddleQuartile     6373 non-null   float64\n",
      " 15  MaleTopQuartile               6373 non-null   float64\n",
      " 16  FemaleTopQuartile             6373 non-null   float64\n",
      " 17  EmployerSize                  6373 non-null   object \n",
      " 18  SubmittedAfterTheDeadline     6373 non-null   int64  \n",
      " 19  company_status                6373 non-null   object \n",
      " 20  jurisdiction                  6373 non-null   object \n",
      " 21  registered_address_country    6373 non-null   object \n",
      " 22  company_type                  6373 non-null   object \n",
      " 23  locality                      6373 non-null   object \n",
      " 24  female_final                  6373 non-null   int64  \n",
      " 25  male_final                    6373 non-null   int64  \n",
      " 26  percent_female_officer        6373 non-null   float64\n",
      " 27  no_CompanyLink                6373 non-null   int64  \n",
      " 28  no_ResponsiblePerson          6373 non-null   int64  \n",
      " 29  review_header                 6373 non-null   object \n",
      " 30  review_text                   6373 non-null   object \n",
      " 31  review_pros                   6373 non-null   object \n",
      " 32  review_cons                   6373 non-null   object \n",
      " 33  count_5_star                  6370 non-null   float64\n",
      " 34  count_4_star                  6370 non-null   float64\n",
      " 35  count_3_star                  6373 non-null   float64\n",
      " 36  count_2_star                  6373 non-null   float64\n",
      " 37  count_1_star                  6373 non-null   float64\n",
      " 38  number_of_reviews             6373 non-null   float64\n",
      " 39  company_rating                6373 non-null   float64\n",
      " 40  work_life_balance             6371 non-null   float64\n",
      " 41  pay_and_benefits              6371 non-null   float64\n",
      " 42  job_security_and_advancement  6371 non-null   float64\n",
      " 43  management                    6371 non-null   float64\n",
      " 44  culture                       6341 non-null   float64\n",
      "dtypes: float64(27), int64(5), object(13)\n",
      "memory usage: 2.2+ MB\n"
     ]
    }
   ],
   "source": [
    "combined_18_19 = pd.read_csv('combined_18_19.csv')\n",
    "combined_18_19.info()"
   ]
  }
 ],
 "metadata": {
  "kernelspec": {
   "display_name": "Python 3",
   "language": "python",
   "name": "python3"
  },
  "language_info": {
   "codemirror_mode": {
    "name": "ipython",
    "version": 3
   },
   "file_extension": ".py",
   "mimetype": "text/x-python",
   "name": "python",
   "nbconvert_exporter": "python",
   "pygments_lexer": "ipython3",
   "version": "3.8.5"
  }
 },
 "nbformat": 4,
 "nbformat_minor": 4
}
