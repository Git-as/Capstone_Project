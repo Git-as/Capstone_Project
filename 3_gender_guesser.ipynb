{
 "cells": [
  {
   "cell_type": "markdown",
   "metadata": {},
   "source": [
    "## 3. Gender Guesser\n",
    "\n",
    "### Step 1: I installed a python package, gender-guesser (pypi.org/project/gender-guesser), to convert the officer names to a count of male and female officers. I then used this count to generate the proportion of female officers for each company. "
   ]
  },
  {
   "cell_type": "code",
   "execution_count": 1,
   "metadata": {},
   "outputs": [],
   "source": [
    "import requests\n",
    "import bs4\n",
    "from bs4 import BeautifulSoup\n",
    "import numpy as np\n",
    "import pandas as pd\n",
    "import time, random\n",
    "import re"
   ]
  },
  {
   "cell_type": "code",
   "execution_count": 2,
   "metadata": {},
   "outputs": [],
   "source": [
    "officers_18_19 = pd.read_csv('officers_18_19_v2.csv', parse_dates=['date_appointed','date_resigned'])"
   ]
  },
  {
   "cell_type": "code",
   "execution_count": 3,
   "metadata": {},
   "outputs": [],
   "source": [
    "officers_18_19.drop(columns='Unnamed: 0', inplace=True)"
   ]
  },
  {
   "cell_type": "code",
   "execution_count": 4,
   "metadata": {},
   "outputs": [
    {
     "data": {
      "text/html": [
       "<div>\n",
       "<style scoped>\n",
       "    .dataframe tbody tr th:only-of-type {\n",
       "        vertical-align: middle;\n",
       "    }\n",
       "\n",
       "    .dataframe tbody tr th {\n",
       "        vertical-align: top;\n",
       "    }\n",
       "\n",
       "    .dataframe thead th {\n",
       "        text-align: right;\n",
       "    }\n",
       "</style>\n",
       "<table border=\"1\" class=\"dataframe\">\n",
       "  <thead>\n",
       "    <tr style=\"text-align: right;\">\n",
       "      <th></th>\n",
       "      <th>company_no</th>\n",
       "      <th>name</th>\n",
       "      <th>date_appointed</th>\n",
       "      <th>date_resigned</th>\n",
       "    </tr>\n",
       "  </thead>\n",
       "  <tbody>\n",
       "    <tr>\n",
       "      <th>0</th>\n",
       "      <td>SC016876</td>\n",
       "      <td>VALENTINE, Dianne Davidson</td>\n",
       "      <td>2015-05-11</td>\n",
       "      <td>None</td>\n",
       "    </tr>\n",
       "    <tr>\n",
       "      <th>1</th>\n",
       "      <td>SC016876</td>\n",
       "      <td>CLUBB, Malcolm Richard</td>\n",
       "      <td>2018-05-09</td>\n",
       "      <td>None</td>\n",
       "    </tr>\n",
       "    <tr>\n",
       "      <th>2</th>\n",
       "      <td>SC016876</td>\n",
       "      <td>CUMMING, Alexander Coulson</td>\n",
       "      <td>None</td>\n",
       "      <td>None</td>\n",
       "    </tr>\n",
       "    <tr>\n",
       "      <th>3</th>\n",
       "      <td>SC016876</td>\n",
       "      <td>CUMMING, Charles Nigel Coulson</td>\n",
       "      <td>None</td>\n",
       "      <td>None</td>\n",
       "    </tr>\n",
       "    <tr>\n",
       "      <th>4</th>\n",
       "      <td>SC016876</td>\n",
       "      <td>GALT, Philip Callaghan</td>\n",
       "      <td>2014-08-19</td>\n",
       "      <td>None</td>\n",
       "    </tr>\n",
       "  </tbody>\n",
       "</table>\n",
       "</div>"
      ],
      "text/plain": [
       "  company_no                            name date_appointed date_resigned\n",
       "0   SC016876      VALENTINE, Dianne Davidson     2015-05-11          None\n",
       "1   SC016876          CLUBB, Malcolm Richard     2018-05-09          None\n",
       "2   SC016876      CUMMING, Alexander Coulson           None          None\n",
       "3   SC016876  CUMMING, Charles Nigel Coulson           None          None\n",
       "4   SC016876          GALT, Philip Callaghan     2014-08-19          None"
      ]
     },
     "execution_count": 4,
     "metadata": {},
     "output_type": "execute_result"
    }
   ],
   "source": [
    "officers_18_19.head()"
   ]
  },
  {
   "cell_type": "markdown",
   "metadata": {},
   "source": [
    "### Step 2: I used regex to split the name on the part after the comma, which gives the first and middle names. I noticed there were a few company names listed as officers so removed these - they were identified from the dataframe because when I tried to split using the regex below there was an error as these lines did not contain a comma. Therefore the came up as nan using the below code. "
   ]
  },
  {
   "cell_type": "code",
   "execution_count": 5,
   "metadata": {},
   "outputs": [],
   "source": [
    "name_split = []\n",
    "for line in officers_18_19.name:\n",
    "    if ',' in line:\n",
    "        for i in re.findall(r',([^;]*)', line):\n",
    "            name_split.append(i)\n",
    "    else:\n",
    "        name_split.append(np.nan)"
   ]
  },
  {
   "cell_type": "code",
   "execution_count": 6,
   "metadata": {},
   "outputs": [
    {
     "name": "stdout",
     "output_type": "stream",
     "text": [
      "178420\n",
      "178420\n"
     ]
    }
   ],
   "source": [
    "# I checked the lists were the same length:\n",
    "print(len(officers_18_19.name))\n",
    "print(len(name_split))"
   ]
  },
  {
   "cell_type": "markdown",
   "metadata": {},
   "source": [
    "### Step 3: I created a column for first name - this takes the first item in the 'name' (since it starts with a space its not the 0th item you want, its the first). The regex part gets rid of any characters that are not a-z or a dash by replacing with nothing. Noted that some names came up as \"SURNAME, Firstname, Middlename\" instead of \"SURNAME, Firstname Middlename\".\n",
    "    \n",
    "### I then similarly created a column for the middle name."
   ]
  },
  {
   "cell_type": "code",
   "execution_count": 7,
   "metadata": {},
   "outputs": [],
   "source": [
    "first_name = []\n",
    "for x in name_split:\n",
    "    try:\n",
    "        splitter = (x.split(' ')[1])\n",
    "        splitter = re.sub(r'[^a-zA-Z-]', '', splitter)\n",
    "        first_name.append(splitter)\n",
    "    except:\n",
    "        first_name.append(np.nan)"
   ]
  },
  {
   "cell_type": "code",
   "execution_count": 8,
   "metadata": {},
   "outputs": [],
   "source": [
    "middle_name = []\n",
    "for x in name_split:\n",
    "    try:\n",
    "        splitter_2 = (x.split(' ')[2])\n",
    "        splitter_2 = re.sub(r'[^a-zA-Z-]', '', splitter_2)\n",
    "        middle_name.append(splitter_2)\n",
    "    except:\n",
    "        middle_name.append(np.nan)"
   ]
  },
  {
   "cell_type": "code",
   "execution_count": 9,
   "metadata": {},
   "outputs": [],
   "source": [
    "# add columns to the dataframe\n",
    "officers_18_19['name_split'] = name_split\n",
    "officers_18_19['first_name'] = first_name\n",
    "officers_18_19['middle_name'] = middle_name"
   ]
  },
  {
   "cell_type": "markdown",
   "metadata": {},
   "source": [
    "### Step 4: I used the gender-guesser on the first name and middle name, creating two list stating the gender of each and added these lists to the dataframe. \n",
    "\n",
    "### I also removed duplicates and removed lines where the 'test' column was na as these lines appeared when the officer was a company rather than an individual. \n"
   ]
  },
  {
   "cell_type": "code",
   "execution_count": 10,
   "metadata": {},
   "outputs": [],
   "source": [
    "import gender_guesser.detector as gender\n",
    "d = gender.Detector()\n",
    "gender_first_name = []\n",
    "for name in officers_18_19.first_name:\n",
    "    name_input = u\"{}\"\n",
    "    gender_first_name.append(d.get_gender(name_input.format(name)))"
   ]
  },
  {
   "cell_type": "code",
   "execution_count": 11,
   "metadata": {},
   "outputs": [],
   "source": [
    "d = gender.Detector()\n",
    "gender_middle_name = []\n",
    "for name in officers_18_19.middle_name:\n",
    "    name_input = u\"{}\"\n",
    "    gender_middle_name.append(d.get_gender(name_input.format(name)))"
   ]
  },
  {
   "cell_type": "code",
   "execution_count": 12,
   "metadata": {},
   "outputs": [],
   "source": [
    "officers_18_19['gender_first_name'] = gender_first_name\n",
    "officers_18_19['gender_middle_name'] = gender_middle_name"
   ]
  },
  {
   "cell_type": "code",
   "execution_count": 13,
   "metadata": {},
   "outputs": [],
   "source": [
    "officers_18_19.drop_duplicates(inplace=True)"
   ]
  },
  {
   "cell_type": "code",
   "execution_count": 14,
   "metadata": {},
   "outputs": [],
   "source": [
    "officers_18_19.dropna(subset=['name_split'], inplace=True)"
   ]
  },
  {
   "cell_type": "code",
   "execution_count": 15,
   "metadata": {},
   "outputs": [
    {
     "data": {
      "text/plain": [
       "male             130226\n",
       "female            27542\n",
       "unknown            5088\n",
       "mostly_male        2361\n",
       "mostly_female      2328\n",
       "andy                631\n",
       "Name: gender_first_name, dtype: int64"
      ]
     },
     "execution_count": 15,
     "metadata": {},
     "output_type": "execute_result"
    }
   ],
   "source": [
    "officers_18_19.gender_first_name.value_counts()"
   ]
  },
  {
   "cell_type": "code",
   "execution_count": 16,
   "metadata": {},
   "outputs": [
    {
     "data": {
      "text/html": [
       "<div>\n",
       "<style scoped>\n",
       "    .dataframe tbody tr th:only-of-type {\n",
       "        vertical-align: middle;\n",
       "    }\n",
       "\n",
       "    .dataframe tbody tr th {\n",
       "        vertical-align: top;\n",
       "    }\n",
       "\n",
       "    .dataframe thead th {\n",
       "        text-align: right;\n",
       "    }\n",
       "</style>\n",
       "<table border=\"1\" class=\"dataframe\">\n",
       "  <thead>\n",
       "    <tr style=\"text-align: right;\">\n",
       "      <th></th>\n",
       "      <th>company_no</th>\n",
       "      <th>name</th>\n",
       "      <th>date_appointed</th>\n",
       "      <th>date_resigned</th>\n",
       "      <th>name_split</th>\n",
       "      <th>first_name</th>\n",
       "      <th>middle_name</th>\n",
       "      <th>gender_first_name</th>\n",
       "      <th>gender_middle_name</th>\n",
       "    </tr>\n",
       "  </thead>\n",
       "  <tbody>\n",
       "    <tr>\n",
       "      <th>15</th>\n",
       "      <td>03951948</td>\n",
       "      <td>KHATTAR, Nitin</td>\n",
       "      <td>2020-03-30</td>\n",
       "      <td>None</td>\n",
       "      <td>Nitin</td>\n",
       "      <td>Nitin</td>\n",
       "      <td>NaN</td>\n",
       "      <td>unknown</td>\n",
       "      <td>unknown</td>\n",
       "    </tr>\n",
       "    <tr>\n",
       "      <th>18</th>\n",
       "      <td>03951948</td>\n",
       "      <td>RAVAL, Pradipkumar</td>\n",
       "      <td>2014-05-30</td>\n",
       "      <td>None</td>\n",
       "      <td>Pradipkumar</td>\n",
       "      <td>Pradipkumar</td>\n",
       "      <td>NaN</td>\n",
       "      <td>unknown</td>\n",
       "      <td>unknown</td>\n",
       "    </tr>\n",
       "    <tr>\n",
       "      <th>19</th>\n",
       "      <td>03951948</td>\n",
       "      <td>CHANDRANI, Rupesh Sandeep</td>\n",
       "      <td>2012-10-01</td>\n",
       "      <td>2014-06-25</td>\n",
       "      <td>Rupesh Sandeep</td>\n",
       "      <td>Rupesh</td>\n",
       "      <td>Sandeep</td>\n",
       "      <td>unknown</td>\n",
       "      <td>mostly_male</td>\n",
       "    </tr>\n",
       "    <tr>\n",
       "      <th>28</th>\n",
       "      <td>03951948</td>\n",
       "      <td>STONE, Deidrie Alexandria</td>\n",
       "      <td>2019-07-31</td>\n",
       "      <td>2020-03-26</td>\n",
       "      <td>Deidrie Alexandria</td>\n",
       "      <td>Deidrie</td>\n",
       "      <td>Alexandria</td>\n",
       "      <td>unknown</td>\n",
       "      <td>female</td>\n",
       "    </tr>\n",
       "    <tr>\n",
       "      <th>138</th>\n",
       "      <td>SC156515</td>\n",
       "      <td>CURLE, Tolla Joanne</td>\n",
       "      <td>2015-10-02</td>\n",
       "      <td>None</td>\n",
       "      <td>Tolla Joanne</td>\n",
       "      <td>Tolla</td>\n",
       "      <td>Joanne</td>\n",
       "      <td>unknown</td>\n",
       "      <td>female</td>\n",
       "    </tr>\n",
       "  </tbody>\n",
       "</table>\n",
       "</div>"
      ],
      "text/plain": [
       "    company_no                       name date_appointed date_resigned  \\\n",
       "15    03951948             KHATTAR, Nitin     2020-03-30          None   \n",
       "18    03951948         RAVAL, Pradipkumar     2014-05-30          None   \n",
       "19    03951948  CHANDRANI, Rupesh Sandeep     2012-10-01    2014-06-25   \n",
       "28    03951948  STONE, Deidrie Alexandria     2019-07-31    2020-03-26   \n",
       "138   SC156515        CURLE, Tolla Joanne     2015-10-02          None   \n",
       "\n",
       "              name_split   first_name middle_name gender_first_name  \\\n",
       "15                 Nitin        Nitin         NaN           unknown   \n",
       "18           Pradipkumar  Pradipkumar         NaN           unknown   \n",
       "19        Rupesh Sandeep       Rupesh     Sandeep           unknown   \n",
       "28    Deidrie Alexandria      Deidrie  Alexandria           unknown   \n",
       "138         Tolla Joanne        Tolla      Joanne           unknown   \n",
       "\n",
       "    gender_middle_name  \n",
       "15             unknown  \n",
       "18             unknown  \n",
       "19         mostly_male  \n",
       "28              female  \n",
       "138             female  "
      ]
     },
     "execution_count": 16,
     "metadata": {},
     "output_type": "execute_result"
    }
   ],
   "source": [
    "officers_18_19[officers_18_19['gender_first_name']=='unknown'].head()"
   ]
  },
  {
   "cell_type": "code",
   "execution_count": 17,
   "metadata": {},
   "outputs": [
    {
     "data": {
      "text/html": [
       "<div>\n",
       "<style scoped>\n",
       "    .dataframe tbody tr th:only-of-type {\n",
       "        vertical-align: middle;\n",
       "    }\n",
       "\n",
       "    .dataframe tbody tr th {\n",
       "        vertical-align: top;\n",
       "    }\n",
       "\n",
       "    .dataframe thead th {\n",
       "        text-align: right;\n",
       "    }\n",
       "</style>\n",
       "<table border=\"1\" class=\"dataframe\">\n",
       "  <thead>\n",
       "    <tr style=\"text-align: right;\">\n",
       "      <th></th>\n",
       "      <th>company_no</th>\n",
       "      <th>name</th>\n",
       "      <th>date_appointed</th>\n",
       "      <th>date_resigned</th>\n",
       "      <th>name_split</th>\n",
       "      <th>first_name</th>\n",
       "      <th>middle_name</th>\n",
       "      <th>gender_first_name</th>\n",
       "      <th>gender_middle_name</th>\n",
       "    </tr>\n",
       "  </thead>\n",
       "  <tbody>\n",
       "    <tr>\n",
       "      <th>2</th>\n",
       "      <td>SC016876</td>\n",
       "      <td>CUMMING, Alexander Coulson</td>\n",
       "      <td>None</td>\n",
       "      <td>None</td>\n",
       "      <td>Alexander Coulson</td>\n",
       "      <td>Alexander</td>\n",
       "      <td>Coulson</td>\n",
       "      <td>male</td>\n",
       "      <td>unknown</td>\n",
       "    </tr>\n",
       "    <tr>\n",
       "      <th>3</th>\n",
       "      <td>SC016876</td>\n",
       "      <td>CUMMING, Charles Nigel Coulson</td>\n",
       "      <td>None</td>\n",
       "      <td>None</td>\n",
       "      <td>Charles Nigel Coulson</td>\n",
       "      <td>Charles</td>\n",
       "      <td>Nigel</td>\n",
       "      <td>male</td>\n",
       "      <td>male</td>\n",
       "    </tr>\n",
       "    <tr>\n",
       "      <th>6</th>\n",
       "      <td>SC016876</td>\n",
       "      <td>BARGH, Frederick Charles</td>\n",
       "      <td>None</td>\n",
       "      <td>1990-06-13</td>\n",
       "      <td>Frederick Charles</td>\n",
       "      <td>Frederick</td>\n",
       "      <td>Charles</td>\n",
       "      <td>male</td>\n",
       "      <td>male</td>\n",
       "    </tr>\n",
       "    <tr>\n",
       "      <th>7</th>\n",
       "      <td>SC016876</td>\n",
       "      <td>O'TOOLE, Moira</td>\n",
       "      <td>None</td>\n",
       "      <td>2015-05-11</td>\n",
       "      <td>Moira</td>\n",
       "      <td>Moira</td>\n",
       "      <td>NaN</td>\n",
       "      <td>female</td>\n",
       "      <td>unknown</td>\n",
       "    </tr>\n",
       "    <tr>\n",
       "      <th>8</th>\n",
       "      <td>SC016876</td>\n",
       "      <td>CLARK, David Robertson</td>\n",
       "      <td>None</td>\n",
       "      <td>1995-01-19</td>\n",
       "      <td>David Robertson</td>\n",
       "      <td>David</td>\n",
       "      <td>Robertson</td>\n",
       "      <td>male</td>\n",
       "      <td>male</td>\n",
       "    </tr>\n",
       "  </tbody>\n",
       "</table>\n",
       "</div>"
      ],
      "text/plain": [
       "  company_no                            name date_appointed date_resigned  \\\n",
       "2   SC016876      CUMMING, Alexander Coulson           None          None   \n",
       "3   SC016876  CUMMING, Charles Nigel Coulson           None          None   \n",
       "6   SC016876        BARGH, Frederick Charles           None    1990-06-13   \n",
       "7   SC016876                  O'TOOLE, Moira           None    2015-05-11   \n",
       "8   SC016876          CLARK, David Robertson           None    1995-01-19   \n",
       "\n",
       "               name_split first_name middle_name gender_first_name  \\\n",
       "2       Alexander Coulson  Alexander     Coulson              male   \n",
       "3   Charles Nigel Coulson    Charles       Nigel              male   \n",
       "6       Frederick Charles  Frederick     Charles              male   \n",
       "7                   Moira      Moira         NaN            female   \n",
       "8         David Robertson      David   Robertson              male   \n",
       "\n",
       "  gender_middle_name  \n",
       "2            unknown  \n",
       "3               male  \n",
       "6               male  \n",
       "7            unknown  \n",
       "8               male  "
      ]
     },
     "execution_count": 17,
     "metadata": {},
     "output_type": "execute_result"
    }
   ],
   "source": [
    "officers_18_19[officers_18_19['date_appointed']=='None'].head()"
   ]
  },
  {
   "cell_type": "markdown",
   "metadata": {},
   "source": [
    "### Step 5: This left me with around 5000 unknown values and 600 listed as 'andy'. I wasn't quite sure what the andy items were so I went through each one and manually, this is detailed further below. I decided to remove the unknown values.\n",
    "\n",
    "### I also wanted to remove officers appointed after 2019 as this was after the gender pay gap data period. I therefore removed all lines were the date appointed was in 2020 or 2021. "
   ]
  },
  {
   "cell_type": "code",
   "execution_count": 18,
   "metadata": {},
   "outputs": [
    {
     "name": "stderr",
     "output_type": "stream",
     "text": [
      "<ipython-input-18-cfb576147a90>:4: SettingWithCopyWarning: \n",
      "A value is trying to be set on a copy of a slice from a DataFrame\n",
      "\n",
      "See the caveats in the documentation: https://pandas.pydata.org/pandas-docs/stable/user_guide/indexing.html#returning-a-view-versus-a-copy\n",
      "  officers_18_19['after_2019'][i] = np.nan\n",
      "/Users/gitas/opt/anaconda3/lib/python3.8/site-packages/pandas/core/indexing.py:670: SettingWithCopyWarning: \n",
      "A value is trying to be set on a copy of a slice from a DataFrame\n",
      "\n",
      "See the caveats in the documentation: https://pandas.pydata.org/pandas-docs/stable/user_guide/indexing.html#returning-a-view-versus-a-copy\n",
      "  iloc._setitem_with_indexer(indexer, value)\n"
     ]
    }
   ],
   "source": [
    "officers_18_19['after_2019'] = 0\n",
    "for i, line in enumerate(officers_18_19['date_appointed']):\n",
    "    if '2020' in line:\n",
    "        officers_18_19['after_2019'][i] = np.nan"
   ]
  },
  {
   "cell_type": "code",
   "execution_count": 19,
   "metadata": {},
   "outputs": [
    {
     "name": "stderr",
     "output_type": "stream",
     "text": [
      "<ipython-input-19-d967ef574461>:3: SettingWithCopyWarning: \n",
      "A value is trying to be set on a copy of a slice from a DataFrame\n",
      "\n",
      "See the caveats in the documentation: https://pandas.pydata.org/pandas-docs/stable/user_guide/indexing.html#returning-a-view-versus-a-copy\n",
      "  officers_18_19['after_2019'][i] = np.nan\n"
     ]
    }
   ],
   "source": [
    "for i, line in enumerate(officers_18_19['date_appointed']):\n",
    "    if '2021' in line:\n",
    "        officers_18_19['after_2019'][i] = np.nan"
   ]
  },
  {
   "cell_type": "code",
   "execution_count": 20,
   "metadata": {},
   "outputs": [],
   "source": [
    "officers_18_19.dropna(subset=['after_2019'], inplace=True)"
   ]
  },
  {
   "cell_type": "code",
   "execution_count": 21,
   "metadata": {},
   "outputs": [
    {
     "name": "stderr",
     "output_type": "stream",
     "text": [
      "<ipython-input-21-d73cb89b5be5>:1: SettingWithCopyWarning: \n",
      "A value is trying to be set on a copy of a slice from a DataFrame\n",
      "\n",
      "See the caveats in the documentation: https://pandas.pydata.org/pandas-docs/stable/user_guide/indexing.html#returning-a-view-versus-a-copy\n",
      "  officers_18_19.gender_first_name[officers_18_19.gender_first_name == \"unknown\"] = np.nan\n"
     ]
    }
   ],
   "source": [
    "officers_18_19.gender_first_name[officers_18_19.gender_first_name == \"unknown\"] = np.nan"
   ]
  },
  {
   "cell_type": "code",
   "execution_count": 22,
   "metadata": {},
   "outputs": [
    {
     "data": {
      "text/plain": [
       "male             125151\n",
       "female            26499\n",
       "mostly_male        2271\n",
       "mostly_female      2245\n",
       "andy                607\n",
       "Name: gender_first_name, dtype: int64"
      ]
     },
     "execution_count": 22,
     "metadata": {},
     "output_type": "execute_result"
    }
   ],
   "source": [
    "officers_18_19.gender_first_name.value_counts()"
   ]
  },
  {
   "cell_type": "code",
   "execution_count": 23,
   "metadata": {},
   "outputs": [],
   "source": [
    "# Save to a CSV file\n",
    "# officers_18_19.to_csv('detailed_officers_18_19', index=False)\n",
    "\n",
    "detailed_officers_18_19 = pd.read_csv('detailed_officers_18_19.csv')"
   ]
  },
  {
   "cell_type": "code",
   "execution_count": 24,
   "metadata": {},
   "outputs": [
    {
     "name": "stdout",
     "output_type": "stream",
     "text": [
      "<class 'pandas.core.frame.DataFrame'>\n",
      "Int64Index: 161654 entries, 0 to 161655\n",
      "Data columns (total 10 columns):\n",
      " #   Column              Non-Null Count   Dtype  \n",
      "---  ------              --------------   -----  \n",
      " 0   company_no          161654 non-null  object \n",
      " 1   name                161654 non-null  object \n",
      " 2   date_appointed      161654 non-null  object \n",
      " 3   date_resigned       161654 non-null  object \n",
      " 4   test                161654 non-null  object \n",
      " 5   first_name          161654 non-null  object \n",
      " 6   middle_name_1       118000 non-null  object \n",
      " 7   gender_first_name   156773 non-null  object \n",
      " 8   gender_middle_name  161654 non-null  object \n",
      " 9   after_2019          161654 non-null  float64\n",
      "dtypes: float64(1), object(9)\n",
      "memory usage: 13.6+ MB\n"
     ]
    }
   ],
   "source": [
    "detailed_officers_18_19.dropna(subset=['first_name'], inplace=True)\n",
    "detailed_officers_18_19.info()"
   ]
  },
  {
   "cell_type": "markdown",
   "metadata": {},
   "source": [
    "### Step 6: This left me with around 5000 unknown values and 600 listed as 'andy'. I wasn't quite sure what the andy items were so I iterated through each row and then input 'male' or 'female' after googling the individual to determine if they were male or female. For the individuals I was unable to classify, I had to mark these as NA. I used this to generate a column with the manual gender input, removing the NA values. "
   ]
  },
  {
   "cell_type": "code",
   "execution_count": 25,
   "metadata": {},
   "outputs": [],
   "source": [
    "# Could create 2 columns or just dummify manual gender below:\n",
    "# detailed_officers_18_19['manual_female'] = 0\n",
    "# detailed_officers_18_19['manual_male'] = 0"
   ]
  },
  {
   "cell_type": "code",
   "execution_count": 26,
   "metadata": {},
   "outputs": [
    {
     "name": "stdout",
     "output_type": "stream",
     "text": [
      "NOVAKOVIC, Novica\n",
      "male or female?m\n",
      "NOVAKOVIC, Novica\n"
     ]
    },
    {
     "ename": "KeyboardInterrupt",
     "evalue": "Interrupted by user",
     "output_type": "error",
     "traceback": [
      "\u001b[0;31m---------------------------------------------------------------------------\u001b[0m",
      "\u001b[0;31mKeyboardInterrupt\u001b[0m                         Traceback (most recent call last)",
      "\u001b[0;32m<ipython-input-26-0feee0e6bcf2>\u001b[0m in \u001b[0;36m<module>\u001b[0;34m\u001b[0m\n\u001b[1;32m      8\u001b[0m     \u001b[0;32mif\u001b[0m \u001b[0mrow\u001b[0m\u001b[0;34m[\u001b[0m\u001b[0;34m'gender_first_name'\u001b[0m\u001b[0;34m]\u001b[0m\u001b[0;34m==\u001b[0m\u001b[0;34m'andy'\u001b[0m\u001b[0;34m:\u001b[0m\u001b[0;34m\u001b[0m\u001b[0;34m\u001b[0m\u001b[0m\n\u001b[1;32m      9\u001b[0m         \u001b[0mprint\u001b[0m\u001b[0;34m(\u001b[0m\u001b[0mrow\u001b[0m\u001b[0;34m[\u001b[0m\u001b[0;34m'name'\u001b[0m\u001b[0;34m]\u001b[0m\u001b[0;34m)\u001b[0m\u001b[0;34m\u001b[0m\u001b[0;34m\u001b[0m\u001b[0m\n\u001b[0;32m---> 10\u001b[0;31m         \u001b[0mmanual\u001b[0m \u001b[0;34m=\u001b[0m \u001b[0minput\u001b[0m\u001b[0;34m(\u001b[0m\u001b[0;34m'male or female?'\u001b[0m\u001b[0;34m)\u001b[0m\u001b[0;34m\u001b[0m\u001b[0;34m\u001b[0m\u001b[0m\n\u001b[0m\u001b[1;32m     11\u001b[0m         \u001b[0mindex_manual\u001b[0m\u001b[0;34m.\u001b[0m\u001b[0mappend\u001b[0m\u001b[0;34m(\u001b[0m\u001b[0mindex\u001b[0m\u001b[0;34m)\u001b[0m\u001b[0;34m\u001b[0m\u001b[0;34m\u001b[0m\u001b[0m\n\u001b[1;32m     12\u001b[0m         \u001b[0mmanual_gender\u001b[0m\u001b[0;34m.\u001b[0m\u001b[0mappend\u001b[0m\u001b[0;34m(\u001b[0m\u001b[0mmanual\u001b[0m\u001b[0;34m)\u001b[0m\u001b[0;34m\u001b[0m\u001b[0;34m\u001b[0m\u001b[0m\n",
      "\u001b[0;32m~/opt/anaconda3/lib/python3.8/site-packages/ipykernel/kernelbase.py\u001b[0m in \u001b[0;36mraw_input\u001b[0;34m(self, prompt)\u001b[0m\n\u001b[1;32m    858\u001b[0m                 \u001b[0;34m\"raw_input was called, but this frontend does not support input requests.\"\u001b[0m\u001b[0;34m\u001b[0m\u001b[0;34m\u001b[0m\u001b[0m\n\u001b[1;32m    859\u001b[0m             )\n\u001b[0;32m--> 860\u001b[0;31m         return self._input_request(str(prompt),\n\u001b[0m\u001b[1;32m    861\u001b[0m             \u001b[0mself\u001b[0m\u001b[0;34m.\u001b[0m\u001b[0m_parent_ident\u001b[0m\u001b[0;34m,\u001b[0m\u001b[0;34m\u001b[0m\u001b[0;34m\u001b[0m\u001b[0m\n\u001b[1;32m    862\u001b[0m             \u001b[0mself\u001b[0m\u001b[0;34m.\u001b[0m\u001b[0m_parent_header\u001b[0m\u001b[0;34m,\u001b[0m\u001b[0;34m\u001b[0m\u001b[0;34m\u001b[0m\u001b[0m\n",
      "\u001b[0;32m~/opt/anaconda3/lib/python3.8/site-packages/ipykernel/kernelbase.py\u001b[0m in \u001b[0;36m_input_request\u001b[0;34m(self, prompt, ident, parent, password)\u001b[0m\n\u001b[1;32m    902\u001b[0m             \u001b[0;32mexcept\u001b[0m \u001b[0mKeyboardInterrupt\u001b[0m\u001b[0;34m:\u001b[0m\u001b[0;34m\u001b[0m\u001b[0;34m\u001b[0m\u001b[0m\n\u001b[1;32m    903\u001b[0m                 \u001b[0;31m# re-raise KeyboardInterrupt, to truncate traceback\u001b[0m\u001b[0;34m\u001b[0m\u001b[0;34m\u001b[0m\u001b[0;34m\u001b[0m\u001b[0m\n\u001b[0;32m--> 904\u001b[0;31m                 \u001b[0;32mraise\u001b[0m \u001b[0mKeyboardInterrupt\u001b[0m\u001b[0;34m(\u001b[0m\u001b[0;34m\"Interrupted by user\"\u001b[0m\u001b[0;34m)\u001b[0m \u001b[0;32mfrom\u001b[0m \u001b[0;32mNone\u001b[0m\u001b[0;34m\u001b[0m\u001b[0;34m\u001b[0m\u001b[0m\n\u001b[0m\u001b[1;32m    905\u001b[0m             \u001b[0;32mexcept\u001b[0m \u001b[0mException\u001b[0m \u001b[0;32mas\u001b[0m \u001b[0me\u001b[0m\u001b[0;34m:\u001b[0m\u001b[0;34m\u001b[0m\u001b[0;34m\u001b[0m\u001b[0m\n\u001b[1;32m    906\u001b[0m                 \u001b[0mself\u001b[0m\u001b[0;34m.\u001b[0m\u001b[0mlog\u001b[0m\u001b[0;34m.\u001b[0m\u001b[0mwarning\u001b[0m\u001b[0;34m(\u001b[0m\u001b[0;34m\"Invalid Message:\"\u001b[0m\u001b[0;34m,\u001b[0m \u001b[0mexc_info\u001b[0m\u001b[0;34m=\u001b[0m\u001b[0;32mTrue\u001b[0m\u001b[0;34m)\u001b[0m\u001b[0;34m\u001b[0m\u001b[0;34m\u001b[0m\u001b[0m\n",
      "\u001b[0;31mKeyboardInterrupt\u001b[0m: Interrupted by user"
     ]
    }
   ],
   "source": [
    "# use iterrows to loop through the rows and then print out the row name, input the replacement (m or f) to go\n",
    "# into the manual gender line. \n",
    "# This method will give you the index of the line and the manual gender column - you can use this to join the data \n",
    "# together (https://stackoverflow.com/questions/40468069/merge-two-dataframes-by-index) then dummify the column. \n",
    "manual_gender = []\n",
    "index_manual = []\n",
    "for index, row in detailed_officers_18_19.iterrows():\n",
    "    if row['gender_first_name']=='andy':\n",
    "        print(row['name'])\n",
    "        manual = input('male or female?')\n",
    "        index_manual.append(index)\n",
    "        manual_gender.append(manual)\n",
    "#     detailed_officers_18_19.name[detailed_officers_18_19['gender_first_name']=='andy']"
   ]
  },
  {
   "cell_type": "code",
   "execution_count": 27,
   "metadata": {},
   "outputs": [
    {
     "data": {
      "text/plain": [
       "['m']"
      ]
     },
     "execution_count": 27,
     "metadata": {},
     "output_type": "execute_result"
    }
   ],
   "source": [
    "manual_gender"
   ]
  },
  {
   "cell_type": "code",
   "execution_count": 28,
   "metadata": {},
   "outputs": [
    {
     "data": {
      "text/plain": [
       "[761]"
      ]
     },
     "execution_count": 28,
     "metadata": {},
     "output_type": "execute_result"
    }
   ],
   "source": [
    "index_manual"
   ]
  },
  {
   "cell_type": "code",
   "execution_count": 30,
   "metadata": {},
   "outputs": [],
   "source": [
    "andy_gender = pd.DataFrame(index=index_manual)\n",
    "andy_gender['manual_gender'] = manual_gender"
   ]
  },
  {
   "cell_type": "code",
   "execution_count": 31,
   "metadata": {},
   "outputs": [],
   "source": [
    "andy_gender['manual_gender'][andy_gender['manual_gender'] == 'NA'] = np.nan"
   ]
  },
  {
   "cell_type": "code",
   "execution_count": null,
   "metadata": {},
   "outputs": [],
   "source": [
    "# andy_gender.to_csv('andy_gender_18_19')"
   ]
  },
  {
   "cell_type": "code",
   "execution_count": 32,
   "metadata": {},
   "outputs": [],
   "source": [
    "andy_gender = pd.read_csv('andy_gender_18_19.csv')"
   ]
  },
  {
   "cell_type": "code",
   "execution_count": 33,
   "metadata": {},
   "outputs": [],
   "source": [
    "detailed_officers_18_19_v2 = pd.concat([detailed_officers_18_19, andy_gender], axis=1)"
   ]
  },
  {
   "cell_type": "code",
   "execution_count": 34,
   "metadata": {},
   "outputs": [
    {
     "data": {
      "text/html": [
       "<div>\n",
       "<style scoped>\n",
       "    .dataframe tbody tr th:only-of-type {\n",
       "        vertical-align: middle;\n",
       "    }\n",
       "\n",
       "    .dataframe tbody tr th {\n",
       "        vertical-align: top;\n",
       "    }\n",
       "\n",
       "    .dataframe thead th {\n",
       "        text-align: right;\n",
       "    }\n",
       "</style>\n",
       "<table border=\"1\" class=\"dataframe\">\n",
       "  <thead>\n",
       "    <tr style=\"text-align: right;\">\n",
       "      <th></th>\n",
       "      <th>company_no</th>\n",
       "      <th>name</th>\n",
       "      <th>date_appointed</th>\n",
       "      <th>date_resigned</th>\n",
       "      <th>test</th>\n",
       "      <th>first_name</th>\n",
       "      <th>middle_name_1</th>\n",
       "      <th>gender_first_name</th>\n",
       "      <th>gender_middle_name</th>\n",
       "      <th>after_2019</th>\n",
       "      <th>Unnamed: 0</th>\n",
       "      <th>manual_gender</th>\n",
       "    </tr>\n",
       "  </thead>\n",
       "  <tbody>\n",
       "    <tr>\n",
       "      <th>0</th>\n",
       "      <td>SC016876</td>\n",
       "      <td>VALENTINE, Dianne Davidson</td>\n",
       "      <td>2015-05-11</td>\n",
       "      <td>None</td>\n",
       "      <td>Dianne Davidson</td>\n",
       "      <td>Dianne</td>\n",
       "      <td>Davidson</td>\n",
       "      <td>female</td>\n",
       "      <td>male</td>\n",
       "      <td>0.0</td>\n",
       "      <td>761.0</td>\n",
       "      <td>male</td>\n",
       "    </tr>\n",
       "    <tr>\n",
       "      <th>1</th>\n",
       "      <td>SC016876</td>\n",
       "      <td>CLUBB, Malcolm Richard</td>\n",
       "      <td>2018-05-09</td>\n",
       "      <td>None</td>\n",
       "      <td>Malcolm Richard</td>\n",
       "      <td>Malcolm</td>\n",
       "      <td>Richard</td>\n",
       "      <td>male</td>\n",
       "      <td>male</td>\n",
       "      <td>0.0</td>\n",
       "      <td>780.0</td>\n",
       "      <td>male</td>\n",
       "    </tr>\n",
       "    <tr>\n",
       "      <th>2</th>\n",
       "      <td>SC016876</td>\n",
       "      <td>CUMMING, Alexander Coulson</td>\n",
       "      <td>None</td>\n",
       "      <td>None</td>\n",
       "      <td>Alexander Coulson</td>\n",
       "      <td>Alexander</td>\n",
       "      <td>Coulson</td>\n",
       "      <td>male</td>\n",
       "      <td>unknown</td>\n",
       "      <td>0.0</td>\n",
       "      <td>923.0</td>\n",
       "      <td>female</td>\n",
       "    </tr>\n",
       "    <tr>\n",
       "      <th>3</th>\n",
       "      <td>SC016876</td>\n",
       "      <td>CUMMING, Charles Nigel Coulson</td>\n",
       "      <td>None</td>\n",
       "      <td>None</td>\n",
       "      <td>Charles Nigel Coulson</td>\n",
       "      <td>Charles</td>\n",
       "      <td>Nigel</td>\n",
       "      <td>male</td>\n",
       "      <td>male</td>\n",
       "      <td>0.0</td>\n",
       "      <td>1111.0</td>\n",
       "      <td>female</td>\n",
       "    </tr>\n",
       "    <tr>\n",
       "      <th>4</th>\n",
       "      <td>SC016876</td>\n",
       "      <td>GALT, Philip Callaghan</td>\n",
       "      <td>2014-08-19</td>\n",
       "      <td>None</td>\n",
       "      <td>Philip Callaghan</td>\n",
       "      <td>Philip</td>\n",
       "      <td>Callaghan</td>\n",
       "      <td>male</td>\n",
       "      <td>unknown</td>\n",
       "      <td>0.0</td>\n",
       "      <td>1251.0</td>\n",
       "      <td>female</td>\n",
       "    </tr>\n",
       "  </tbody>\n",
       "</table>\n",
       "</div>"
      ],
      "text/plain": [
       "  company_no                            name date_appointed date_resigned  \\\n",
       "0   SC016876      VALENTINE, Dianne Davidson     2015-05-11          None   \n",
       "1   SC016876          CLUBB, Malcolm Richard     2018-05-09          None   \n",
       "2   SC016876      CUMMING, Alexander Coulson           None          None   \n",
       "3   SC016876  CUMMING, Charles Nigel Coulson           None          None   \n",
       "4   SC016876          GALT, Philip Callaghan     2014-08-19          None   \n",
       "\n",
       "                     test first_name middle_name_1 gender_first_name  \\\n",
       "0         Dianne Davidson     Dianne      Davidson            female   \n",
       "1         Malcolm Richard    Malcolm       Richard              male   \n",
       "2       Alexander Coulson  Alexander       Coulson              male   \n",
       "3   Charles Nigel Coulson    Charles         Nigel              male   \n",
       "4        Philip Callaghan     Philip     Callaghan              male   \n",
       "\n",
       "  gender_middle_name  after_2019  Unnamed: 0 manual_gender  \n",
       "0               male         0.0       761.0          male  \n",
       "1               male         0.0       780.0          male  \n",
       "2            unknown         0.0       923.0        female  \n",
       "3               male         0.0      1111.0        female  \n",
       "4            unknown         0.0      1251.0        female  "
      ]
     },
     "execution_count": 34,
     "metadata": {},
     "output_type": "execute_result"
    }
   ],
   "source": [
    "detailed_officers_18_19_v2.head()"
   ]
  },
  {
   "cell_type": "markdown",
   "metadata": {},
   "source": [
    "### Step 7: I dummified the gender columns and then for those that were listed as 'mostly female' and had a female middle name, I changed these to female. Similarly, if the first name was 'mostly male' and the middle name was male, I converted them to a male. \n",
    "    \n",
    "### I then combined all column data on gender to generate a count of male officers and female officers per country. This was then used to calculate the proportion of officers who were female. "
   ]
  },
  {
   "cell_type": "code",
   "execution_count": 35,
   "metadata": {},
   "outputs": [],
   "source": [
    "detailed_officers_18_19_v2 = pd.get_dummies(detailed_officers_18_19_v2, columns = ['gender_first_name', \n",
    "                                                                                       'gender_middle_name', \n",
    "                                                                                       'manual_gender'])"
   ]
  },
  {
   "cell_type": "code",
   "execution_count": 36,
   "metadata": {},
   "outputs": [],
   "source": [
    "detailed_officers_18_19_v2['middle_check_manual_female'] = 0\n",
    "detailed_officers_18_19_v2['middle_check_manual_male'] = 0"
   ]
  },
  {
   "cell_type": "code",
   "execution_count": 37,
   "metadata": {},
   "outputs": [
    {
     "name": "stderr",
     "output_type": "stream",
     "text": [
      "<ipython-input-37-d03c65b3ec94>:5: SettingWithCopyWarning: \n",
      "A value is trying to be set on a copy of a slice from a DataFrame\n",
      "\n",
      "See the caveats in the documentation: https://pandas.pydata.org/pandas-docs/stable/user_guide/indexing.html#returning-a-view-versus-a-copy\n",
      "  detailed_officers_18_19_v2['middle_check_manual_female'][i] = 0\n",
      "<ipython-input-37-d03c65b3ec94>:3: SettingWithCopyWarning: \n",
      "A value is trying to be set on a copy of a slice from a DataFrame\n",
      "\n",
      "See the caveats in the documentation: https://pandas.pydata.org/pandas-docs/stable/user_guide/indexing.html#returning-a-view-versus-a-copy\n",
      "  detailed_officers_18_19_v2['middle_check_manual_female'][i] = 1\n"
     ]
    }
   ],
   "source": [
    "for i, line in enumerate(detailed_officers_18_19_v2['gender_first_name_mostly_female']):\n",
    "    if line == 1 and detailed_officers_18_19_v2['gender_middle_name_female'][i] == 1:\n",
    "        detailed_officers_18_19_v2['middle_check_manual_female'][i] = 1\n",
    "    else:\n",
    "        detailed_officers_18_19_v2['middle_check_manual_female'][i] = 0"
   ]
  },
  {
   "cell_type": "code",
   "execution_count": 38,
   "metadata": {},
   "outputs": [
    {
     "name": "stderr",
     "output_type": "stream",
     "text": [
      "<ipython-input-38-89937c617260>:5: SettingWithCopyWarning: \n",
      "A value is trying to be set on a copy of a slice from a DataFrame\n",
      "\n",
      "See the caveats in the documentation: https://pandas.pydata.org/pandas-docs/stable/user_guide/indexing.html#returning-a-view-versus-a-copy\n",
      "  detailed_officers_18_19_v2['middle_check_manual_male'][i] = 0\n",
      "<ipython-input-38-89937c617260>:3: SettingWithCopyWarning: \n",
      "A value is trying to be set on a copy of a slice from a DataFrame\n",
      "\n",
      "See the caveats in the documentation: https://pandas.pydata.org/pandas-docs/stable/user_guide/indexing.html#returning-a-view-versus-a-copy\n",
      "  detailed_officers_18_19_v2['middle_check_manual_male'][i] = 1\n"
     ]
    }
   ],
   "source": [
    "for i, line in enumerate(detailed_officers_18_19_v2['gender_first_name_mostly_male']):\n",
    "    if line == 1 and detailed_officers_18_19_v2['gender_middle_name_male'][i] == 1:\n",
    "        detailed_officers_18_19_v2['middle_check_manual_male'][i] = 1\n",
    "    else:\n",
    "        detailed_officers_18_19_v2['middle_check_manual_male'][i] = 0"
   ]
  },
  {
   "cell_type": "code",
   "execution_count": 39,
   "metadata": {},
   "outputs": [
    {
     "data": {
      "text/plain": [
       "0    161214\n",
       "1       440\n",
       "Name: middle_check_manual_female, dtype: int64"
      ]
     },
     "execution_count": 39,
     "metadata": {},
     "output_type": "execute_result"
    }
   ],
   "source": [
    "detailed_officers_18_19_v2['middle_check_manual_female'].value_counts()"
   ]
  },
  {
   "cell_type": "code",
   "execution_count": 40,
   "metadata": {},
   "outputs": [
    {
     "data": {
      "text/plain": [
       "0    160518\n",
       "1      1136\n",
       "Name: middle_check_manual_male, dtype: int64"
      ]
     },
     "execution_count": 40,
     "metadata": {},
     "output_type": "execute_result"
    }
   ],
   "source": [
    "detailed_officers_18_19_v2['middle_check_manual_male'].value_counts()"
   ]
  },
  {
   "cell_type": "code",
   "execution_count": 41,
   "metadata": {},
   "outputs": [
    {
     "data": {
      "text/html": [
       "<div>\n",
       "<style scoped>\n",
       "    .dataframe tbody tr th:only-of-type {\n",
       "        vertical-align: middle;\n",
       "    }\n",
       "\n",
       "    .dataframe tbody tr th {\n",
       "        vertical-align: top;\n",
       "    }\n",
       "\n",
       "    .dataframe thead th {\n",
       "        text-align: right;\n",
       "    }\n",
       "</style>\n",
       "<table border=\"1\" class=\"dataframe\">\n",
       "  <thead>\n",
       "    <tr style=\"text-align: right;\">\n",
       "      <th></th>\n",
       "      <th>company_no</th>\n",
       "      <th>name</th>\n",
       "      <th>date_appointed</th>\n",
       "      <th>date_resigned</th>\n",
       "      <th>test</th>\n",
       "      <th>first_name</th>\n",
       "      <th>middle_name_1</th>\n",
       "      <th>after_2019</th>\n",
       "      <th>Unnamed: 0</th>\n",
       "      <th>gender_first_name_andy</th>\n",
       "      <th>...</th>\n",
       "      <th>gender_middle_name_andy</th>\n",
       "      <th>gender_middle_name_female</th>\n",
       "      <th>gender_middle_name_male</th>\n",
       "      <th>gender_middle_name_mostly_female</th>\n",
       "      <th>gender_middle_name_mostly_male</th>\n",
       "      <th>gender_middle_name_unknown</th>\n",
       "      <th>manual_gender_female</th>\n",
       "      <th>manual_gender_male</th>\n",
       "      <th>middle_check_manual_female</th>\n",
       "      <th>middle_check_manual_male</th>\n",
       "    </tr>\n",
       "  </thead>\n",
       "  <tbody>\n",
       "    <tr>\n",
       "      <th>0</th>\n",
       "      <td>SC016876</td>\n",
       "      <td>VALENTINE, Dianne Davidson</td>\n",
       "      <td>2015-05-11</td>\n",
       "      <td>None</td>\n",
       "      <td>Dianne Davidson</td>\n",
       "      <td>Dianne</td>\n",
       "      <td>Davidson</td>\n",
       "      <td>0.0</td>\n",
       "      <td>761.0</td>\n",
       "      <td>0</td>\n",
       "      <td>...</td>\n",
       "      <td>0</td>\n",
       "      <td>0</td>\n",
       "      <td>1</td>\n",
       "      <td>0</td>\n",
       "      <td>0</td>\n",
       "      <td>0</td>\n",
       "      <td>0</td>\n",
       "      <td>1</td>\n",
       "      <td>0</td>\n",
       "      <td>0</td>\n",
       "    </tr>\n",
       "    <tr>\n",
       "      <th>1</th>\n",
       "      <td>SC016876</td>\n",
       "      <td>CLUBB, Malcolm Richard</td>\n",
       "      <td>2018-05-09</td>\n",
       "      <td>None</td>\n",
       "      <td>Malcolm Richard</td>\n",
       "      <td>Malcolm</td>\n",
       "      <td>Richard</td>\n",
       "      <td>0.0</td>\n",
       "      <td>780.0</td>\n",
       "      <td>0</td>\n",
       "      <td>...</td>\n",
       "      <td>0</td>\n",
       "      <td>0</td>\n",
       "      <td>1</td>\n",
       "      <td>0</td>\n",
       "      <td>0</td>\n",
       "      <td>0</td>\n",
       "      <td>0</td>\n",
       "      <td>1</td>\n",
       "      <td>0</td>\n",
       "      <td>0</td>\n",
       "    </tr>\n",
       "    <tr>\n",
       "      <th>2</th>\n",
       "      <td>SC016876</td>\n",
       "      <td>CUMMING, Alexander Coulson</td>\n",
       "      <td>None</td>\n",
       "      <td>None</td>\n",
       "      <td>Alexander Coulson</td>\n",
       "      <td>Alexander</td>\n",
       "      <td>Coulson</td>\n",
       "      <td>0.0</td>\n",
       "      <td>923.0</td>\n",
       "      <td>0</td>\n",
       "      <td>...</td>\n",
       "      <td>0</td>\n",
       "      <td>0</td>\n",
       "      <td>0</td>\n",
       "      <td>0</td>\n",
       "      <td>0</td>\n",
       "      <td>1</td>\n",
       "      <td>1</td>\n",
       "      <td>0</td>\n",
       "      <td>0</td>\n",
       "      <td>0</td>\n",
       "    </tr>\n",
       "    <tr>\n",
       "      <th>3</th>\n",
       "      <td>SC016876</td>\n",
       "      <td>CUMMING, Charles Nigel Coulson</td>\n",
       "      <td>None</td>\n",
       "      <td>None</td>\n",
       "      <td>Charles Nigel Coulson</td>\n",
       "      <td>Charles</td>\n",
       "      <td>Nigel</td>\n",
       "      <td>0.0</td>\n",
       "      <td>1111.0</td>\n",
       "      <td>0</td>\n",
       "      <td>...</td>\n",
       "      <td>0</td>\n",
       "      <td>0</td>\n",
       "      <td>1</td>\n",
       "      <td>0</td>\n",
       "      <td>0</td>\n",
       "      <td>0</td>\n",
       "      <td>1</td>\n",
       "      <td>0</td>\n",
       "      <td>0</td>\n",
       "      <td>0</td>\n",
       "    </tr>\n",
       "    <tr>\n",
       "      <th>4</th>\n",
       "      <td>SC016876</td>\n",
       "      <td>GALT, Philip Callaghan</td>\n",
       "      <td>2014-08-19</td>\n",
       "      <td>None</td>\n",
       "      <td>Philip Callaghan</td>\n",
       "      <td>Philip</td>\n",
       "      <td>Callaghan</td>\n",
       "      <td>0.0</td>\n",
       "      <td>1251.0</td>\n",
       "      <td>0</td>\n",
       "      <td>...</td>\n",
       "      <td>0</td>\n",
       "      <td>0</td>\n",
       "      <td>0</td>\n",
       "      <td>0</td>\n",
       "      <td>0</td>\n",
       "      <td>1</td>\n",
       "      <td>1</td>\n",
       "      <td>0</td>\n",
       "      <td>0</td>\n",
       "      <td>0</td>\n",
       "    </tr>\n",
       "  </tbody>\n",
       "</table>\n",
       "<p>5 rows × 24 columns</p>\n",
       "</div>"
      ],
      "text/plain": [
       "  company_no                            name date_appointed date_resigned  \\\n",
       "0   SC016876      VALENTINE, Dianne Davidson     2015-05-11          None   \n",
       "1   SC016876          CLUBB, Malcolm Richard     2018-05-09          None   \n",
       "2   SC016876      CUMMING, Alexander Coulson           None          None   \n",
       "3   SC016876  CUMMING, Charles Nigel Coulson           None          None   \n",
       "4   SC016876          GALT, Philip Callaghan     2014-08-19          None   \n",
       "\n",
       "                     test first_name middle_name_1  after_2019  Unnamed: 0  \\\n",
       "0         Dianne Davidson     Dianne      Davidson         0.0       761.0   \n",
       "1         Malcolm Richard    Malcolm       Richard         0.0       780.0   \n",
       "2       Alexander Coulson  Alexander       Coulson         0.0       923.0   \n",
       "3   Charles Nigel Coulson    Charles         Nigel         0.0      1111.0   \n",
       "4        Philip Callaghan     Philip     Callaghan         0.0      1251.0   \n",
       "\n",
       "   gender_first_name_andy  ...  gender_middle_name_andy  \\\n",
       "0                       0  ...                        0   \n",
       "1                       0  ...                        0   \n",
       "2                       0  ...                        0   \n",
       "3                       0  ...                        0   \n",
       "4                       0  ...                        0   \n",
       "\n",
       "   gender_middle_name_female  gender_middle_name_male  \\\n",
       "0                          0                        1   \n",
       "1                          0                        1   \n",
       "2                          0                        0   \n",
       "3                          0                        1   \n",
       "4                          0                        0   \n",
       "\n",
       "   gender_middle_name_mostly_female  gender_middle_name_mostly_male  \\\n",
       "0                                 0                               0   \n",
       "1                                 0                               0   \n",
       "2                                 0                               0   \n",
       "3                                 0                               0   \n",
       "4                                 0                               0   \n",
       "\n",
       "   gender_middle_name_unknown  manual_gender_female  manual_gender_male  \\\n",
       "0                           0                     0                   1   \n",
       "1                           0                     0                   1   \n",
       "2                           1                     1                   0   \n",
       "3                           0                     1                   0   \n",
       "4                           1                     1                   0   \n",
       "\n",
       "   middle_check_manual_female  middle_check_manual_male  \n",
       "0                           0                         0  \n",
       "1                           0                         0  \n",
       "2                           0                         0  \n",
       "3                           0                         0  \n",
       "4                           0                         0  \n",
       "\n",
       "[5 rows x 24 columns]"
      ]
     },
     "execution_count": 41,
     "metadata": {},
     "output_type": "execute_result"
    }
   ],
   "source": [
    "detailed_officers_18_19_v2.head()"
   ]
  },
  {
   "cell_type": "code",
   "execution_count": 42,
   "metadata": {},
   "outputs": [],
   "source": [
    "detailed_officers_18_19_v2['female_final'] = detailed_officers_18_19_v2.gender_first_name_female + \\\n",
    "detailed_officers_18_19_v2.manual_gender_female + detailed_officers_18_19_v2.middle_check_manual_female"
   ]
  },
  {
   "cell_type": "code",
   "execution_count": 43,
   "metadata": {},
   "outputs": [],
   "source": [
    "detailed_officers_18_19_v2['male_final'] = detailed_officers_18_19_v2.gender_first_name_male + \\\n",
    "detailed_officers_18_19_v2.manual_gender_male + detailed_officers_18_19_v2.middle_check_manual_male"
   ]
  },
  {
   "cell_type": "code",
   "execution_count": 44,
   "metadata": {},
   "outputs": [
    {
     "data": {
      "text/plain": [
       "0    134700\n",
       "1     26775\n",
       "2       179\n",
       "Name: female_final, dtype: int64"
      ]
     },
     "execution_count": 44,
     "metadata": {},
     "output_type": "execute_result"
    }
   ],
   "source": [
    "detailed_officers_18_19_v2.female_final.value_counts()"
   ]
  },
  {
   "cell_type": "code",
   "execution_count": 45,
   "metadata": {},
   "outputs": [],
   "source": [
    "detailed_officers_18_19_v2['filter'] = 0"
   ]
  },
  {
   "cell_type": "code",
   "execution_count": null,
   "metadata": {},
   "outputs": [],
   "source": [
    "# for i, line in enumerate(detailed_officers_18_19_v2['female_final']):\n",
    "#     if line == 1 or detailed_officers_18_19_v2['male_final'][i] == 1:\n",
    "#         detailed_officers_18_19_v2['filter'][i] = 1\n",
    "#     else:\n",
    "#         detailed_officers_18_19_v2['filter'][i] = np.nan"
   ]
  },
  {
   "cell_type": "code",
   "execution_count": 46,
   "metadata": {},
   "outputs": [],
   "source": [
    "detailed_officers_18_19_v2.dropna(subset=['filter'], inplace=True)"
   ]
  },
  {
   "cell_type": "code",
   "execution_count": 47,
   "metadata": {},
   "outputs": [],
   "source": [
    "grouped_by_company = detailed_officers_18_19_v2.groupby('company_no')\n",
    "final_gendercount_18_19 = grouped_by_company.sum()"
   ]
  },
  {
   "cell_type": "code",
   "execution_count": 48,
   "metadata": {},
   "outputs": [
    {
     "data": {
      "text/plain": [
       "Index(['after_2019', 'Unnamed: 0', 'gender_first_name_andy',\n",
       "       'gender_first_name_female', 'gender_first_name_male',\n",
       "       'gender_first_name_mostly_female', 'gender_first_name_mostly_male',\n",
       "       'gender_middle_name_andy', 'gender_middle_name_female',\n",
       "       'gender_middle_name_male', 'gender_middle_name_mostly_female',\n",
       "       'gender_middle_name_mostly_male', 'gender_middle_name_unknown',\n",
       "       'manual_gender_female', 'manual_gender_male',\n",
       "       'middle_check_manual_female', 'middle_check_manual_male',\n",
       "       'female_final', 'male_final', 'filter'],\n",
       "      dtype='object')"
      ]
     },
     "execution_count": 48,
     "metadata": {},
     "output_type": "execute_result"
    }
   ],
   "source": [
    "final_gendercount_18_19.columns"
   ]
  },
  {
   "cell_type": "code",
   "execution_count": 49,
   "metadata": {},
   "outputs": [],
   "source": [
    "final_gendercount_18_19.drop(columns = ['after_2019', 'gender_first_name_andy',\n",
    "       'gender_first_name_female', 'gender_first_name_male',\n",
    "       'gender_first_name_mostly_female', 'gender_first_name_mostly_male',\n",
    "       'gender_middle_name_andy', 'gender_middle_name_female',\n",
    "       'gender_middle_name_male', 'gender_middle_name_mostly_female',\n",
    "       'gender_middle_name_mostly_male', 'gender_middle_name_unknown',\n",
    "       'manual_gender_female', 'manual_gender_male',\n",
    "       'middle_check_manual_female', 'middle_check_manual_male', 'filter'], inplace=True)"
   ]
  },
  {
   "cell_type": "code",
   "execution_count": 50,
   "metadata": {},
   "outputs": [],
   "source": [
    "final_gendercount_18_19['percent_female_officer'] = \\\n",
    "    final_gendercount_18_19.female_final/(final_gendercount_18_19.female_final+final_gendercount_18_19.male_final)"
   ]
  },
  {
   "cell_type": "code",
   "execution_count": 51,
   "metadata": {},
   "outputs": [],
   "source": [
    "# final_gendercount_18_19.to_csv('final_gendercount_18_19', index='company_no')"
   ]
  },
  {
   "cell_type": "code",
   "execution_count": 52,
   "metadata": {},
   "outputs": [],
   "source": [
    "final_gendercount_18_19 = pd.read_csv('final_gendercount_18_19.csv')"
   ]
  },
  {
   "cell_type": "code",
   "execution_count": 53,
   "metadata": {},
   "outputs": [],
   "source": [
    "final_gendercount_18_19.set_index(keys = 'company_no', inplace=True)"
   ]
  },
  {
   "cell_type": "code",
   "execution_count": 54,
   "metadata": {},
   "outputs": [
    {
     "data": {
      "text/html": [
       "<div>\n",
       "<style scoped>\n",
       "    .dataframe tbody tr th:only-of-type {\n",
       "        vertical-align: middle;\n",
       "    }\n",
       "\n",
       "    .dataframe tbody tr th {\n",
       "        vertical-align: top;\n",
       "    }\n",
       "\n",
       "    .dataframe thead th {\n",
       "        text-align: right;\n",
       "    }\n",
       "</style>\n",
       "<table border=\"1\" class=\"dataframe\">\n",
       "  <thead>\n",
       "    <tr style=\"text-align: right;\">\n",
       "      <th></th>\n",
       "      <th>female_final</th>\n",
       "      <th>male_final</th>\n",
       "      <th>percent_female_officer</th>\n",
       "    </tr>\n",
       "  </thead>\n",
       "  <tbody>\n",
       "    <tr>\n",
       "      <th>count</th>\n",
       "      <td>7810.000000</td>\n",
       "      <td>7810.000000</td>\n",
       "      <td>7810.000000</td>\n",
       "    </tr>\n",
       "    <tr>\n",
       "      <th>mean</th>\n",
       "      <td>3.521767</td>\n",
       "      <td>16.173367</td>\n",
       "      <td>0.187136</td>\n",
       "    </tr>\n",
       "    <tr>\n",
       "      <th>std</th>\n",
       "      <td>3.484793</td>\n",
       "      <td>8.873243</td>\n",
       "      <td>0.163375</td>\n",
       "    </tr>\n",
       "    <tr>\n",
       "      <th>min</th>\n",
       "      <td>0.000000</td>\n",
       "      <td>0.000000</td>\n",
       "      <td>0.000000</td>\n",
       "    </tr>\n",
       "    <tr>\n",
       "      <th>25%</th>\n",
       "      <td>1.000000</td>\n",
       "      <td>9.000000</td>\n",
       "      <td>0.066667</td>\n",
       "    </tr>\n",
       "    <tr>\n",
       "      <th>50%</th>\n",
       "      <td>3.000000</td>\n",
       "      <td>16.000000</td>\n",
       "      <td>0.151515</td>\n",
       "    </tr>\n",
       "    <tr>\n",
       "      <th>75%</th>\n",
       "      <td>5.000000</td>\n",
       "      <td>24.000000</td>\n",
       "      <td>0.266667</td>\n",
       "    </tr>\n",
       "    <tr>\n",
       "      <th>max</th>\n",
       "      <td>24.000000</td>\n",
       "      <td>35.000000</td>\n",
       "      <td>1.000000</td>\n",
       "    </tr>\n",
       "  </tbody>\n",
       "</table>\n",
       "</div>"
      ],
      "text/plain": [
       "       female_final   male_final  percent_female_officer\n",
       "count   7810.000000  7810.000000             7810.000000\n",
       "mean       3.521767    16.173367                0.187136\n",
       "std        3.484793     8.873243                0.163375\n",
       "min        0.000000     0.000000                0.000000\n",
       "25%        1.000000     9.000000                0.066667\n",
       "50%        3.000000    16.000000                0.151515\n",
       "75%        5.000000    24.000000                0.266667\n",
       "max       24.000000    35.000000                1.000000"
      ]
     },
     "execution_count": 54,
     "metadata": {},
     "output_type": "execute_result"
    }
   ],
   "source": [
    "final_gendercount_18_19.describe()"
   ]
  },
  {
   "cell_type": "code",
   "execution_count": 57,
   "metadata": {},
   "outputs": [
    {
     "data": {
      "text/html": [
       "<div>\n",
       "<style scoped>\n",
       "    .dataframe tbody tr th:only-of-type {\n",
       "        vertical-align: middle;\n",
       "    }\n",
       "\n",
       "    .dataframe tbody tr th {\n",
       "        vertical-align: top;\n",
       "    }\n",
       "\n",
       "    .dataframe thead th {\n",
       "        text-align: right;\n",
       "    }\n",
       "</style>\n",
       "<table border=\"1\" class=\"dataframe\">\n",
       "  <thead>\n",
       "    <tr style=\"text-align: right;\">\n",
       "      <th></th>\n",
       "      <th>female_final</th>\n",
       "      <th>male_final</th>\n",
       "      <th>percent_female_officer</th>\n",
       "    </tr>\n",
       "    <tr>\n",
       "      <th>company_no</th>\n",
       "      <th></th>\n",
       "      <th></th>\n",
       "      <th></th>\n",
       "    </tr>\n",
       "  </thead>\n",
       "  <tbody>\n",
       "    <tr>\n",
       "      <th>00006400</th>\n",
       "      <td>23</td>\n",
       "      <td>12</td>\n",
       "      <td>0.657143</td>\n",
       "    </tr>\n",
       "    <tr>\n",
       "      <th>00231824</th>\n",
       "      <td>18</td>\n",
       "      <td>13</td>\n",
       "      <td>0.580645</td>\n",
       "    </tr>\n",
       "    <tr>\n",
       "      <th>00232081</th>\n",
       "      <td>17</td>\n",
       "      <td>14</td>\n",
       "      <td>0.548387</td>\n",
       "    </tr>\n",
       "    <tr>\n",
       "      <th>00353341</th>\n",
       "      <td>17</td>\n",
       "      <td>13</td>\n",
       "      <td>0.566667</td>\n",
       "    </tr>\n",
       "    <tr>\n",
       "      <th>00430051</th>\n",
       "      <td>5</td>\n",
       "      <td>3</td>\n",
       "      <td>0.625000</td>\n",
       "    </tr>\n",
       "  </tbody>\n",
       "</table>\n",
       "</div>"
      ],
      "text/plain": [
       "            female_final  male_final  percent_female_officer\n",
       "company_no                                                  \n",
       "00006400              23          12                0.657143\n",
       "00231824              18          13                0.580645\n",
       "00232081              17          14                0.548387\n",
       "00353341              17          13                0.566667\n",
       "00430051               5           3                0.625000"
      ]
     },
     "execution_count": 57,
     "metadata": {},
     "output_type": "execute_result"
    }
   ],
   "source": [
    "final_gendercount_18_19[final_gendercount_18_19['percent_female_officer'] >= 0.5].head()"
   ]
  },
  {
   "cell_type": "markdown",
   "metadata": {},
   "source": [
    "### Interesting that only 500/ 7800 companies have 50% or more female officers whereas 7300 have >50% male officers. "
   ]
  }
 ],
 "metadata": {
  "kernelspec": {
   "display_name": "Python 3",
   "language": "python",
   "name": "python3"
  },
  "language_info": {
   "codemirror_mode": {
    "name": "ipython",
    "version": 3
   },
   "file_extension": ".py",
   "mimetype": "text/x-python",
   "name": "python",
   "nbconvert_exporter": "python",
   "pygments_lexer": "ipython3",
   "version": "3.8.5"
  }
 },
 "nbformat": 4,
 "nbformat_minor": 4
}
